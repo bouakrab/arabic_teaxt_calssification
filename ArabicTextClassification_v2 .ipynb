{
 "cells": [
  {
   "cell_type": "markdown",
   "metadata": {
    "id": "KzpHaDGLKwr_"
   },
   "source": [
    "\n",
    "\n",
    "\n",
    "<h1 style=\"color:#3f8088; font-style:italic; font-family:Cursive;\"> <center>ARABIC TEXT CLASSIFICATION</center> </h1>\n",
    "\n",
    " "
   ]
  },
  {
   "cell_type": "markdown",
   "metadata": {
    "id": "WBjJAdDj2g0L"
   },
   "source": [
    "<a id = '2'></a>\n",
    "<h1 style='border-radius:10px; background-color:#3f8088; font-size:180%; color:#b9f6f6; text-align: center; font-style:italic; font-family: Cursive'><center>Dataset : khaleej +arabiya +MetRec </center></h1> "
   ]
  },
  {
   "cell_type": "markdown",
   "metadata": {
    "id": "cYwAY1RCMiM0"
   },
   "source": [
    "<div style=\"border-radius:10px;\n",
    "            background-color:#ffffff;\n",
    "            border-style: solid;\n",
    "            border-color: #3f8088;\n",
    "            letter-spacing:0.5px;\n",
    "            font-family: Cursive; \n",
    "            font-size:16px;\n",
    "            padding: 10px;\">\n",
    "    \n",
    "\n",
    "REALISED BY:\n",
    "    \n",
    "BBIRRI KHADIJA\n",
    "    \n",
    "BOUAKRAB MOHAMMED"
   ]
  },
  {
   "cell_type": "code",
   "execution_count": 1,
   "metadata": {
    "id": "xKxIXq39dNEm"
   },
   "outputs": [],
   "source": [
    "\n",
    "import os\n",
    "import tensorflow as tf\n",
    "import numpy as np\n",
    "import matplotlib.pyplot as plt\n",
    "import pandas as pd \n",
    "from mpl_toolkits.mplot3d import Axes3D\n",
    "from sklearn.preprocessing import StandardScaler\n",
    "import matplotlib.pyplot as plt # plotting\n",
    "import numpy as np # linear algebra\n",
    "import os # accessing directory structure\n",
    "import pandas as pd # data processing, CSV file I/O (e.g. pd.read_csv)\n",
    "import tensorflow as tf\n",
    "\n",
    "from sklearn.feature_extraction.text import TfidfVectorizer\n",
    "from sklearn.decomposition import LatentDirichletAllocation\n",
    "from sklearn.feature_extraction.text import CountVectorizer\n",
    "from keras.preprocessing import sequence, text\n",
    "from keras.layers import Input, Embedding\n",
    "import nltk\n",
    "from nltk import word_tokenize\n",
    "from nltk.corpus import stopwords\n",
    "from textblob import TextBlob\n",
    "from collections import Counter #counting of words in the texts\n",
    "import operator\n",
    "import datetime as dt\n",
    "import pandas as pd\n",
    "import numpy as np\n",
    "import warnings\n",
    "import string\n",
    "import re\n",
    "warnings.filterwarnings('ignore')"
   ]
  },
  {
   "cell_type": "markdown",
   "metadata": {
    "id": "HhzUYUDK_aAj"
   },
   "source": [
    "<a id = '2'></a>\n",
    "## <h1 style='border-radius:10px; background-color:#3f8088; font-size:180%; color:#b9f6f6; text-align: center; font-style:italic; font-family: Cursive'><center> ## MetRec Dataset </center></h1> "
   ]
  },
  {
   "cell_type": "code",
   "execution_count": 2,
   "metadata": {
    "id": "privQWsxudyK"
   },
   "outputs": [],
   "source": [
    "# Define path to zip file and directory to extract\n",
    "zip_path = '/content/MetRec.zip'\n",
    "extract_path = '/content/MetRec'\n",
    "# Create a GPU device to use\n",
    "device = '/device:GPU:0'\n",
    "# Define a function to unzip the file\n",
    "def unzip_file(zip_path, extract_path):\n",
    "    with tf.device(device):\n",
    "        os.system('unzip -q {} -d {}'.format(zip_path, extract_path))\n",
    "# Call the function to unzip the file\n",
    "unzip_file(zip_path, extract_path)"
   ]
  },
  {
   "cell_type": "code",
   "execution_count": 3,
   "metadata": {
    "id": "YMHOuOWmu-CE"
   },
   "outputs": [],
   "source": [
    "with open('MetRec/final_baits/labels.txt', 'r') as f:\n",
    "  label2name = f.readlines()\n",
    "  label2name = [name.replace('\\n', '') for name in label2name]"
   ]
  },
  {
   "cell_type": "code",
   "execution_count": 4,
   "metadata": {
    "colab": {
     "base_uri": "https://localhost:8080/"
    },
    "id": "WH8UuYrsv6DG",
    "outputId": "3716c3dc-e938-4859-c353-3f6d5b08ca2e"
   },
   "outputs": [
    {
     "name": "stdout",
     "output_type": "stream",
     "text": [
      "Looking in indexes: https://pypi.org/simple, https://us-python.pkg.dev/colab-wheels/public/simple/\n",
      "Collecting pyarabic\n",
      "  Downloading PyArabic-0.6.15-py3-none-any.whl (126 kB)\n",
      "\u001b[2K     \u001b[90m━━━━━━━━━━━━━━━━━━━━━━━━━━━━━━━━━━━━━━━\u001b[0m \u001b[32m126.4/126.4 KB\u001b[0m \u001b[31m4.0 MB/s\u001b[0m eta \u001b[36m0:00:00\u001b[0m\n",
      "\u001b[?25hRequirement already satisfied: six>=1.14.0 in /usr/local/lib/python3.9/dist-packages (from pyarabic) (1.15.0)\n",
      "Installing collected packages: pyarabic\n",
      "Successfully installed pyarabic-0.6.15\n"
     ]
    }
   ],
   "source": [
    "!pip install pyarabic"
   ]
  },
  {
   "cell_type": "code",
   "execution_count": 5,
   "metadata": {
    "id": "OWOQ4jeMvm9i"
   },
   "outputs": [],
   "source": [
    "from pyarabic import araby\n",
    "from random import shuffle\n",
    "import random\n",
    "\n",
    "# Read, then decode for py2 compat.\n",
    "def extract_data(path, thresh = 70, on_shatrs = False):\n",
    "  global vocab\n",
    "  \n",
    "  text = \"\"\n",
    "  \n",
    "  X = []\n",
    "  y = []\n",
    "    \n",
    "  t = open(path, 'r').read()\n",
    "  t = araby.strip_tashkeel(t)\n",
    "  \n",
    "  # remove some exteranous chars \n",
    "  execluded = '!()*-ـ.:=o[]«»;؛,،~?؟\\u200f\\ufeffـ'\n",
    "  out = \"\"\n",
    "  \n",
    "  for char in t:\n",
    "    if char not in execluded:\n",
    "      out += char\n",
    "  text += out\n",
    "  baits = out.split('\\n')\n",
    "  for line in baits:\n",
    "    if len(line) <= 1:\n",
    "      continue\n",
    "    label, bait = line.split(' ', 1)\n",
    "    label = int(label)\n",
    "\n",
    "    bait  = bait.strip()\n",
    "    if on_shatrs:\n",
    "      shatrs = bait.split('#')\n",
    "      for shatr in shatrs:\n",
    "        X.append(shatr.strip())\n",
    "        y.append(label)\n",
    "    else:\n",
    "      X.append(bait.strip())\n",
    "      y.append(label)\n",
    "  \n",
    "  #create the vocab \n",
    "  vocab = sorted(set(' '.join(X)))  \n",
    "  \n",
    "  #shuffle the data \n",
    " # X, y = shuffle(X, y)\n",
    "  return X, y"
   ]
  },
  {
   "cell_type": "code",
   "execution_count": 6,
   "metadata": {
    "id": "YtCz9VefwT4u"
   },
   "outputs": [],
   "source": [
    "X, y = extract_data(\"MetRec/final_baits/train.txt\", on_shatrs=False)"
   ]
  },
  {
   "cell_type": "code",
   "execution_count": 7,
   "metadata": {
    "colab": {
     "base_uri": "https://localhost:8080/"
    },
    "id": "ogCMXEzZxh6c",
    "outputId": "e7523fab-c0d4-462a-ba74-f5e5cada988f"
   },
   "outputs": [
    {
     "name": "stdout",
     "output_type": "stream",
     "text": [
      "يا ضيف طيف ما هداه لمضجعي # إلا لهيب في الحشى يتوقد   kamel\n",
      "إمامك الصبح كم يشكو دجى ووجى # فظاظة الشوك قد تفضي إلى الرطب   baseet\n",
      "وعيون نرجه لنحوك قد رنت # وغدت تشير اليك بالايماء   kamel\n",
      "قطعت مكاتبتي عنكم # لأجل حديث إليكم يساق   mutakareb\n",
      "ليخف صاحب الديانة والصو # ن مقالا من جاهل يتحظى   khafeef\n",
      "تعجبوا من عراقي بلا سفه # ولا نفاق ولا خبث ولا كذب   baseet\n",
      "تحاذر أملاك البسيطة صوله # ويأمن من صولاتها ما تحاذر   taweel\n",
      "تذكر بالحما إذ شام برقا # زمان اللهو منتسق النظام   wafer\n",
      "لقد كذب الذين طغوا فقالوا # أتى من ربنا أمر برمز   wafer\n",
      "وما بذلوا إلا نفوسا نفيسة # تحن إلى الأخرى حنين الروائم   taweel\n"
     ]
    }
   ],
   "source": [
    "\n",
    "for i in range(10):\n",
    "  print(X[i], ' ', label2name[y[i]])"
   ]
  },
  {
   "cell_type": "code",
   "execution_count": 8,
   "metadata": {
    "id": "7gUSvLuPxxOU"
   },
   "outputs": [],
   "source": [
    "from sklearn.model_selection import train_test_split\n",
    "X_train, X_test , y_train, y_test = train_test_split(X, y, test_size = 0.15, random_state = 41)\n"
   ]
  },
  {
   "cell_type": "code",
   "execution_count": 9,
   "metadata": {
    "id": "Fg-GvGnSx_p5"
   },
   "outputs": [],
   "source": [
    "from keras.preprocessing.text import Tokenizer, text_to_word_sequence\n",
    "from keras.utils import pad_sequences\n",
    "# Creating a mapping from unique characters to indices\n",
    "char2idx = {u:i+1 for i, u in enumerate(vocab)}\n",
    "\n",
    "def to_sequences(X):\n",
    "  X = [[char2idx[char] for char in line] for line in X]\n",
    "  X = pad_sequences(X, padding='post', value=0, maxlen = 100)\n",
    "  return X\n",
    " \n",
    "X_train = to_sequences(X_train)\n",
    "X_test = to_sequences(X_test)\n",
    "\n",
    "y_train = np.array(y_train)\n",
    "y_test = np.array(y_test)"
   ]
  },
  {
   "cell_type": "markdown",
   "metadata": {
    "id": "tIa3QzoEQVdk"
   },
   "source": [
    "\n",
    "\n",
    "\n",
    "<h1 style=\"color:#3f8088; font-style:italic; font-family:Cursive;\"> <center>RNN AND GRU</center> </h1>\n",
    "\n",
    " "
   ]
  },
  {
   "cell_type": "code",
   "execution_count": 10,
   "metadata": {
    "id": "vc5dWch8yngj"
   },
   "outputs": [],
   "source": [
    "from keras.layers import GRU, Embedding, Dense, Input, Dropout, Bidirectional, BatchNormalization, Flatten, Reshape\n",
    "from keras.models import Sequential\n",
    "model = Sequential()\n",
    "model.add(Input((100,)))\n",
    "model.add(Embedding(len(char2idx)+1, 256))\n",
    "model.add(Bidirectional(GRU(units = 256, return_sequences=True)))\n",
    "model.add(Bidirectional(GRU(units = 256, return_sequences=True)))\n",
    "model.add(Bidirectional(GRU(units = 256)))\n",
    "model.add(Dense(128, activation = 'relu'))\n",
    "model.add(Dropout(0.3))\n",
    "model.add(Dense(len(label2name), activation = 'softmax'))\n",
    "model.compile(optimizer = 'adam', loss = 'sparse_categorical_crossentropy', metrics = ['accuracy'])"
   ]
  },
  {
   "cell_type": "code",
   "execution_count": 11,
   "metadata": {
    "colab": {
     "base_uri": "https://localhost:8080/"
    },
    "id": "OIXaVymxy3g7",
    "outputId": "a5069ced-220c-4fe1-b0b6-d7ecb9e1183e"
   },
   "outputs": [
    {
     "name": "stdout",
     "output_type": "stream",
     "text": [
      "Model: \"sequential\"\n",
      "_________________________________________________________________\n",
      " Layer (type)                Output Shape              Param #   \n",
      "=================================================================\n",
      " embedding (Embedding)       (None, 100, 256)          9984      \n",
      "                                                                 \n",
      " bidirectional (Bidirectiona  (None, 100, 512)         789504    \n",
      " l)                                                              \n",
      "                                                                 \n",
      " bidirectional_1 (Bidirectio  (None, 100, 512)         1182720   \n",
      " nal)                                                            \n",
      "                                                                 \n",
      " bidirectional_2 (Bidirectio  (None, 512)              1182720   \n",
      " nal)                                                            \n",
      "                                                                 \n",
      " dense (Dense)               (None, 128)               65664     \n",
      "                                                                 \n",
      " dropout (Dropout)           (None, 128)               0         \n",
      "                                                                 \n",
      " dense_1 (Dense)             (None, 14)                1806      \n",
      "                                                                 \n",
      "=================================================================\n",
      "Total params: 3,232,398\n",
      "Trainable params: 3,232,398\n",
      "Non-trainable params: 0\n",
      "_________________________________________________________________\n"
     ]
    }
   ],
   "source": [
    "model.summary()"
   ]
  },
  {
   "cell_type": "code",
   "execution_count": 12,
   "metadata": {
    "colab": {
     "base_uri": "https://localhost:8080/"
    },
    "id": "Qt8IUiW8y6St",
    "outputId": "5b851d4f-cc0e-41f0-fbd3-6438a3dbd87e"
   },
   "outputs": [
    {
     "data": {
      "text/plain": [
       "TensorShape([10, 14])"
      ]
     },
     "execution_count": 12,
     "metadata": {},
     "output_type": "execute_result"
    }
   ],
   "source": [
    "model(tf.zeros((10, 100))).shape"
   ]
  },
  {
   "cell_type": "code",
   "execution_count": 13,
   "metadata": {
    "id": "Zmzo1iASzJkc"
   },
   "outputs": [],
   "source": [
    "# Define ReduceLROnPlateau callback\n",
    "reduce_lr_callback = tf.keras.callbacks.ReduceLROnPlateau(\n",
    "    monitor='val_loss',   # Monitor validation loss\n",
    "    factor=0.1,           # Factor by which learning rate will be reduced\n",
    "    patience=2,           # Number of epochs with no improvement before learning rate is reduced\n",
    "    min_delta=0.0001,     # Minimum change in validation loss required to qualify as improvement\n",
    "    min_lr=0.0001         # Lower bound on learning rate\n",
    ")\n",
    "\n",
    "# Define ModelCheckpoint callback\n",
    "model_checkpoint_callback = tf.keras.callbacks.ModelCheckpoint(\n",
    "    'full_verse.h5',     # File path to save the model\n",
    "    monitor='val_accuracy', # Monitor validation accuracy\n",
    "    verbose=1,           # Verbosity mode. 0 = silent, 1 = progress bar, 2 = one line per epoch.\n",
    "    save_best_only=True, # Save only the best model\n",
    "    mode='max'           # In 'max' mode, ModelCheckpoint saves the model with the highest monitored quantity\n",
    ")\n",
    "\n",
    "# Add both callbacks to the list\n",
    "callbacks = [reduce_lr_callback, model_checkpoint_callback]\n"
   ]
  },
  {
   "cell_type": "code",
   "execution_count": 14,
   "metadata": {
    "colab": {
     "base_uri": "https://localhost:8080/"
    },
    "id": "VfS2uVHezK16",
    "outputId": "27e33e62-35bd-48fa-922f-aa9fb710cdf3"
   },
   "outputs": [
    {
     "name": "stdout",
     "output_type": "stream",
     "text": [
      "Epoch 1/15\n",
      "266/266 [==============================] - ETA: 0s - loss: 2.1693 - accuracy: 0.2232\n",
      "Epoch 1: val_accuracy improved from -inf to 0.33533, saving model to full_verse.h5\n",
      "266/266 [==============================] - 52s 114ms/step - loss: 2.1693 - accuracy: 0.2232 - val_loss: 1.8254 - val_accuracy: 0.3353 - lr: 0.0010\n",
      "Epoch 2/15\n",
      "266/266 [==============================] - ETA: 0s - loss: 1.4456 - accuracy: 0.4865\n",
      "Epoch 2: val_accuracy improved from 0.33533 to 0.63871, saving model to full_verse.h5\n",
      "266/266 [==============================] - 29s 110ms/step - loss: 1.4456 - accuracy: 0.4865 - val_loss: 1.0620 - val_accuracy: 0.6387 - lr: 0.0010\n",
      "Epoch 3/15\n",
      "266/266 [==============================] - ETA: 0s - loss: 0.8291 - accuracy: 0.7319\n",
      "Epoch 3: val_accuracy improved from 0.63871 to 0.79547, saving model to full_verse.h5\n",
      "266/266 [==============================] - 29s 110ms/step - loss: 0.8291 - accuracy: 0.7319 - val_loss: 0.6506 - val_accuracy: 0.7955 - lr: 0.0010\n",
      "Epoch 4/15\n",
      "266/266 [==============================] - ETA: 0s - loss: 0.5388 - accuracy: 0.8351\n",
      "Epoch 4: val_accuracy improved from 0.79547 to 0.84107, saving model to full_verse.h5\n",
      "266/266 [==============================] - 31s 117ms/step - loss: 0.5388 - accuracy: 0.8351 - val_loss: 0.5093 - val_accuracy: 0.8411 - lr: 0.0010\n",
      "Epoch 5/15\n",
      "266/266 [==============================] - ETA: 0s - loss: 0.4014 - accuracy: 0.8812\n",
      "Epoch 5: val_accuracy improved from 0.84107 to 0.88168, saving model to full_verse.h5\n",
      "266/266 [==============================] - 29s 110ms/step - loss: 0.4014 - accuracy: 0.8812 - val_loss: 0.4141 - val_accuracy: 0.8817 - lr: 0.0010\n",
      "Epoch 6/15\n",
      "266/266 [==============================] - ETA: 0s - loss: 0.3131 - accuracy: 0.9117\n",
      "Epoch 6: val_accuracy improved from 0.88168 to 0.89566, saving model to full_verse.h5\n",
      "266/266 [==============================] - 29s 109ms/step - loss: 0.3131 - accuracy: 0.9117 - val_loss: 0.3587 - val_accuracy: 0.8957 - lr: 0.0010\n",
      "Epoch 7/15\n",
      "266/266 [==============================] - ETA: 0s - loss: 0.2582 - accuracy: 0.9276\n",
      "Epoch 7: val_accuracy improved from 0.89566 to 0.90148, saving model to full_verse.h5\n",
      "266/266 [==============================] - 29s 110ms/step - loss: 0.2582 - accuracy: 0.9276 - val_loss: 0.3542 - val_accuracy: 0.9015 - lr: 0.0010\n",
      "Epoch 8/15\n",
      "266/266 [==============================] - ETA: 0s - loss: 0.2171 - accuracy: 0.9398\n",
      "Epoch 8: val_accuracy improved from 0.90148 to 0.90947, saving model to full_verse.h5\n",
      "266/266 [==============================] - 30s 112ms/step - loss: 0.2171 - accuracy: 0.9398 - val_loss: 0.3380 - val_accuracy: 0.9095 - lr: 0.0010\n",
      "Epoch 9/15\n",
      "266/266 [==============================] - ETA: 0s - loss: 0.1842 - accuracy: 0.9495\n",
      "Epoch 9: val_accuracy did not improve from 0.90947\n",
      "266/266 [==============================] - 29s 108ms/step - loss: 0.1842 - accuracy: 0.9495 - val_loss: 0.3610 - val_accuracy: 0.9066 - lr: 0.0010\n",
      "Epoch 10/15\n",
      "266/266 [==============================] - ETA: 0s - loss: 0.1656 - accuracy: 0.9536\n",
      "Epoch 10: val_accuracy improved from 0.90947 to 0.91479, saving model to full_verse.h5\n",
      "266/266 [==============================] - 29s 109ms/step - loss: 0.1656 - accuracy: 0.9536 - val_loss: 0.3353 - val_accuracy: 0.9148 - lr: 0.0010\n",
      "Epoch 11/15\n",
      "266/266 [==============================] - ETA: 0s - loss: 0.1411 - accuracy: 0.9602\n",
      "Epoch 11: val_accuracy did not improve from 0.91479\n",
      "266/266 [==============================] - 29s 108ms/step - loss: 0.1411 - accuracy: 0.9602 - val_loss: 0.3551 - val_accuracy: 0.9113 - lr: 0.0010\n",
      "Epoch 12/15\n",
      "266/266 [==============================] - ETA: 0s - loss: 0.1199 - accuracy: 0.9658\n",
      "Epoch 12: val_accuracy improved from 0.91479 to 0.91663, saving model to full_verse.h5\n",
      "266/266 [==============================] - 29s 109ms/step - loss: 0.1199 - accuracy: 0.9658 - val_loss: 0.3637 - val_accuracy: 0.9166 - lr: 0.0010\n",
      "Epoch 13/15\n",
      "266/266 [==============================] - ETA: 0s - loss: 0.0630 - accuracy: 0.9825\n",
      "Epoch 13: val_accuracy improved from 0.91663 to 0.92461, saving model to full_verse.h5\n",
      "266/266 [==============================] - 29s 109ms/step - loss: 0.0630 - accuracy: 0.9825 - val_loss: 0.3400 - val_accuracy: 0.9246 - lr: 1.0000e-04\n",
      "Epoch 14/15\n",
      "266/266 [==============================] - ETA: 0s - loss: 0.0438 - accuracy: 0.9886\n",
      "Epoch 14: val_accuracy improved from 0.92461 to 0.92478, saving model to full_verse.h5\n",
      "266/266 [==============================] - 30s 112ms/step - loss: 0.0438 - accuracy: 0.9886 - val_loss: 0.3466 - val_accuracy: 0.9248 - lr: 1.0000e-04\n",
      "Epoch 15/15\n",
      "266/266 [==============================] - ETA: 0s - loss: 0.0355 - accuracy: 0.9906\n",
      "Epoch 15: val_accuracy improved from 0.92478 to 0.92628, saving model to full_verse.h5\n",
      "266/266 [==============================] - 29s 109ms/step - loss: 0.0355 - accuracy: 0.9906 - val_loss: 0.3612 - val_accuracy: 0.9263 - lr: 1.0000e-04\n"
     ]
    },
    {
     "data": {
      "text/plain": [
       "<keras.callbacks.History at 0x7f25f85b46d0>"
      ]
     },
     "execution_count": 14,
     "metadata": {},
     "output_type": "execute_result"
    }
   ],
   "source": [
    "model.fit(X_train, y_train, validation_split=0.15, epochs = 15, batch_size= 128, shuffle = True, callbacks=callbacks)"
   ]
  },
  {
   "cell_type": "code",
   "execution_count": 16,
   "metadata": {
    "colab": {
     "base_uri": "https://localhost:8080/"
    },
    "id": "-AO_Y7nRXuIf",
    "outputId": "09749b53-6698-489a-858a-7caf63c7fc13"
   },
   "outputs": [
    {
     "name": "stdout",
     "output_type": "stream",
     "text": [
      "111/111 [==============================] - 3s 24ms/step - loss: 0.3345 - accuracy: 0.9301\n",
      "Test loss: 0.33450695872306824\n",
      "Test accuracy: 0.9301174283027649\n"
     ]
    }
   ],
   "source": [
    "# Evaluate the accuracy of our trained model\n",
    "score = model.evaluate(X_test, y_test,\n",
    "                       batch_size=64, verbose=1)\n",
    "print('Test loss:', score[0])\n",
    "print('Test accuracy:', score[1])"
   ]
  },
  {
   "cell_type": "markdown",
   "metadata": {
    "id": "-EqilWO1QVdp"
   },
   "source": [
    "\n",
    "\n",
    "\n",
    "<h1 style=\"color:#3f8068; font-style:italic; font-family:Cursive;\"> <center>test and predict </center> </h1>\n",
    "\n",
    " "
   ]
  },
  {
   "cell_type": "code",
   "execution_count": 17,
   "metadata": {
    "id": "715SCEhD0adm"
   },
   "outputs": [],
   "source": [
    "def classify(sentence):\n",
    "#   sentence = process_review(sentence)\n",
    "  sentence = araby.strip_tashkeel(sentence)\n",
    "  sequence = [char2idx[char] for char in sentence]\n",
    "  sequence = pad_sequences([sequence], maxlen = X_train.shape[1], padding='post', value=0)\n",
    "\n",
    "  pred = model.predict(sequence)[0]\n",
    "  print(label2name[np.argmax(pred, 0).astype('int')], np.max(pred))"
   ]
  },
  {
   "cell_type": "code",
   "execution_count": 18,
   "metadata": {
    "colab": {
     "base_uri": "https://localhost:8080/"
    },
    "id": "6tU_73ov0gJo",
    "outputId": "25162342-9d67-4953-f1c0-1faf7172f7a5"
   },
   "outputs": [
    {
     "name": "stdout",
     "output_type": "stream",
     "text": [
      "1/1 [==============================] - 0s 34ms/step\n",
      "ramal 0.99999845\n",
      "1/1 [==============================] - 0s 26ms/step\n",
      "kamel 0.979603\n",
      "1/1 [==============================] - 0s 24ms/step\n",
      "kamel 0.9899565\n",
      "1/1 [==============================] - 0s 26ms/step\n",
      "taweel 0.9997757\n",
      "1/1 [==============================] - 0s 26ms/step\n",
      "hazaj 0.7217552\n",
      "1/1 [==============================] - 0s 28ms/step\n",
      "madeed 0.9367259\n",
      "1/1 [==============================] - 0s 25ms/step\n",
      "hazaj 0.9931437\n",
      "1/1 [==============================] - 0s 26ms/step\n",
      "saree 0.943496\n",
      "1/1 [==============================] - 0s 32ms/step\n",
      "khafeef 0.9999509\n",
      "1/1 [==============================] - 0s 26ms/step\n",
      "mutadarak 0.9999864\n"
     ]
    }
   ],
   "source": [
    "classify(\"ما تردون على هذا المحب # دائبا يشكو إليكم في الكتب\")\n",
    "classify(\"ولد الهدى فالكائنات ضياء # وفم الزمان تبسم وسناء\")\n",
    "classify(\" لك يا منازل في القلوب منازل # أقفرت أنت وهن منك أواهل\")\n",
    "classify(\"ومن لم يمت بالسيف مات بغيره # تعددت الأسباب والموت واحد\")\n",
    "classify(\"أنا النبي لا كذب # أنا ابن عبد المطلب\")\n",
    "classify(\"هذه دراهم اقفرت # أم ربور محتها الدهور\")\n",
    "classify(\"هزجنا في بواديكم # فأجزلتم عطايانا\")\n",
    "classify(\"بحر سريع ماله ساحل # مستفعلن مستفعلن فاعلن\")\n",
    "classify(\"مَا مَضَى فَاتَ وَالْمُؤَمَّلُ غَيْبٌ # وَلَكَ السَّاعَةُ الَّتِيْ أَنْتَ فِيْهَا\")\n",
    "classify(\"يا ليلُ الصبّ متى غدهُ # أقيامُ الساعة موعدهُ\")"
   ]
  },
  {
   "cell_type": "code",
   "execution_count": 19,
   "metadata": {
    "colab": {
     "base_uri": "https://localhost:8080/"
    },
    "id": "sZoNHKU33tHx",
    "outputId": "35884689-eda6-4bfd-a371-b40b4c5c118f"
   },
   "outputs": [
    {
     "name": "stdout",
     "output_type": "stream",
     "text": [
      "Looking in indexes: https://pypi.org/simple, https://us-python.pkg.dev/colab-wheels/public/simple/\n",
      "Collecting keras-tuner\n",
      "  Downloading keras_tuner-1.3.0-py3-none-any.whl (167 kB)\n",
      "\u001b[2K     \u001b[90m━━━━━━━━━━━━━━━━━━━━━━━━━━━━━━━━━━━━━━━\u001b[0m \u001b[32m167.3/167.3 KB\u001b[0m \u001b[31m5.4 MB/s\u001b[0m eta \u001b[36m0:00:00\u001b[0m\n",
      "\u001b[?25hRequirement already satisfied: requests in /usr/local/lib/python3.9/dist-packages (from keras-tuner) (2.25.1)\n",
      "Requirement already satisfied: packaging in /usr/local/lib/python3.9/dist-packages (from keras-tuner) (23.0)\n",
      "Requirement already satisfied: ipython in /usr/local/lib/python3.9/dist-packages (from keras-tuner) (7.9.0)\n",
      "Collecting kt-legacy\n",
      "  Downloading kt_legacy-1.0.4-py3-none-any.whl (9.6 kB)\n",
      "Requirement already satisfied: tensorflow>=2.0 in /usr/local/lib/python3.9/dist-packages (from keras-tuner) (2.11.0)\n",
      "Requirement already satisfied: h5py>=2.9.0 in /usr/local/lib/python3.9/dist-packages (from tensorflow>=2.0->keras-tuner) (3.1.0)\n",
      "Requirement already satisfied: grpcio<2.0,>=1.24.3 in /usr/local/lib/python3.9/dist-packages (from tensorflow>=2.0->keras-tuner) (1.51.3)\n",
      "Requirement already satisfied: opt-einsum>=2.3.2 in /usr/local/lib/python3.9/dist-packages (from tensorflow>=2.0->keras-tuner) (3.3.0)\n",
      "Requirement already satisfied: flatbuffers>=2.0 in /usr/local/lib/python3.9/dist-packages (from tensorflow>=2.0->keras-tuner) (23.3.3)\n",
      "Requirement already satisfied: numpy>=1.20 in /usr/local/lib/python3.9/dist-packages (from tensorflow>=2.0->keras-tuner) (1.22.4)\n",
      "Requirement already satisfied: tensorflow-io-gcs-filesystem>=0.23.1 in /usr/local/lib/python3.9/dist-packages (from tensorflow>=2.0->keras-tuner) (0.31.0)\n",
      "Requirement already satisfied: libclang>=13.0.0 in /usr/local/lib/python3.9/dist-packages (from tensorflow>=2.0->keras-tuner) (15.0.6.1)\n",
      "Requirement already satisfied: six>=1.12.0 in /usr/local/lib/python3.9/dist-packages (from tensorflow>=2.0->keras-tuner) (1.15.0)\n",
      "Requirement already satisfied: termcolor>=1.1.0 in /usr/local/lib/python3.9/dist-packages (from tensorflow>=2.0->keras-tuner) (2.2.0)\n",
      "Requirement already satisfied: wrapt>=1.11.0 in /usr/local/lib/python3.9/dist-packages (from tensorflow>=2.0->keras-tuner) (1.15.0)\n",
      "Requirement already satisfied: keras<2.12,>=2.11.0 in /usr/local/lib/python3.9/dist-packages (from tensorflow>=2.0->keras-tuner) (2.11.0)\n",
      "Requirement already satisfied: google-pasta>=0.1.1 in /usr/local/lib/python3.9/dist-packages (from tensorflow>=2.0->keras-tuner) (0.2.0)\n",
      "Requirement already satisfied: gast<=0.4.0,>=0.2.1 in /usr/local/lib/python3.9/dist-packages (from tensorflow>=2.0->keras-tuner) (0.4.0)\n",
      "Requirement already satisfied: setuptools in /usr/local/lib/python3.9/dist-packages (from tensorflow>=2.0->keras-tuner) (57.4.0)\n",
      "Requirement already satisfied: absl-py>=1.0.0 in /usr/local/lib/python3.9/dist-packages (from tensorflow>=2.0->keras-tuner) (1.4.0)\n",
      "Requirement already satisfied: typing-extensions>=3.6.6 in /usr/local/lib/python3.9/dist-packages (from tensorflow>=2.0->keras-tuner) (4.5.0)\n",
      "Requirement already satisfied: tensorflow-estimator<2.12,>=2.11.0 in /usr/local/lib/python3.9/dist-packages (from tensorflow>=2.0->keras-tuner) (2.11.0)\n",
      "Requirement already satisfied: tensorboard<2.12,>=2.11 in /usr/local/lib/python3.9/dist-packages (from tensorflow>=2.0->keras-tuner) (2.11.2)\n",
      "Requirement already satisfied: protobuf<3.20,>=3.9.2 in /usr/local/lib/python3.9/dist-packages (from tensorflow>=2.0->keras-tuner) (3.19.6)\n",
      "Requirement already satisfied: astunparse>=1.6.0 in /usr/local/lib/python3.9/dist-packages (from tensorflow>=2.0->keras-tuner) (1.6.3)\n",
      "Requirement already satisfied: pygments in /usr/local/lib/python3.9/dist-packages (from ipython->keras-tuner) (2.6.1)\n",
      "Requirement already satisfied: pickleshare in /usr/local/lib/python3.9/dist-packages (from ipython->keras-tuner) (0.7.5)\n",
      "Requirement already satisfied: pexpect in /usr/local/lib/python3.9/dist-packages (from ipython->keras-tuner) (4.8.0)\n",
      "Requirement already satisfied: decorator in /usr/local/lib/python3.9/dist-packages (from ipython->keras-tuner) (4.4.2)\n",
      "Requirement already satisfied: backcall in /usr/local/lib/python3.9/dist-packages (from ipython->keras-tuner) (0.2.0)\n",
      "Requirement already satisfied: prompt-toolkit<2.1.0,>=2.0.0 in /usr/local/lib/python3.9/dist-packages (from ipython->keras-tuner) (2.0.10)\n",
      "Collecting jedi>=0.10\n",
      "  Downloading jedi-0.18.2-py2.py3-none-any.whl (1.6 MB)\n",
      "\u001b[2K     \u001b[90m━━━━━━━━━━━━━━━━━━━━━━━━━━━━━━━━━━━━━━━━\u001b[0m \u001b[32m1.6/1.6 MB\u001b[0m \u001b[31m33.7 MB/s\u001b[0m eta \u001b[36m0:00:00\u001b[0m\n",
      "\u001b[?25hRequirement already satisfied: traitlets>=4.2 in /usr/local/lib/python3.9/dist-packages (from ipython->keras-tuner) (5.7.1)\n",
      "Requirement already satisfied: chardet<5,>=3.0.2 in /usr/local/lib/python3.9/dist-packages (from requests->keras-tuner) (4.0.0)\n",
      "Requirement already satisfied: idna<3,>=2.5 in /usr/local/lib/python3.9/dist-packages (from requests->keras-tuner) (2.10)\n",
      "Requirement already satisfied: urllib3<1.27,>=1.21.1 in /usr/local/lib/python3.9/dist-packages (from requests->keras-tuner) (1.26.14)\n",
      "Requirement already satisfied: certifi>=2017.4.17 in /usr/local/lib/python3.9/dist-packages (from requests->keras-tuner) (2022.12.7)\n",
      "Requirement already satisfied: wheel<1.0,>=0.23.0 in /usr/local/lib/python3.9/dist-packages (from astunparse>=1.6.0->tensorflow>=2.0->keras-tuner) (0.38.4)\n",
      "Requirement already satisfied: parso<0.9.0,>=0.8.0 in /usr/local/lib/python3.9/dist-packages (from jedi>=0.10->ipython->keras-tuner) (0.8.3)\n",
      "Requirement already satisfied: wcwidth in /usr/local/lib/python3.9/dist-packages (from prompt-toolkit<2.1.0,>=2.0.0->ipython->keras-tuner) (0.2.6)\n",
      "Requirement already satisfied: markdown>=2.6.8 in /usr/local/lib/python3.9/dist-packages (from tensorboard<2.12,>=2.11->tensorflow>=2.0->keras-tuner) (3.4.1)\n",
      "Requirement already satisfied: tensorboard-plugin-wit>=1.6.0 in /usr/local/lib/python3.9/dist-packages (from tensorboard<2.12,>=2.11->tensorflow>=2.0->keras-tuner) (1.8.1)\n",
      "Requirement already satisfied: werkzeug>=1.0.1 in /usr/local/lib/python3.9/dist-packages (from tensorboard<2.12,>=2.11->tensorflow>=2.0->keras-tuner) (2.2.3)\n",
      "Requirement already satisfied: google-auth-oauthlib<0.5,>=0.4.1 in /usr/local/lib/python3.9/dist-packages (from tensorboard<2.12,>=2.11->tensorflow>=2.0->keras-tuner) (0.4.6)\n",
      "Requirement already satisfied: tensorboard-data-server<0.7.0,>=0.6.0 in /usr/local/lib/python3.9/dist-packages (from tensorboard<2.12,>=2.11->tensorflow>=2.0->keras-tuner) (0.6.1)\n",
      "Requirement already satisfied: google-auth<3,>=1.6.3 in /usr/local/lib/python3.9/dist-packages (from tensorboard<2.12,>=2.11->tensorflow>=2.0->keras-tuner) (2.16.2)\n",
      "Requirement already satisfied: ptyprocess>=0.5 in /usr/local/lib/python3.9/dist-packages (from pexpect->ipython->keras-tuner) (0.7.0)\n",
      "Requirement already satisfied: pyasn1-modules>=0.2.1 in /usr/local/lib/python3.9/dist-packages (from google-auth<3,>=1.6.3->tensorboard<2.12,>=2.11->tensorflow>=2.0->keras-tuner) (0.2.8)\n",
      "Requirement already satisfied: rsa<5,>=3.1.4 in /usr/local/lib/python3.9/dist-packages (from google-auth<3,>=1.6.3->tensorboard<2.12,>=2.11->tensorflow>=2.0->keras-tuner) (4.9)\n",
      "Requirement already satisfied: cachetools<6.0,>=2.0.0 in /usr/local/lib/python3.9/dist-packages (from google-auth<3,>=1.6.3->tensorboard<2.12,>=2.11->tensorflow>=2.0->keras-tuner) (5.3.0)\n",
      "Requirement already satisfied: requests-oauthlib>=0.7.0 in /usr/local/lib/python3.9/dist-packages (from google-auth-oauthlib<0.5,>=0.4.1->tensorboard<2.12,>=2.11->tensorflow>=2.0->keras-tuner) (1.3.1)\n",
      "Requirement already satisfied: importlib-metadata>=4.4 in /usr/local/lib/python3.9/dist-packages (from markdown>=2.6.8->tensorboard<2.12,>=2.11->tensorflow>=2.0->keras-tuner) (6.0.0)\n",
      "Requirement already satisfied: MarkupSafe>=2.1.1 in /usr/local/lib/python3.9/dist-packages (from werkzeug>=1.0.1->tensorboard<2.12,>=2.11->tensorflow>=2.0->keras-tuner) (2.1.2)\n",
      "Requirement already satisfied: zipp>=0.5 in /usr/local/lib/python3.9/dist-packages (from importlib-metadata>=4.4->markdown>=2.6.8->tensorboard<2.12,>=2.11->tensorflow>=2.0->keras-tuner) (3.15.0)\n",
      "Requirement already satisfied: pyasn1<0.5.0,>=0.4.6 in /usr/local/lib/python3.9/dist-packages (from pyasn1-modules>=0.2.1->google-auth<3,>=1.6.3->tensorboard<2.12,>=2.11->tensorflow>=2.0->keras-tuner) (0.4.8)\n",
      "Requirement already satisfied: oauthlib>=3.0.0 in /usr/local/lib/python3.9/dist-packages (from requests-oauthlib>=0.7.0->google-auth-oauthlib<0.5,>=0.4.1->tensorboard<2.12,>=2.11->tensorflow>=2.0->keras-tuner) (3.2.2)\n",
      "Installing collected packages: kt-legacy, jedi, keras-tuner\n",
      "Successfully installed jedi-0.18.2 keras-tuner-1.3.0 kt-legacy-1.0.4\n"
     ]
    }
   ],
   "source": [
    "!pip install keras-tuner"
   ]
  },
  {
   "cell_type": "markdown",
   "metadata": {
    "id": "awYETaYFQVdr"
   },
   "source": [
    "\n",
    "\n",
    "\n",
    "<h1 style=\"color:#3f8088; font-style:italic; font-family:Cursive;\"> <center>CNN AND KERASTUNNER</center> </h1>\n",
    "\n",
    " "
   ]
  },
  {
   "cell_type": "code",
   "execution_count": 23,
   "metadata": {
    "colab": {
     "base_uri": "https://localhost:8080/"
    },
    "id": "Lzei0nES13BJ",
    "outputId": "e4d327f2-d809-4124-8a2e-7416ba331ffd"
   },
   "outputs": [
    {
     "name": "stdout",
     "output_type": "stream",
     "text": [
      "Trial 10 Complete [00h 04m 24s]\n",
      "val_accuracy: 0.8538858294487\n",
      "\n",
      "Best val_accuracy So Far: 0.8680312633514404\n",
      "Total elapsed time: 00h 37m 25s\n"
     ]
    }
   ],
   "source": [
    "import keras\n",
    "from kerastuner.tuners import RandomSearch\n",
    "from keras.models import Model\n",
    "from keras.layers import Input, Dense, Dropout, Flatten, Conv1D, MaxPooling1D, Concatenate, Embedding\n",
    "from keras import layers\n",
    "from keras.models import Sequential\n",
    "from keras.layers import Dense, Dropout\n",
    "from keras.optimizers import Adam\n",
    "from keras.losses import BinaryCrossentropy\n",
    "from keras.metrics import BinaryAccuracy\n",
    "from sklearn.model_selection import RandomizedSearchCV\n",
    "\n",
    "# Define the model architecture\n",
    "def build_model(hp):\n",
    "    model = keras.Sequential()\n",
    "\n",
    "    # Input layer\n",
    "    model.add(layers.Input(shape=(100,)))\n",
    "\n",
    "    # Embedding layer\n",
    "    model.add(layers.Embedding(len(char2idx)+1, hp.Int('embedding_size', min_value=32, max_value=512, step=32)))\n",
    "\n",
    "    # Convolutional layers\n",
    "    for i in range(hp.Int('conv_layers', 1, 3)):\n",
    "        model.add(layers.Conv1D(filters=hp.Choice(f'conv_{i}_filters', [32, 64, 128, 256]), kernel_size=hp.Choice(f'conv_{i}_kernel_size', [3, 5, 7]), activation='relu'))\n",
    "        model.add(layers.BatchNormalization())\n",
    "        model.add(layers.MaxPooling1D(pool_size=2))\n",
    "\n",
    "    # Flatten layer\n",
    "    model.add(layers.Flatten())\n",
    "\n",
    "    # Dense layers\n",
    "    for i in range(hp.Int('dense_layers', 1, 3)):\n",
    "        model.add(layers.Dense(units=hp.Choice(f'dense_{i}_units', [64, 128, 256, 512]), activation='relu'))\n",
    "        model.add(layers.Dropout(hp.Float(f'dropout_{i}', 0, 0.5, step=0.1)))\n",
    "        model.add(layers.BatchNormalization())\n",
    "\n",
    "    # Output layer\n",
    "    model.add(layers.Dense(len(label2name), activation='softmax'))\n",
    "\n",
    "    # Compile the model\n",
    "    model.compile(optimizer=keras.optimizers.Adam(hp.Float('learning_rate', 0.0001, 0.01, sampling='log')), loss='sparse_categorical_crossentropy', metrics=['accuracy'])\n",
    "    return model\n",
    "\n",
    "# Define the tuner\n",
    "tuner = RandomSearch(\n",
    "    build_model,\n",
    "    objective='val_accuracy',\n",
    "    max_trials=10,\n",
    "    directory='tuner',\n",
    "    project_name='my_cnn_model')\n",
    "\n",
    "# Search for the best hyperparameters\n",
    "tuner.search(X_train, y_train, epochs=20,validation_split=0.15)\n",
    "\n",
    "# Get the best model\n",
    "best_model = tuner.get_best_models(num_models=1)[0]\n"
   ]
  },
  {
   "cell_type": "code",
   "execution_count": 25,
   "metadata": {
    "colab": {
     "base_uri": "https://localhost:8080/"
    },
    "id": "i_GT6-s4Ozu_",
    "outputId": "9732920b-df5a-438e-a309-f4d6f1d02632"
   },
   "outputs": [
    {
     "name": "stdout",
     "output_type": "stream",
     "text": [
      "111/111 [==============================] - 2s 7ms/step - loss: 0.4727 - accuracy: 0.8713\n",
      "Test loss: 0.4726548194885254\n",
      "Test accuracy: 0.8712689280509949\n"
     ]
    }
   ],
   "source": [
    "# Evaluate the accuracy of our trained model\n",
    "score = best_model.evaluate(X_test, y_test,\n",
    "                       batch_size=64, verbose=1)\n",
    "print('Test loss:', score[0])\n",
    "print('Test accuracy:', score[1])"
   ]
  },
  {
   "cell_type": "markdown",
   "metadata": {
    "id": "gAZzS18O_GWS"
   },
   "source": [
    "<a id = '2'></a>\n",
    "## <h1 style='border-radius:10px; background-color:#3f8088; font-size:180%; color:#b9f6f6; text-align: center; font-style:italic; font-family: Cursive'><center> ## Khaleej dataset</center></h1> "
   ]
  },
  {
   "cell_type": "code",
   "execution_count": 2,
   "metadata": {
    "id": "qIosa0H9wrbO"
   },
   "outputs": [],
   "source": [
    "\n",
    "# Define path to zip file and directory to extract\n",
    "zip_path = '/content/Khaleej.zip'\n",
    "extract_path = '/content/Khaleej'\n",
    "# Create a GPU device to use\n",
    "device = '/device:GPU:0'\n",
    "# Define a function to unzip the file\n",
    "def unzip_file(zip_path, extract_path):\n",
    "    with tf.device(device):\n",
    "        os.system('unzip -q {} -d {}'.format(zip_path, extract_path))\n",
    "# Call the function to unzip the file\n",
    "unzip_file(zip_path, extract_path)"
   ]
  },
  {
   "cell_type": "code",
   "execution_count": 3,
   "metadata": {
    "colab": {
     "base_uri": "https://localhost:8080/"
    },
    "id": "-OtoUJ0bgIU6",
    "outputId": "369e35cb-316e-486b-fb3f-07d41c283131"
   },
   "outputs": [
    {
     "name": "stdout",
     "output_type": "stream",
     "text": [
      "Found 45500 files belonging to 7 classes.\n"
     ]
    }
   ],
   "source": [
    "#load data as tf.data.Dataset\n",
    "seed=42\n",
    "data_paths = '/content/Khaleej'\n",
    "labels=os.listdir(data_paths) \n",
    "raw_data = tf.keras.preprocessing.text_dataset_from_directory(\n",
    "    data_paths,\n",
    "    labels=\"inferred\",\n",
    "    label_mode=\"int\",\n",
    "    max_length=None,\n",
    "    shuffle=True,\n",
    "    seed=seed,\n",
    "    validation_split=None,\n",
    "    subset=None,\n",
    "    follow_links=False,\n",
    ")"
   ]
  },
  {
   "cell_type": "markdown",
   "metadata": {
    "id": "bIP_hcw8xwfU"
   },
   "source": []
  },
  {
   "cell_type": "code",
   "execution_count": 4,
   "metadata": {
    "colab": {
     "base_uri": "https://localhost:8080/"
    },
    "id": "-SL2JCXJgSSL",
    "outputId": "6b51946c-6e06-4248-d8d8-d02c16672ee1"
   },
   "outputs": [
    {
     "name": "stdout",
     "output_type": "stream",
     "text": [
      "Classes names:\n",
      " ['Culture', 'Finance', 'Medical', 'Politics', 'Religion', 'Sports', 'Tech']\n"
     ]
    }
   ],
   "source": [
    "print(\"Classes names:\\n\",raw_data.class_names)"
   ]
  },
  {
   "cell_type": "code",
   "execution_count": 5,
   "metadata": {
    "colab": {
     "base_uri": "https://localhost:8080/"
    },
    "id": "GfC66W2GZR1t",
    "outputId": "c0b677b1-bd94-4a32-8999-d2b008871319"
   },
   "outputs": [
    {
     "name": "stdout",
     "output_type": "stream",
     "text": [
      "45500\n",
      "45500\n"
     ]
    }
   ],
   "source": [
    "x=[]\n",
    "y=[]\n",
    "for text_batch, label_batch in raw_data:\n",
    "    for i in range(len(text_batch)):\n",
    "        s=text_batch.numpy()[i].decode(\"utf-8\") \n",
    "        x.append(s)\n",
    "        y.append(raw_data.class_names[label_batch.numpy()[i]])\n",
    "        #print(label_batch.numpy()[i])\n",
    "print(len(x))\n",
    "print(len(y))"
   ]
  },
  {
   "cell_type": "code",
   "execution_count": 6,
   "metadata": {
    "colab": {
     "base_uri": "https://localhost:8080/"
    },
    "id": "Cg4oCcYsZxpR",
    "outputId": "eb7fc2db-9d2b-4d3b-fb12-5e2176ad48af"
   },
   "outputs": [
    {
     "data": {
      "text/plain": [
       "(['رأس الخيمة - عدنان عكاشة:قال د . عبد الله النعيمي، مدير منطقة رأس الخيمة الطبية: إن نسبة الإنجاز في مشروع إحلال مركز الجير للرعاية الصحية الأولية، الذي يعد من أقدم المراكز الصحية في الإمارة، حيث افتتح عام ،1974 بلغت 75%، ومن المتوقع الانتهاء من تشييد المركز الجديد في يوليو/ تموز المقبل .ويعد المبنى الحالي للمركز، الذي يتواصل العمل فيه مؤقتاً إلى حين الانتهاء من مشروع الإحلال، ويصل عمره إلى 41 عاماً، عبارة عن مسكن شعبي قديم .ووفقاً للدكتور النعيمي، سيكون المركز، الذي يقع المركز في منطقة الجير، نحو 40 كيلومترا شمال مركز مدينة رأس الخيمة، من أكبر المراكز الصحية التابعة لمنطقة رأس الخيمة الطبية، ويتكون من مبنى رئيسي يتألف من دور واحد، ويضم 22 حجرة وعيادة .ويشتمل المركز، في محيطه الخارجي، على غرف خاصة للحراسة وخدمات الكهرباء والخدمات الصحية \"الميكانيكية\" ومواقف للسيارات تستوعب 93 مركبة، منها 18 موقفاً مظللاً، وأخرى غير مظللة تتسع ل 75 سيارة، ومساحات خضراء .ووفقا لمصادر مختصة، تبلغ التكلفة الإجمالية للمشروع 8 ملايين و670 ألف درهم، وينفذ في موقع مجاور لأحد جبال المنطقة، وعلى مسافة قريبة من مركز أس الدارة الحدودي مع سلطنة عمان الشقيقة، ويمتد على مساحة 410532 متراً مربعاً، فيما يشغل البناء 1388 متراً مربعاً .'],\n",
       " ['Medical'])"
      ]
     },
     "execution_count": 6,
     "metadata": {},
     "output_type": "execute_result"
    }
   ],
   "source": [
    "x[:1] , y[:1]"
   ]
  },
  {
   "cell_type": "code",
   "execution_count": 7,
   "metadata": {
    "colab": {
     "base_uri": "https://localhost:8080/",
     "height": 591
    },
    "id": "Q9nd69B0cUxC",
    "outputId": "068de701-d0a0-4a9d-dc33-82dd4f41d5e1"
   },
   "outputs": [
    {
     "data": {
      "image/png": "[encoded data removed]",
      "text/plain": [
       "<Figure size 720x720 with 1 Axes>"
      ]
     },
     "metadata": {},
     "output_type": "display_data"
    }
   ],
   "source": [
    "unique, counts = np.unique(y, return_counts=True)\n",
    "plt.figure(\"classe Pie\", figsize=(10, 10))\n",
    "plt.title(\"Pie plot of the class frequencies\")\n",
    "plt.pie(counts, labels=labels)\n",
    "plt.legend(unique)\n",
    "plt.show()"
   ]
  },
  {
   "cell_type": "code",
   "execution_count": 8,
   "metadata": {
    "colab": {
     "base_uri": "https://localhost:8080/",
     "height": 265
    },
    "id": "tpLgL4-ymHbB",
    "outputId": "ee49b575-dcb3-4fed-e9a5-b6ff887b6a51"
   },
   "outputs": [
    {
     "data": {
      "image/png": "[encoded data removed]",
      "text/plain": [
       "<Figure size 432x288 with 1 Axes>"
      ]
     },
     "metadata": {
      "needs_background": "light"
     },
     "output_type": "display_data"
    }
   ],
   "source": [
    "unique, counts = np.unique(y, return_counts=True)\n",
    "plt.bar( labels,counts)\n",
    "plt.show()"
   ]
  },
  {
   "cell_type": "code",
   "execution_count": 9,
   "metadata": {
    "id": "tncZ6XCtd4y6"
   },
   "outputs": [],
   "source": [
    "data =pd.DataFrame({\"text\":x,\"label\":y})"
   ]
  },
  {
   "cell_type": "code",
   "execution_count": 10,
   "metadata": {
    "colab": {
     "base_uri": "https://localhost:8080/",
     "height": 206
    },
    "id": "ouBRh0WWgYEE",
    "outputId": "82ec1902-9a73-4029-bb16-575f64d5db6f"
   },
   "outputs": [
    {
     "data": {
      "text/html": [
       "\n",
       "  <div id=\"df-8331c621-b7c9-4c7a-b560-c0169036ac0a\">\n",
       "    <div class=\"colab-df-container\">\n",
       "      <div>\n",
       "<style scoped>\n",
       "    .dataframe tbody tr th:only-of-type {\n",
       "        vertical-align: middle;\n",
       "    }\n",
       "\n",
       "    .dataframe tbody tr th {\n",
       "        vertical-align: top;\n",
       "    }\n",
       "\n",
       "    .dataframe thead th {\n",
       "        text-align: right;\n",
       "    }\n",
       "</style>\n",
       "<table border=\"1\" class=\"dataframe\">\n",
       "  <thead>\n",
       "    <tr style=\"text-align: right;\">\n",
       "      <th></th>\n",
       "      <th>text</th>\n",
       "      <th>label</th>\n",
       "    </tr>\n",
       "  </thead>\n",
       "  <tbody>\n",
       "    <tr>\n",
       "      <th>0</th>\n",
       "      <td>رأس الخيمة - عدنان عكاشة:قال د . عبد الله النع...</td>\n",
       "      <td>Medical</td>\n",
       "    </tr>\n",
       "    <tr>\n",
       "      <th>1</th>\n",
       "      <td>انخفض مؤشر سوق الإمارات منذ بداية العام الحالي...</td>\n",
       "      <td>Finance</td>\n",
       "    </tr>\n",
       "    <tr>\n",
       "      <th>2</th>\n",
       "      <td>أهدى الرئيس الشيشاني رمضان قديروف النجم المصري...</td>\n",
       "      <td>Sports</td>\n",
       "    </tr>\n",
       "    <tr>\n",
       "      <th>3</th>\n",
       "      <td>أعلن مكتب الملكة رانيا عقيلة العاهل الأردني ال...</td>\n",
       "      <td>Politics</td>\n",
       "    </tr>\n",
       "    <tr>\n",
       "      <th>4</th>\n",
       "      <td>حوار:جمال سالم يعد المستعرب والمستشرق الروسي «...</td>\n",
       "      <td>Religion</td>\n",
       "    </tr>\n",
       "  </tbody>\n",
       "</table>\n",
       "</div>\n",
       "      <button class=\"colab-df-convert\" onclick=\"convertToInteractive('df-8331c621-b7c9-4c7a-b560-c0169036ac0a')\"\n",
       "              title=\"Convert this dataframe to an interactive table.\"\n",
       "              style=\"display:none;\">\n",
       "        \n",
       "  <svg xmlns=\"http://www.w3.org/2000/svg\" height=\"24px\"viewBox=\"0 0 24 24\"\n",
       "       width=\"24px\">\n",
       "    <path d=\"M0 0h24v24H0V0z\" fill=\"none\"/>\n",
       "    <path d=\"M18.56 5.44l.94 2.06.94-2.06 2.06-.94-2.06-.94-.94-2.06-.94 2.06-2.06.94zm-11 1L8.5 8.5l.94-2.06 2.06-.94-2.06-.94L8.5 2.5l-.94 2.06-2.06.94zm10 10l.94 2.06.94-2.06 2.06-.94-2.06-.94-.94-2.06-.94 2.06-2.06.94z\"/><path d=\"M17.41 7.96l-1.37-1.37c-.4-.4-.92-.59-1.43-.59-.52 0-1.04.2-1.43.59L10.3 9.45l-7.72 7.72c-.78.78-.78 2.05 0 2.83L4 21.41c.39.39.9.59 1.41.59.51 0 1.02-.2 1.41-.59l7.78-7.78 2.81-2.81c.8-.78.8-2.07 0-2.86zM5.41 20L4 18.59l7.72-7.72 1.47 1.35L5.41 20z\"/>\n",
       "  </svg>\n",
       "      </button>\n",
       "      \n",
       "  <style>\n",
       "    .colab-df-container {\n",
       "      display:flex;\n",
       "      flex-wrap:wrap;\n",
       "      gap: 12px;\n",
       "    }\n",
       "\n",
       "    .colab-df-convert {\n",
       "      background-color: #E8F0FE;\n",
       "      border: none;\n",
       "      border-radius: 50%;\n",
       "      cursor: pointer;\n",
       "      display: none;\n",
       "      fill: #1967D2;\n",
       "      height: 32px;\n",
       "      padding: 0 0 0 0;\n",
       "      width: 32px;\n",
       "    }\n",
       "\n",
       "    .colab-df-convert:hover {\n",
       "      background-color: #E2EBFA;\n",
       "      box-shadow: 0px 1px 2px rgba(60, 64, 67, 0.3), 0px 1px 3px 1px rgba(60, 64, 67, 0.15);\n",
       "      fill: #174EA6;\n",
       "    }\n",
       "\n",
       "    [theme=dark] .colab-df-convert {\n",
       "      background-color: #3B4455;\n",
       "      fill: #D2E3FC;\n",
       "    }\n",
       "\n",
       "    [theme=dark] .colab-df-convert:hover {\n",
       "      background-color: #434B5C;\n",
       "      box-shadow: 0px 1px 3px 1px rgba(0, 0, 0, 0.15);\n",
       "      filter: drop-shadow(0px 1px 2px rgba(0, 0, 0, 0.3));\n",
       "      fill: #FFFFFF;\n",
       "    }\n",
       "  </style>\n",
       "\n",
       "      <script>\n",
       "        const buttonEl =\n",
       "          document.querySelector('#df-8331c621-b7c9-4c7a-b560-c0169036ac0a button.colab-df-convert');\n",
       "        buttonEl.style.display =\n",
       "          google.colab.kernel.accessAllowed ? 'block' : 'none';\n",
       "\n",
       "        async function convertToInteractive(key) {\n",
       "          const element = document.querySelector('#df-8331c621-b7c9-4c7a-b560-c0169036ac0a');\n",
       "          const dataTable =\n",
       "            await google.colab.kernel.invokeFunction('convertToInteractive',\n",
       "                                                     [key], {});\n",
       "          if (!dataTable) return;\n",
       "\n",
       "          const docLinkHtml = 'Like what you see? Visit the ' +\n",
       "            '<a target=\"_blank\" href=https://colab.research.google.com/notebooks/data_table.ipynb>data table notebook</a>'\n",
       "            + ' to learn more about interactive tables.';\n",
       "          element.innerHTML = '';\n",
       "          dataTable['output_type'] = 'display_data';\n",
       "          await google.colab.output.renderOutput(dataTable, element);\n",
       "          const docLink = document.createElement('div');\n",
       "          docLink.innerHTML = docLinkHtml;\n",
       "          element.appendChild(docLink);\n",
       "        }\n",
       "      </script>\n",
       "    </div>\n",
       "  </div>\n",
       "  "
      ],
      "text/plain": [
       "                                                text     label\n",
       "0  رأس الخيمة - عدنان عكاشة:قال د . عبد الله النع...   Medical\n",
       "1  انخفض مؤشر سوق الإمارات منذ بداية العام الحالي...   Finance\n",
       "2  أهدى الرئيس الشيشاني رمضان قديروف النجم المصري...    Sports\n",
       "3  أعلن مكتب الملكة رانيا عقيلة العاهل الأردني ال...  Politics\n",
       "4  حوار:جمال سالم يعد المستعرب والمستشرق الروسي «...  Religion"
      ]
     },
     "execution_count": 10,
     "metadata": {},
     "output_type": "execute_result"
    }
   ],
   "source": [
    "data.head()"
   ]
  },
  {
   "cell_type": "code",
   "execution_count": 11,
   "metadata": {
    "colab": {
     "base_uri": "https://localhost:8080/"
    },
    "id": "4qNc2h0LgjXa",
    "outputId": "e2aac259-8ccf-4814-fb76-2e90cf7b1c56"
   },
   "outputs": [
    {
     "name": "stdout",
     "output_type": "stream",
     "text": [
      "is null ? :  \n",
      " ****************  text     0\n",
      "label    0\n",
      "dtype: int64\n",
      "<class 'pandas.core.frame.DataFrame'>\n",
      "RangeIndex: 45500 entries, 0 to 45499\n",
      "Data columns (total 2 columns):\n",
      " #   Column  Non-Null Count  Dtype \n",
      "---  ------  --------------  ----- \n",
      " 0   text    45500 non-null  object\n",
      " 1   label   45500 non-null  object\n",
      "dtypes: object(2)\n",
      "memory usage: 711.1+ KB\n",
      "data info : \n",
      " ****************  None\n",
      "is duplicated : \n",
      " *************  15\n",
      "data shape \n",
      " :  **************  (45500, 2)\n"
     ]
    }
   ],
   "source": [
    "print('is null ? :  \\n **************** ', data.isnull().sum())\n",
    "print('data info : \\n **************** ', data.info())\n",
    "print('is duplicated : \\n ************* ', data.duplicated().sum())\n",
    "print('data shape \\n :  ************** ', data.shape)"
   ]
  },
  {
   "cell_type": "code",
   "execution_count": 12,
   "metadata": {
    "colab": {
     "base_uri": "https://localhost:8080/"
    },
    "id": "u1LNPDITkerC",
    "outputId": "8d2da0da-935d-4943-c390-62fe421052d1"
   },
   "outputs": [
    {
     "data": {
      "text/plain": [
       "0"
      ]
     },
     "execution_count": 12,
     "metadata": {},
     "output_type": "execute_result"
    }
   ],
   "source": [
    "data.drop_duplicates(inplace=True)\n",
    "data.duplicated().sum()"
   ]
  },
  {
   "cell_type": "markdown",
   "metadata": {
    "id": "5quiC2yE1ry8"
   },
   "source": [
    "\n",
    "\n",
    "\n",
    "<h1 style=\"color:#3f8088; font-style:italic; font-family:Cursive;\"> <center>**Tokenization& Stop words**</center> </h1>\n",
    "\n",
    " "
   ]
  },
  {
   "cell_type": "code",
   "execution_count": 13,
   "metadata": {
    "colab": {
     "base_uri": "https://localhost:8080/"
    },
    "id": "KHoQdodtbVQy",
    "outputId": "8488266f-82cb-4149-cccb-6bf79bd9d634"
   },
   "outputs": [
    {
     "name": "stderr",
     "output_type": "stream",
     "text": [
      "[nltk_data] Downloading package stopwords to /root/nltk_data...\n",
      "[nltk_data]   Package stopwords is already up-to-date!\n",
      "[nltk_data] Downloading package punkt to /root/nltk_data...\n",
      "[nltk_data]   Package punkt is already up-to-date!\n"
     ]
    }
   ],
   "source": [
    "import nltk\n",
    "nltk.download('stopwords')\n",
    "nltk.download('punkt')\n",
    "from nltk.corpus import stopwords\n",
    "from nltk.tokenize import word_tokenize"
   ]
  },
  {
   "cell_type": "code",
   "execution_count": 14,
   "metadata": {
    "id": "2pSG5lN8lhqC"
   },
   "outputs": [],
   "source": [
    "stop_words = list(set(stopwords.words('arabic')))"
   ]
  },
  {
   "cell_type": "code",
   "execution_count": 15,
   "metadata": {
    "colab": {
     "base_uri": "https://localhost:8080/"
    },
    "id": "qP5rtm4Elsu1",
    "outputId": "228407ef-38d5-49c1-9b14-7d07c8c2bd14"
   },
   "outputs": [
    {
     "name": "stdout",
     "output_type": "stream",
     "text": [
      "                                        Original Text  \\\n",
      "0   رأس الخيمة - عدنان عكاشة:قال د . عبد الله النع...   \n",
      "1   انخفض مؤشر سوق الإمارات منذ بداية العام الحالي...   \n",
      "2   أهدى الرئيس الشيشاني رمضان قديروف النجم المصري...   \n",
      "3   أعلن مكتب الملكة رانيا عقيلة العاهل الأردني ال...   \n",
      "4   حوار:جمال سالم يعد المستعرب والمستشرق الروسي «...   \n",
      "5   أبوظبي:«الخليج» تراجع سوق أبوظبي للأوراق المال...   \n",
      "6   دبي - مدحت السويفي:أكد خبراء في أسواق المال ال...   \n",
      "7   بدأ رئيس جورجيا ميخائيل ساكاشفيلي وقادة المعار...   \n",
      "8   أعلنت موتورولا مؤخراً أن شركة iDTGV، الشركة ال...   \n",
      "9   1HP Compaq 6000 Pro- المعالج: Intel Core 2 Du،...   \n",
      "10  كشف الدكتور سعيد الظاهري مستشار وزير الخارجية ...   \n",
      "11  يكتب الروائي الفلسطيني، إبراهيم نصرالله في إحد...   \n",
      "\n",
      "                                       Tokenized Text  \n",
      "0   [رأس, الخيمة, عدنان, عكاشة, قال, عبد, الله, مد...  \n",
      "1   [انخفض, مؤشر, سوق, الإمارات, بداية, العام, الح...  \n",
      "2   [أهدى, الرئيس, الشيشاني, رمضان, قديروف, النجم,...  \n",
      "3   [أعلن, مكتب, الملكة, رانيا, عقيلة, العاهل, الأ...  \n",
      "4   [حوار, جمال, سالم, يعد, المستعرب, والمستشرق, ا...  \n",
      "5   [أبوظبي, الخليج, تراجع, سوق, أبوظبي, للأوراق, ...  \n",
      "6   [دبي, مدحت, السويفي, أكد, خبراء, أسواق, المال,...  \n",
      "7   [بدأ, رئيس, جورجيا, ميخائيل, ساكاشفيلي, وقادة,...  \n",
      "8   [أعلنت, موتورولا, مؤخراً, شركة, الشركة, الفرنس...  \n",
      "9   [المعالج, كليوبايت, ذكرة, كاش, بطاقة, الرسوم, ...  \n",
      "10  [كشف, الدكتور, سعيد, الظاهري, مستشار, وزير, ال...  \n",
      "11  [يكتب, الروائي, إبراهيم, نصرالله, مشاهد, روايت...  \n"
     ]
    }
   ],
   "source": [
    "# remove punctuation from text\n",
    "def remove_punctuation(text):\n",
    "    # Add a space before and after each punctuation mark\n",
    "    for char in string.punctuation:\n",
    "        text = text.replace(char, ' ' + char + ' ')\n",
    "    # Remove punctuation marks and extra spaces\n",
    "    text = ' '.join(text.split())\n",
    "    return text\n",
    "# Tokenize text\n",
    "def tokenize(text):\n",
    "    # Define regex pattern to match Arabic letters and diacritics\n",
    "    pattern = re.compile('[\\u0621-\\u064A\\u064B-\\u065F]+')\n",
    "    # Remove punctuation from text and tokenize it\n",
    "    tokens = nltk.word_tokenize(remove_punctuation(text))\n",
    "    # Filter out stop words, non-Arabic words, and words less than 2 characters long\n",
    "    arabic_tokens = [token for token in tokens if token not in stop_words and pattern.fullmatch(token)]\n",
    "    return arabic_tokens\n",
    "# # Remove punctuation from 'text' column\n",
    "# data['no_punct'] = data['text'].apply(remove_punctuation)\n",
    "# Tokenize 'no_punct' column\n",
    "# data['tokenized'] = data['no_punct'].apply(tokenize)\n",
    "data['tokenized'] = data['text'].apply(tokenize)\n",
    "display_func = lambda x: pd.Series({'Original Text': x['text'], 'Tokenized Text': x['tokenized']})\n",
    "# Apply the display function to the first 12 rows of the DataFrame\n",
    "display_data = data.head(12).apply(display_func, axis=1)\n",
    "print(display_data)"
   ]
  },
  {
   "cell_type": "markdown",
   "metadata": {
    "id": "rnSS20goQVdz"
   },
   "source": [
    "\n",
    "\n",
    "\n",
    "<h1 style=\"color:#3f8088; font-style:italic; font-family:Cursive;\"> <center>**Lematization**</center> </h1>\n",
    "\n",
    " "
   ]
  },
  {
   "cell_type": "code",
   "execution_count": 16,
   "metadata": {
    "colab": {
     "base_uri": "https://localhost:8080/"
    },
    "id": "M2y4gxy0mGPE",
    "outputId": "0fc41911-a388-4b71-db24-2f121d157377"
   },
   "outputs": [
    {
     "name": "stderr",
     "output_type": "stream",
     "text": [
      "[nltk_data] Downloading package wordnet to /root/nltk_data...\n",
      "[nltk_data]   Package wordnet is already up-to-date!\n",
      "[nltk_data] Downloading package omw-1.4 to /root/nltk_data...\n",
      "[nltk_data]   Package omw-1.4 is already up-to-date!\n"
     ]
    },
    {
     "name": "stdout",
     "output_type": "stream",
     "text": [
      "                                        Original Text  \\\n",
      "0   رأس الخيمة - عدنان عكاشة:قال د . عبد الله النع...   \n",
      "1   انخفض مؤشر سوق الإمارات منذ بداية العام الحالي...   \n",
      "2   أهدى الرئيس الشيشاني رمضان قديروف النجم المصري...   \n",
      "3   أعلن مكتب الملكة رانيا عقيلة العاهل الأردني ال...   \n",
      "4   حوار:جمال سالم يعد المستعرب والمستشرق الروسي «...   \n",
      "5   أبوظبي:«الخليج» تراجع سوق أبوظبي للأوراق المال...   \n",
      "6   دبي - مدحت السويفي:أكد خبراء في أسواق المال ال...   \n",
      "7   بدأ رئيس جورجيا ميخائيل ساكاشفيلي وقادة المعار...   \n",
      "8   أعلنت موتورولا مؤخراً أن شركة iDTGV، الشركة ال...   \n",
      "9   1HP Compaq 6000 Pro- المعالج: Intel Core 2 Du،...   \n",
      "10  كشف الدكتور سعيد الظاهري مستشار وزير الخارجية ...   \n",
      "11  يكتب الروائي الفلسطيني، إبراهيم نصرالله في إحد...   \n",
      "12  طالبت البنوك الوطنية هيئة الأوراق المالية والس...   \n",
      "13  ساهم التدفق الكبير لاستثمارات الشركات الصغيرة ...   \n",
      "14  إعداد: عبير حسين من اللحظة الأولى التي تطأ فيه...   \n",
      "15  رأس الخيمة: محمد الدويري وفرت جمعية الإحسان ال...   \n",
      "16  عجمان \"الخليج\":أشاد حمد تريم الشامسي مدير منطق...   \n",
      "17  أبوظبي - \"الخليج\":ارتفع مؤشر سوق الإمارات الما...   \n",
      "18  أعلنت دو عن توقيعها مذكرة تفاهم مع twofour54، ...   \n",
      "19  في معظم الأحيان يبدو الكمبيوتر المحمول مثل أغل...   \n",
      "\n",
      "                                       Tokenized Text  \\\n",
      "0   [رأس, الخيمة, عدنان, عكاشة, قال, عبد, الله, مد...   \n",
      "1   [انخفض, مؤشر, سوق, الإمارات, بداية, العام, الح...   \n",
      "2   [أهدى, الرئيس, الشيشاني, رمضان, قديروف, النجم,...   \n",
      "3   [أعلن, مكتب, الملكة, رانيا, عقيلة, العاهل, الأ...   \n",
      "4   [حوار, جمال, سالم, يعد, المستعرب, والمستشرق, ا...   \n",
      "5   [أبوظبي, الخليج, تراجع, سوق, أبوظبي, للأوراق, ...   \n",
      "6   [دبي, مدحت, السويفي, أكد, خبراء, أسواق, المال,...   \n",
      "7   [بدأ, رئيس, جورجيا, ميخائيل, ساكاشفيلي, وقادة,...   \n",
      "8   [أعلنت, موتورولا, مؤخراً, شركة, الشركة, الفرنس...   \n",
      "9   [المعالج, كليوبايت, ذكرة, كاش, بطاقة, الرسوم, ...   \n",
      "10  [كشف, الدكتور, سعيد, الظاهري, مستشار, وزير, ال...   \n",
      "11  [يكتب, الروائي, إبراهيم, نصرالله, مشاهد, روايت...   \n",
      "12  [طالبت, البنوك, الوطنية, هيئة, الأوراق, المالي...   \n",
      "13  [ساهم, التدفق, الكبير, لاستثمارات, الشركات, ال...   \n",
      "14  [إعداد, عبير, حسين, اللحظة, الأولى, تطأ, أقدام...   \n",
      "15  [رأس, الخيمة, محمد, الدويري, وفرت, جمعية, الإح...   \n",
      "16  [عجمان, الخليج, أشاد, حمد, تريم, الشامسي, مدير...   \n",
      "17  [أبوظبي, الخليج, ارتفع, مؤشر, سوق, الإمارات, ا...   \n",
      "18  [أعلنت, دو, توقيعها, مذكرة, تفاهم, بيئة, ابتكا...   \n",
      "19  [معظم, الأحيان, يبدو, الكمبيوتر, المحمول, أغلب...   \n",
      "\n",
      "                                      Lemmatized Text  \n",
      "0   [رأس, الخيمة, عدنان, عكاشة, قال, عبد, الله, مد...  \n",
      "1   [انخفض, مؤشر, سوق, الإمارات, بداية, العام, الح...  \n",
      "2   [أهدى, الرئيس, الشيشاني, رمضان, قديروف, النجم,...  \n",
      "3   [أعلن, مكتب, الملكة, رانيا, عقيلة, العاهل, الأ...  \n",
      "4   [حوار, جمال, سالم, يعد, المستعرب, والمستشرق, ا...  \n",
      "5   [أبوظبي, الخليج, تراجع, سوق, أبوظبي, للأوراق, ...  \n",
      "6   [دبي, مدحت, السويفي, أكد, خبراء, أسواق, المال,...  \n",
      "7   [بدأ, رئيس, جورجيا, ميخائيل, ساكاشفيلي, وقادة,...  \n",
      "8   [أعلنت, موتورولا, مؤخراً, شركة, الشركة, الفرنس...  \n",
      "9   [المعالج, كليوبايت, ذكرة, كاش, بطاقة, الرسوم, ...  \n",
      "10  [كشف, الدكتور, سعيد, الظاهري, مستشار, وزير, ال...  \n",
      "11  [يكتب, الروائي, إبراهيم, نصرالله, مشاهد, روايت...  \n",
      "12  [طالبت, البنوك, الوطنية, هيئة, الأوراق, المالي...  \n",
      "13  [ساهم, التدفق, الكبير, لاستثمارات, الشركات, ال...  \n",
      "14  [إعداد, عبير, حسين, اللحظة, الأولى, تطأ, أقدام...  \n",
      "15  [رأس, الخيمة, محمد, الدويري, وفرت, جمعية, الإح...  \n",
      "16  [عجمان, الخليج, أشاد, حمد, تريم, الشامسي, مدير...  \n",
      "17  [أبوظبي, الخليج, ارتفع, مؤشر, سوق, الإمارات, ا...  \n",
      "18  [أعلنت, دو, توقيعها, مذكرة, تفاهم, بيئة, ابتكا...  \n",
      "19  [معظم, الأحيان, يبدو, الكمبيوتر, المحمول, أغلب...  \n"
     ]
    }
   ],
   "source": [
    "from nltk.stem import WordNetLemmatizer\n",
    "nltk.download('wordnet')\n",
    "nltk.download('omw-1.4')\n",
    "# Define a lemmatizer\n",
    "lemmatizer = WordNetLemmatizer()\n",
    "# Define a function to lemmatize each token in the tokenized text\n",
    "def lemmatize(arabic_tokens):\n",
    "    return [lemmatizer.lemmatize(word) for word in arabic_tokens]\n",
    "\n",
    "# Apply lemmatizer to the tokenized 'text'\n",
    "data['lemmatized'] = data['tokenized'].apply(lemmatize)\n",
    "\n",
    "# Define a lambda function to display both the original, tokenized, and lemmatized text\n",
    "display_func = lambda x: pd.Series({'Original Text': x['text'], 'Tokenized Text': x['tokenized'], 'Lemmatized Text': x['lemmatized']})\n",
    "\n",
    "# Apply the display function to the first 12 rows of the DataFrame\n",
    "display_data = data.head(20).apply(display_func, axis=1)\n",
    "print(display_data)\n"
   ]
  },
  {
   "cell_type": "code",
   "execution_count": 16,
   "metadata": {
    "id": "CrP_ip_1BXnY"
   },
   "outputs": [],
   "source": []
  },
  {
   "cell_type": "code",
   "execution_count": 17,
   "metadata": {
    "colab": {
     "base_uri": "https://localhost:8080/",
     "height": 302
    },
    "id": "_jwwH9BIbu6I",
    "outputId": "4c090235-9ad1-4d9f-b732-a3e9f4e06f69"
   },
   "outputs": [
    {
     "data": {
      "text/html": [
       "\n",
       "  <div id=\"df-44aacd4b-e1e1-4467-87f6-d8022cd6abe3\">\n",
       "    <div class=\"colab-df-container\">\n",
       "      <div>\n",
       "<style scoped>\n",
       "    .dataframe tbody tr th:only-of-type {\n",
       "        vertical-align: middle;\n",
       "    }\n",
       "\n",
       "    .dataframe tbody tr th {\n",
       "        vertical-align: top;\n",
       "    }\n",
       "\n",
       "    .dataframe thead th {\n",
       "        text-align: right;\n",
       "    }\n",
       "</style>\n",
       "<table border=\"1\" class=\"dataframe\">\n",
       "  <thead>\n",
       "    <tr style=\"text-align: right;\">\n",
       "      <th></th>\n",
       "      <th>text</th>\n",
       "      <th>label</th>\n",
       "      <th>tokenized</th>\n",
       "      <th>lemmatized</th>\n",
       "      <th>encodedLabel</th>\n",
       "    </tr>\n",
       "  </thead>\n",
       "  <tbody>\n",
       "    <tr>\n",
       "      <th>0</th>\n",
       "      <td>رأس الخيمة - عدنان عكاشة:قال د . عبد الله النع...</td>\n",
       "      <td>Medical</td>\n",
       "      <td>[رأس, الخيمة, عدنان, عكاشة, قال, عبد, الله, مد...</td>\n",
       "      <td>[رأس, الخيمة, عدنان, عكاشة, قال, عبد, الله, مد...</td>\n",
       "      <td>2</td>\n",
       "    </tr>\n",
       "    <tr>\n",
       "      <th>1</th>\n",
       "      <td>انخفض مؤشر سوق الإمارات منذ بداية العام الحالي...</td>\n",
       "      <td>Finance</td>\n",
       "      <td>[انخفض, مؤشر, سوق, الإمارات, بداية, العام, الح...</td>\n",
       "      <td>[انخفض, مؤشر, سوق, الإمارات, بداية, العام, الح...</td>\n",
       "      <td>1</td>\n",
       "    </tr>\n",
       "    <tr>\n",
       "      <th>2</th>\n",
       "      <td>أهدى الرئيس الشيشاني رمضان قديروف النجم المصري...</td>\n",
       "      <td>Sports</td>\n",
       "      <td>[أهدى, الرئيس, الشيشاني, رمضان, قديروف, النجم,...</td>\n",
       "      <td>[أهدى, الرئيس, الشيشاني, رمضان, قديروف, النجم,...</td>\n",
       "      <td>5</td>\n",
       "    </tr>\n",
       "    <tr>\n",
       "      <th>3</th>\n",
       "      <td>أعلن مكتب الملكة رانيا عقيلة العاهل الأردني ال...</td>\n",
       "      <td>Politics</td>\n",
       "      <td>[أعلن, مكتب, الملكة, رانيا, عقيلة, العاهل, الأ...</td>\n",
       "      <td>[أعلن, مكتب, الملكة, رانيا, عقيلة, العاهل, الأ...</td>\n",
       "      <td>3</td>\n",
       "    </tr>\n",
       "    <tr>\n",
       "      <th>4</th>\n",
       "      <td>حوار:جمال سالم يعد المستعرب والمستشرق الروسي «...</td>\n",
       "      <td>Religion</td>\n",
       "      <td>[حوار, جمال, سالم, يعد, المستعرب, والمستشرق, ا...</td>\n",
       "      <td>[حوار, جمال, سالم, يعد, المستعرب, والمستشرق, ا...</td>\n",
       "      <td>4</td>\n",
       "    </tr>\n",
       "  </tbody>\n",
       "</table>\n",
       "</div>\n",
       "      <button class=\"colab-df-convert\" onclick=\"convertToInteractive('df-44aacd4b-e1e1-4467-87f6-d8022cd6abe3')\"\n",
       "              title=\"Convert this dataframe to an interactive table.\"\n",
       "              style=\"display:none;\">\n",
       "        \n",
       "  <svg xmlns=\"http://www.w3.org/2000/svg\" height=\"24px\"viewBox=\"0 0 24 24\"\n",
       "       width=\"24px\">\n",
       "    <path d=\"M0 0h24v24H0V0z\" fill=\"none\"/>\n",
       "    <path d=\"M18.56 5.44l.94 2.06.94-2.06 2.06-.94-2.06-.94-.94-2.06-.94 2.06-2.06.94zm-11 1L8.5 8.5l.94-2.06 2.06-.94-2.06-.94L8.5 2.5l-.94 2.06-2.06.94zm10 10l.94 2.06.94-2.06 2.06-.94-2.06-.94-.94-2.06-.94 2.06-2.06.94z\"/><path d=\"M17.41 7.96l-1.37-1.37c-.4-.4-.92-.59-1.43-.59-.52 0-1.04.2-1.43.59L10.3 9.45l-7.72 7.72c-.78.78-.78 2.05 0 2.83L4 21.41c.39.39.9.59 1.41.59.51 0 1.02-.2 1.41-.59l7.78-7.78 2.81-2.81c.8-.78.8-2.07 0-2.86zM5.41 20L4 18.59l7.72-7.72 1.47 1.35L5.41 20z\"/>\n",
       "  </svg>\n",
       "      </button>\n",
       "      \n",
       "  <style>\n",
       "    .colab-df-container {\n",
       "      display:flex;\n",
       "      flex-wrap:wrap;\n",
       "      gap: 12px;\n",
       "    }\n",
       "\n",
       "    .colab-df-convert {\n",
       "      background-color: #E8F0FE;\n",
       "      border: none;\n",
       "      border-radius: 50%;\n",
       "      cursor: pointer;\n",
       "      display: none;\n",
       "      fill: #1967D2;\n",
       "      height: 32px;\n",
       "      padding: 0 0 0 0;\n",
       "      width: 32px;\n",
       "    }\n",
       "\n",
       "    .colab-df-convert:hover {\n",
       "      background-color: #E2EBFA;\n",
       "      box-shadow: 0px 1px 2px rgba(60, 64, 67, 0.3), 0px 1px 3px 1px rgba(60, 64, 67, 0.15);\n",
       "      fill: #174EA6;\n",
       "    }\n",
       "\n",
       "    [theme=dark] .colab-df-convert {\n",
       "      background-color: #3B4455;\n",
       "      fill: #D2E3FC;\n",
       "    }\n",
       "\n",
       "    [theme=dark] .colab-df-convert:hover {\n",
       "      background-color: #434B5C;\n",
       "      box-shadow: 0px 1px 3px 1px rgba(0, 0, 0, 0.15);\n",
       "      filter: drop-shadow(0px 1px 2px rgba(0, 0, 0, 0.3));\n",
       "      fill: #FFFFFF;\n",
       "    }\n",
       "  </style>\n",
       "\n",
       "      <script>\n",
       "        const buttonEl =\n",
       "          document.querySelector('#df-44aacd4b-e1e1-4467-87f6-d8022cd6abe3 button.colab-df-convert');\n",
       "        buttonEl.style.display =\n",
       "          google.colab.kernel.accessAllowed ? 'block' : 'none';\n",
       "\n",
       "        async function convertToInteractive(key) {\n",
       "          const element = document.querySelector('#df-44aacd4b-e1e1-4467-87f6-d8022cd6abe3');\n",
       "          const dataTable =\n",
       "            await google.colab.kernel.invokeFunction('convertToInteractive',\n",
       "                                                     [key], {});\n",
       "          if (!dataTable) return;\n",
       "\n",
       "          const docLinkHtml = 'Like what you see? Visit the ' +\n",
       "            '<a target=\"_blank\" href=https://colab.research.google.com/notebooks/data_table.ipynb>data table notebook</a>'\n",
       "            + ' to learn more about interactive tables.';\n",
       "          element.innerHTML = '';\n",
       "          dataTable['output_type'] = 'display_data';\n",
       "          await google.colab.output.renderOutput(dataTable, element);\n",
       "          const docLink = document.createElement('div');\n",
       "          docLink.innerHTML = docLinkHtml;\n",
       "          element.appendChild(docLink);\n",
       "        }\n",
       "      </script>\n",
       "    </div>\n",
       "  </div>\n",
       "  "
      ],
      "text/plain": [
       "                                                text     label  \\\n",
       "0  رأس الخيمة - عدنان عكاشة:قال د . عبد الله النع...   Medical   \n",
       "1  انخفض مؤشر سوق الإمارات منذ بداية العام الحالي...   Finance   \n",
       "2  أهدى الرئيس الشيشاني رمضان قديروف النجم المصري...    Sports   \n",
       "3  أعلن مكتب الملكة رانيا عقيلة العاهل الأردني ال...  Politics   \n",
       "4  حوار:جمال سالم يعد المستعرب والمستشرق الروسي «...  Religion   \n",
       "\n",
       "                                           tokenized  \\\n",
       "0  [رأس, الخيمة, عدنان, عكاشة, قال, عبد, الله, مد...   \n",
       "1  [انخفض, مؤشر, سوق, الإمارات, بداية, العام, الح...   \n",
       "2  [أهدى, الرئيس, الشيشاني, رمضان, قديروف, النجم,...   \n",
       "3  [أعلن, مكتب, الملكة, رانيا, عقيلة, العاهل, الأ...   \n",
       "4  [حوار, جمال, سالم, يعد, المستعرب, والمستشرق, ا...   \n",
       "\n",
       "                                          lemmatized  encodedLabel  \n",
       "0  [رأس, الخيمة, عدنان, عكاشة, قال, عبد, الله, مد...             2  \n",
       "1  [انخفض, مؤشر, سوق, الإمارات, بداية, العام, الح...             1  \n",
       "2  [أهدى, الرئيس, الشيشاني, رمضان, قديروف, النجم,...             5  \n",
       "3  [أعلن, مكتب, الملكة, رانيا, عقيلة, العاهل, الأ...             3  \n",
       "4  [حوار, جمال, سالم, يعد, المستعرب, والمستشرق, ا...             4  "
      ]
     },
     "execution_count": 17,
     "metadata": {},
     "output_type": "execute_result"
    }
   ],
   "source": [
    "from sklearn.preprocessing import LabelEncoder\n",
    "label_encoder = LabelEncoder()\n",
    "data['encodedLabel'] = label_encoder.fit_transform(data['label'])\n",
    "\n",
    "data.head()"
   ]
  },
  {
   "cell_type": "code",
   "execution_count": 18,
   "metadata": {
    "id": "rRy0Uw9TtPPz"
   },
   "outputs": [],
   "source": [
    "data.to_csv(r'./textClass_csv.csv', index = False)"
   ]
  },
  {
   "cell_type": "code",
   "execution_count": 19,
   "metadata": {
    "colab": {
     "base_uri": "https://localhost:8080/"
    },
    "id": "zPDOMX3-LneN",
    "outputId": "f961d1da-e162-4ca8-df36-2d9380f2787f"
   },
   "outputs": [
    {
     "data": {
      "text/plain": [
       "2    6500\n",
       "6    6500\n",
       "1    6499\n",
       "5    6499\n",
       "3    6499\n",
       "0    6495\n",
       "4    6493\n",
       "Name: encodedLabel, dtype: int64"
      ]
     },
     "execution_count": 19,
     "metadata": {},
     "output_type": "execute_result"
    }
   ],
   "source": [
    "data['encodedLabel'].value_counts()"
   ]
  },
  {
   "cell_type": "code",
   "execution_count": 20,
   "metadata": {
    "id": "iUSHaVorPLjY"
   },
   "outputs": [],
   "source": [
    "X = data['lemmatized'] \n",
    "Y = data['encodedLabel']"
   ]
  },
  {
   "cell_type": "code",
   "execution_count": 21,
   "metadata": {
    "colab": {
     "base_uri": "https://localhost:8080/"
    },
    "id": "Qm-Ws9Z0MWhs",
    "outputId": "223e425a-4eb3-44df-886c-e425c3509fad"
   },
   "outputs": [
    {
     "name": "stdout",
     "output_type": "stream",
     "text": [
      "7\n"
     ]
    }
   ],
   "source": [
    "number_of_labels = np.max(Y) + 1\n",
    "print(number_of_labels)"
   ]
  },
  {
   "cell_type": "code",
   "execution_count": 22,
   "metadata": {
    "colab": {
     "base_uri": "https://localhost:8080/"
    },
    "id": "k5JGoyO8efwI",
    "outputId": "f7845461-742c-4c01-ffb2-7b982fb4f9f2"
   },
   "outputs": [
    {
     "name": "stdout",
     "output_type": "stream",
     "text": [
      "Training Data Shape: (36388,)\n",
      "Testing Data Shape:  (9097,)\n"
     ]
    },
    {
     "data": {
      "text/plain": [
       "0    5263\n",
       "2    5223\n",
       "6    5213\n",
       "1    5207\n",
       "4    5190\n",
       "5    5150\n",
       "3    5142\n",
       "Name: encodedLabel, dtype: int64"
      ]
     },
     "execution_count": 22,
     "metadata": {},
     "output_type": "execute_result"
    }
   ],
   "source": [
    "from sklearn.model_selection import train_test_split\n",
    "\n",
    "X_train, X_test, y_train, y_test = train_test_split(X, Y, test_size=0.2, random_state=42)\n",
    "\n",
    "print('Training Data Shape:', X_train.shape)\n",
    "print('Testing Data Shape: ', X_test.shape)\n",
    "y_train.value_counts()"
   ]
  },
  {
   "cell_type": "markdown",
   "metadata": {
    "id": "AzPBOvCBQVd2"
   },
   "source": [
    "\n",
    "\n",
    "\n",
    "<h1 style=\"color:#3f8088; font-style:italic; font-family:Cursive;\"> <center>Data Embding</center> </h1>\n",
    "\n",
    " "
   ]
  },
  {
   "cell_type": "code",
   "execution_count": 23,
   "metadata": {
    "id": "-yNUAowA8g-M"
   },
   "outputs": [],
   "source": [
    "from keras.layers import Dropout, Dense, GRU, Embedding, Flatten\n",
    "from keras.models import Sequential\n",
    "from sklearn.feature_extraction.text import TfidfVectorizer\n",
    "import numpy as np\n",
    "from sklearn import metrics\n",
    "from keras.preprocessing.text import Tokenizer\n",
    "#from keras.preprocessing.sequence import pad_sequences\n",
    "from keras.utils import pad_sequences"
   ]
  },
  {
   "cell_type": "code",
   "execution_count": 24,
   "metadata": {
    "colab": {
     "base_uri": "https://localhost:8080/"
    },
    "id": "HWYRkcQ_SH3M",
    "outputId": "adec2f52-6b01-4c6c-9d1c-425a91a685d9"
   },
   "outputs": [
    {
     "name": "stdout",
     "output_type": "stream",
     "text": [
      "Found 383842 unique tokens.\n"
     ]
    }
   ],
   "source": [
    "MAX_NB_WORDS = 20000\n",
    "\n",
    "# get the raw text data\n",
    "texts_train = X_train.astype(str)\n",
    "text_test=X_test.astype(str)\n",
    "# finally, vectorize the text samples into a 2D integer tensor\n",
    "tokenizer = Tokenizer(nb_words=MAX_NB_WORDS,\n",
    "                      char_level=False,\n",
    "                       filters='”،,.\":!\"{#$%&()*+,-./:;<=>?@[\\]^_`{|}\\t\\n',)\n",
    "tokenizer.fit_on_texts(texts_train)\n",
    "sequences = tokenizer.texts_to_sequences(texts_train)\n",
    "sequences_test = tokenizer.texts_to_sequences(text_test)\n",
    "\n",
    "word_index = tokenizer.word_index\n",
    "print('Found %s unique tokens.' % len(word_index))"
   ]
  },
  {
   "cell_type": "code",
   "execution_count": 25,
   "metadata": {
    "id": "wde_BRYpX0MC"
   },
   "outputs": [],
   "source": [
    "x_train = pad_sequences(sequences, maxlen=300)\n",
    "x_test = pad_sequences(sequences_test, maxlen=300)"
   ]
  },
  {
   "cell_type": "code",
   "execution_count": 26,
   "metadata": {
    "colab": {
     "base_uri": "https://localhost:8080/"
    },
    "id": "mgB66okNYZxp",
    "outputId": "1cbffb77-5cea-44c4-b991-fc1678a5bf31"
   },
   "outputs": [
    {
     "data": {
      "text/plain": [
       "array([[    0,     0,     0, ...,   578,   493,    71],\n",
       "       [    0,     0,     0, ...,     5,  1074,  4983],\n",
       "       [ 2300,  1786,   505, ...,   571,  4105, 17232],\n",
       "       ...,\n",
       "       [    0,     0,     0, ...,  7092, 16223, 11058],\n",
       "       [ 3353,  1179,  3517, ..., 10067,  7106,  1560],\n",
       "       [    0,     0,     0, ...,   666,  1871,   478]], dtype=int32)"
      ]
     },
     "execution_count": 26,
     "metadata": {},
     "output_type": "execute_result"
    }
   ],
   "source": [
    "x_train"
   ]
  },
  {
   "cell_type": "code",
   "execution_count": 27,
   "metadata": {
    "colab": {
     "base_uri": "https://localhost:8080/"
    },
    "id": "FbQ3eDo3U3GV",
    "outputId": "c0a90577-43ec-4d99-d92c-c405ffdfa0ff"
   },
   "outputs": [
    {
     "data": {
      "text/plain": [
       "array([[    0,     0,     0, ...,    33,  6423,  1080],\n",
       "       [ 5945,   281,   773, ...,  6070,   484,    48],\n",
       "       [  300,    25,  1283, ..., 18946,  1139,  2445],\n",
       "       ...,\n",
       "       [    0,     0,     0, ...,  9576,   429,    18],\n",
       "       [    4,  2008,   368, ...,  2782,   538,     4],\n",
       "       [    0,     0,     0, ..., 19588,  1440,  1440]], dtype=int32)"
      ]
     },
     "execution_count": 27,
     "metadata": {},
     "output_type": "execute_result"
    }
   ],
   "source": [
    "x_test"
   ]
  },
  {
   "cell_type": "code",
   "execution_count": 28,
   "metadata": {
    "colab": {
     "base_uri": "https://localhost:8080/"
    },
    "id": "7odDuwNmxQ4p",
    "outputId": "15d1310b-d91c-46c1-8dfd-323ae222f781"
   },
   "outputs": [
    {
     "data": {
      "text/plain": [
       "(36388,)"
      ]
     },
     "execution_count": 28,
     "metadata": {},
     "output_type": "execute_result"
    }
   ],
   "source": [
    "y_train.shape"
   ]
  },
  {
   "cell_type": "markdown",
   "metadata": {
    "id": "KP2fNTzkAKRp"
   },
   "source": [
    "\n",
    "\n",
    "\n",
    "<h1 style=\"color:#3f8088; font-style:italic; font-family:Cursive;\"> <center>Recurrent Convolutional Neural Networks (RCNN)</center> </h1>\n",
    "\n",
    " "
   ]
  },
  {
   "cell_type": "code",
   "execution_count": 53,
   "metadata": {
    "id": "ZvdNCslC15G-"
   },
   "outputs": [],
   "source": [
    "from keras.layers import Conv1D, MaxPooling1D, LSTM, Dense, Dropout, Activation, Embedding\n",
    "from keras.models import Sequential\n",
    "import numpy as np\n",
    "\n",
    "def Build_Model_RCNN_Text(word_index, number_of_labels, MAX_SEQUENCE_LENGTH=300, EMBEDDING_DIM=50):\n",
    "\n",
    "    kernel_size = 2\n",
    "    filters = 256\n",
    "    pool_size = 2\n",
    "    gru_node = 256\n",
    "\n",
    "    embedding_matrix = np.random.random((len(word_index) + 1, EMBEDDING_DIM))\n",
    "    \n",
    "    model = Sequential()\n",
    "    model.add(Embedding(len(word_index) + 1,\n",
    "                                EMBEDDING_DIM,\n",
    "                                weights=[embedding_matrix],\n",
    "                                input_length=MAX_SEQUENCE_LENGTH,\n",
    "                                trainable=True))\n",
    "    model.add(Dropout(0.25))\n",
    "    model.add(Conv1D(filters, kernel_size, activation='relu'))\n",
    "    model.add(MaxPooling1D(pool_size=pool_size))\n",
    "    model.add(Conv1D(filters, kernel_size, activation='relu'))\n",
    "    model.add(MaxPooling1D(pool_size=pool_size))\n",
    "    model.add(Conv1D(filters, kernel_size, activation='relu'))\n",
    "    model.add(MaxPooling1D(pool_size=pool_size))\n",
    "    model.add(Conv1D(filters, kernel_size, activation='relu'))\n",
    "    model.add(MaxPooling1D(pool_size=pool_size))\n",
    "    model.add(LSTM(gru_node, return_sequences=True, recurrent_dropout=0.2))\n",
    "    model.add(LSTM(gru_node, return_sequences=True, recurrent_dropout=0.2))\n",
    "    model.add(LSTM(gru_node, return_sequences=True, recurrent_dropout=0.2))\n",
    "    model.add(LSTM(gru_node, recurrent_dropout=0.2))\n",
    "    model.add(Dense(1024,activation='relu'))\n",
    "    model.add(Dense(number_of_labels))\n",
    "    model.add(Activation('softmax'))\n",
    "\n",
    "    model.compile(loss='sparse_categorical_crossentropy',\n",
    "                  optimizer='adam',\n",
    "                  metrics=['accuracy'])\n",
    "\n",
    "    return model\n"
   ]
  },
  {
   "cell_type": "code",
   "execution_count": 54,
   "metadata": {
    "colab": {
     "base_uri": "https://localhost:8080/"
    },
    "id": "9YtCY4513g6q",
    "outputId": "ac541f9d-f0c0-4d5a-f999-73649471d5d1"
   },
   "outputs": [
    {
     "name": "stderr",
     "output_type": "stream",
     "text": [
      "WARNING:tensorflow:Layer lstm will not use cuDNN kernels since it doesn't meet the criteria. It will use a generic GPU kernel as fallback when running on GPU.\n",
      "WARNING:tensorflow:Layer lstm_1 will not use cuDNN kernels since it doesn't meet the criteria. It will use a generic GPU kernel as fallback when running on GPU.\n",
      "WARNING:tensorflow:Layer lstm_2 will not use cuDNN kernels since it doesn't meet the criteria. It will use a generic GPU kernel as fallback when running on GPU.\n",
      "WARNING:tensorflow:Layer lstm_3 will not use cuDNN kernels since it doesn't meet the criteria. It will use a generic GPU kernel as fallback when running on GPU.\n"
     ]
    },
    {
     "name": "stdout",
     "output_type": "stream",
     "text": [
      "Epoch 1/10\n",
      "228/228 - 112s - loss: 1.5421 - accuracy: 0.3583 - val_loss: 1.5378 - val_accuracy: 0.3608 - 112s/epoch - 492ms/step\n",
      "Epoch 2/10\n",
      "228/228 - 93s - loss: 0.8530 - accuracy: 0.6469 - val_loss: 0.8456 - val_accuracy: 0.6524 - 93s/epoch - 409ms/step\n",
      "Epoch 3/10\n",
      "228/228 - 88s - loss: 0.6378 - accuracy: 0.7498 - val_loss: 0.8614 - val_accuracy: 0.6494 - 88s/epoch - 385ms/step\n",
      "Epoch 4/10\n",
      "228/228 - 83s - loss: 0.4628 - accuracy: 0.8305 - val_loss: 0.7388 - val_accuracy: 0.7330 - 83s/epoch - 364ms/step\n",
      "Epoch 5/10\n",
      "228/228 - 79s - loss: 0.3275 - accuracy: 0.8876 - val_loss: 0.7327 - val_accuracy: 0.7704 - 79s/epoch - 346ms/step\n",
      "Epoch 6/10\n",
      "228/228 - 77s - loss: 0.2659 - accuracy: 0.9093 - val_loss: 0.8085 - val_accuracy: 0.7409 - 77s/epoch - 338ms/step\n",
      "Epoch 7/10\n",
      "228/228 - 78s - loss: 0.2053 - accuracy: 0.9309 - val_loss: 0.8396 - val_accuracy: 0.7609 - 78s/epoch - 343ms/step\n",
      "Epoch 8/10\n",
      "228/228 - 75s - loss: 0.1624 - accuracy: 0.9463 - val_loss: 0.3875 - val_accuracy: 0.8869 - 75s/epoch - 327ms/step\n",
      "Epoch 9/10\n",
      "228/228 - 73s - loss: 0.1444 - accuracy: 0.9525 - val_loss: 0.4733 - val_accuracy: 0.8658 - 73s/epoch - 320ms/step\n",
      "Epoch 10/10\n",
      "228/228 - 75s - loss: 0.1274 - accuracy: 0.9589 - val_loss: 0.3645 - val_accuracy: 0.8948 - 75s/epoch - 329ms/step\n"
     ]
    }
   ],
   "source": [
    "from keras.utils import to_categorical\n",
    "\n",
    "model = Build_Model_RCNN_Text(word_index, number_of_labels)\n",
    "\n",
    "\n",
    "\n",
    "history=model.fit(x_train, y_train, validation_split=0.2,\n",
    "                              epochs=10,\n",
    "                              batch_size=128,\n",
    "                              verbose=2)\n"
   ]
  },
  {
   "cell_type": "code",
   "execution_count": 55,
   "metadata": {
    "colab": {
     "base_uri": "https://localhost:8080/",
     "height": 544
    },
    "id": "B45KwmKMrYhw",
    "outputId": "29edda2d-6cef-4318-8980-61a02858e322"
   },
   "outputs": [
    {
     "data": {
      "image/png": "[encoded data removed]",
      "text/plain": [
       "<Figure size 432x288 with 1 Axes>"
      ]
     },
     "metadata": {
      "needs_background": "light"
     },
     "output_type": "display_data"
    },
    {
     "data": {
      "image/png": "[encoded data removed]",
      "text/plain": [
       "<Figure size 432x288 with 1 Axes>"
      ]
     },
     "metadata": {
      "needs_background": "light"
     },
     "output_type": "display_data"
    }
   ],
   "source": [
    "def plot_graphs(history, string):\n",
    "  plt.plot(history.history[string])\n",
    "  plt.plot(history.history['val_'+string])\n",
    "  plt.xlabel(\"Epochs\")\n",
    "  plt.ylabel(string)\n",
    "  plt.legend([string, 'val_'+string])\n",
    "  plt.show()\n",
    "  \n",
    "plot_graphs(history, \"accuracy\")\n",
    "plot_graphs(history, \"loss\")"
   ]
  },
  {
   "cell_type": "code",
   "execution_count": 56,
   "metadata": {
    "colab": {
     "base_uri": "https://localhost:8080/"
    },
    "id": "ftyHmNQK11Q7",
    "outputId": "ddbff45f-ba03-46ad-8d32-ea131b7f2c7b"
   },
   "outputs": [
    {
     "name": "stdout",
     "output_type": "stream",
     "text": [
      "143/143 [==============================] - 4s 30ms/step - loss: 0.3373 - accuracy: 0.8973\n",
      "Test loss: 0.3373326361179352\n",
      "Test accuracy: 0.897328794002533\n"
     ]
    }
   ],
   "source": [
    "# Evaluate the accuracy of our trained model\n",
    "score = model.evaluate(x_test, y_test,\n",
    "                       batch_size=64, verbose=1)\n",
    "print('Test loss:', score[0])\n",
    "print('Test accuracy:', score[1])"
   ]
  },
  {
   "cell_type": "markdown",
   "metadata": {
    "id": "GZWYUVRv3Dr_"
   },
   "source": [
    "\n",
    "\n",
    "\n",
    "<h1 style=\"color:#3f8088; font-style:italic; font-family:Cursive;\"> <center>Recurrent Neural Networks (RNN)</center> </h1>\n",
    "\n",
    " "
   ]
  },
  {
   "cell_type": "code",
   "execution_count": 57,
   "metadata": {
    "id": "J7KNTuqZ8ZAY"
   },
   "outputs": [],
   "source": [
    "from keras.models import Sequential\n",
    "from keras.layers import Embedding, LSTM, Dense\n",
    "\n",
    "def build_rnn_model(vocab_size, embedding_dim, maxlen):\n",
    "    model = Sequential()\n",
    "    model.add(Embedding(vocab_size, embedding_dim, input_length=maxlen))\n",
    "    model.add(LSTM(128))\n",
    "    model.add(Dense(number_of_labels, activation='sigmoid'))\n",
    "    model.compile(loss='categorical_crossentropy', optimizer='adam', metrics=['accuracy'])\n",
    "    return model\n"
   ]
  },
  {
   "cell_type": "code",
   "execution_count": 58,
   "metadata": {
    "colab": {
     "base_uri": "https://localhost:8080/"
    },
    "id": "jJ74FpGzBPJE",
    "outputId": "9264903a-c4a5-4a09-ad77-9ba5bfd147f1"
   },
   "outputs": [
    {
     "name": "stdout",
     "output_type": "stream",
     "text": [
      "Epoch 1/20\n",
      "910/910 [==============================] - 114s 122ms/step - loss: 1.4625 - accuracy: 0.4398 - val_loss: 1.2746 - val_accuracy: 0.4897\n",
      "Epoch 2/20\n",
      "910/910 [==============================] - 57s 63ms/step - loss: 1.0399 - accuracy: 0.6397 - val_loss: 0.8007 - val_accuracy: 0.7402\n",
      "Epoch 3/20\n",
      "910/910 [==============================] - 35s 38ms/step - loss: 0.6987 - accuracy: 0.7723 - val_loss: 0.7432 - val_accuracy: 0.7350\n",
      "Epoch 4/20\n",
      "910/910 [==============================] - 26s 29ms/step - loss: 0.5736 - accuracy: 0.8210 - val_loss: 0.3973 - val_accuracy: 0.8939\n",
      "Epoch 5/20\n",
      "910/910 [==============================] - 23s 26ms/step - loss: 0.6750 - accuracy: 0.8003 - val_loss: 0.6082 - val_accuracy: 0.8261\n",
      "Epoch 6/20\n",
      "910/910 [==============================] - 18s 20ms/step - loss: 0.7863 - accuracy: 0.7326 - val_loss: 0.8606 - val_accuracy: 0.7234\n",
      "Epoch 7/20\n",
      "910/910 [==============================] - 17s 18ms/step - loss: 0.5491 - accuracy: 0.8357 - val_loss: 0.4916 - val_accuracy: 0.8434\n",
      "Epoch 8/20\n",
      "910/910 [==============================] - 17s 18ms/step - loss: 0.5685 - accuracy: 0.8164 - val_loss: 0.9721 - val_accuracy: 0.6393\n",
      "Epoch 9/20\n",
      "910/910 [==============================] - 15s 17ms/step - loss: 0.6986 - accuracy: 0.7667 - val_loss: 0.8219 - val_accuracy: 0.7428\n",
      "Epoch 10/20\n",
      "910/910 [==============================] - 18s 19ms/step - loss: 0.4844 - accuracy: 0.8475 - val_loss: 0.4390 - val_accuracy: 0.8651\n",
      "Epoch 11/20\n",
      "910/910 [==============================] - 16s 18ms/step - loss: 0.3769 - accuracy: 0.8851 - val_loss: 0.3593 - val_accuracy: 0.8829\n",
      "Epoch 12/20\n",
      "910/910 [==============================] - 15s 17ms/step - loss: 0.2490 - accuracy: 0.9227 - val_loss: 0.2329 - val_accuracy: 0.9286\n",
      "Epoch 13/20\n",
      "910/910 [==============================] - 15s 16ms/step - loss: 0.2102 - accuracy: 0.9343 - val_loss: 0.2405 - val_accuracy: 0.9222\n",
      "Epoch 14/20\n",
      "910/910 [==============================] - 16s 17ms/step - loss: 0.1899 - accuracy: 0.9393 - val_loss: 0.1999 - val_accuracy: 0.9360\n",
      "Epoch 15/20\n",
      "910/910 [==============================] - 15s 17ms/step - loss: 0.1748 - accuracy: 0.9432 - val_loss: 0.1988 - val_accuracy: 0.9350\n",
      "Epoch 16/20\n",
      "910/910 [==============================] - 15s 16ms/step - loss: 0.1635 - accuracy: 0.9465 - val_loss: 0.1824 - val_accuracy: 0.9405\n",
      "Epoch 17/20\n",
      "910/910 [==============================] - 15s 16ms/step - loss: 0.1551 - accuracy: 0.9486 - val_loss: 0.1887 - val_accuracy: 0.9372\n",
      "Epoch 18/20\n",
      "910/910 [==============================] - 14s 16ms/step - loss: 0.1493 - accuracy: 0.9513 - val_loss: 0.2012 - val_accuracy: 0.9384\n",
      "Epoch 19/20\n",
      "910/910 [==============================] - 16s 17ms/step - loss: 0.1418 - accuracy: 0.9550 - val_loss: 0.1789 - val_accuracy: 0.9426\n",
      "Epoch 20/20\n",
      "910/910 [==============================] - 15s 16ms/step - loss: 0.1336 - accuracy: 0.9567 - val_loss: 0.1804 - val_accuracy: 0.9406\n"
     ]
    }
   ],
   "source": [
    "from keras.utils import to_categorical\n",
    "vocab_size = 500\n",
    "embedding_dim = 32\n",
    "maxlen = 300\n",
    "\n",
    "y_train = to_categorical(y_train,number_of_labels)\n",
    "y_test = to_categorical(y_test, number_of_labels)\n",
    "\n",
    "model = build_rnn_model(vocab_size, embedding_dim, maxlen)\n",
    "\n",
    "# Train the model and evaluate its performance\n",
    "history=model.fit(x_train, y_train,validation_split=0.2, epochs=20, batch_size=32)\n"
   ]
  },
  {
   "cell_type": "code",
   "execution_count": 59,
   "metadata": {
    "colab": {
     "base_uri": "https://localhost:8080/",
     "height": 541
    },
    "id": "6EEUhygxrl0B",
    "outputId": "c445ea2b-4274-4f12-dc1b-ace7068dc27a"
   },
   "outputs": [
    {
     "data": {
      "image/png": "[encoded data removed]",
      "text/plain": [
       "<Figure size 432x288 with 1 Axes>"
      ]
     },
     "metadata": {
      "needs_background": "light"
     },
     "output_type": "display_data"
    },
    {
     "data": {
      "image/png": "[encoded data removed]",
      "text/plain": [
       "<Figure size 432x288 with 1 Axes>"
      ]
     },
     "metadata": {
      "needs_background": "light"
     },
     "output_type": "display_data"
    }
   ],
   "source": [
    "def plot_graphs(history, string):\n",
    "  plt.plot(history.history[string])\n",
    "  plt.plot(history.history['val_'+string])\n",
    "  plt.xlabel(\"Epochs\")\n",
    "  plt.ylabel(string)\n",
    "  plt.legend([string, 'val_'+string])\n",
    "  plt.show()\n",
    "  \n",
    "plot_graphs(history, \"accuracy\")\n",
    "plot_graphs(history, \"loss\")"
   ]
  },
  {
   "cell_type": "code",
   "execution_count": 60,
   "metadata": {
    "colab": {
     "base_uri": "https://localhost:8080/"
    },
    "id": "8vrHIBOh2TAA",
    "outputId": "3ead1ff4-1168-4a7b-f8a5-e6f522c30ced"
   },
   "outputs": [
    {
     "name": "stdout",
     "output_type": "stream",
     "text": [
      "143/143 [==============================] - 1s 7ms/step - loss: 0.1745 - accuracy: 0.9431\n",
      "Test loss: 0.17447437345981598\n",
      "Test accuracy: 0.9430581331253052\n"
     ]
    }
   ],
   "source": [
    "# Evaluate the accuracy of our trained model\n",
    "score = model.evaluate(x_test, y_test,\n",
    "                       batch_size=64, verbose=1)\n",
    "print('Test loss:', score[0])\n",
    "print('Test accuracy:', score[1])"
   ]
  },
  {
   "cell_type": "markdown",
   "metadata": {
    "id": "dKosd9gE3a51"
   },
   "source": [
    "\n",
    "\n",
    "\n",
    "<h1 style=\"color:#3f8088; font-style:italic; font-family:Cursive;\"> <center>Convolutional Neural Networks (CNN)</center> </h1>\n",
    "\n",
    " "
   ]
  },
  {
   "cell_type": "code",
   "execution_count": 61,
   "metadata": {
    "id": "oSLbt_ksGkLQ"
   },
   "outputs": [],
   "source": [
    "from keras.models import Model\n",
    "from keras.layers import Input, Dense, Dropout, Flatten, Conv1D, MaxPooling1D, Concatenate, Embedding\n",
    "\n",
    "def build_model_cnn_text(word_index, nclasses, MAX_SEQUENCE_LENGTH=500, EMBEDDING_DIM=50, dropout=0.5):\n",
    "   \n",
    "    model = Sequential()\n",
    "    embedding_matrix = np.random.random((len(word_index) + 1, EMBEDDING_DIM))\n",
    "\n",
    "    embedding_layer = Embedding(len(word_index) + 1,\n",
    "                                EMBEDDING_DIM,\n",
    "                                weights=[embedding_matrix],\n",
    "                                input_length=MAX_SEQUENCE_LENGTH,\n",
    "                                trainable=True)\n",
    "\n",
    "    # applying a more complex convolutional approach\n",
    "    convs = []\n",
    "    filter_sizes = []\n",
    "    layer = 5\n",
    "    print(\"Filter  \",layer)\n",
    "    for fl in range(0,layer):\n",
    "        filter_sizes.append((fl+2))\n",
    "\n",
    "    node = 128\n",
    "    sequence_input = Input(shape=(MAX_SEQUENCE_LENGTH,), dtype='int32')\n",
    "    embedded_sequences = embedding_layer(sequence_input)\n",
    "\n",
    "    for fsz in filter_sizes:\n",
    "        l_conv = Conv1D(node, kernel_size=fsz, activation='relu')(embedded_sequences)\n",
    "        l_pool = MaxPooling1D(5)(l_conv)\n",
    "        #l_pool = Dropout(0.25)(l_pool)\n",
    "        convs.append(l_pool)\n",
    "\n",
    "    l_merge = Concatenate(axis=1)(convs)\n",
    "    l_cov1 = Conv1D(node, 5, activation='relu')(l_merge)\n",
    "    l_cov1 = Dropout(dropout)(l_cov1)\n",
    "    l_pool1 = MaxPooling1D(5)(l_cov1)\n",
    "    l_cov2 = Conv1D(node, 5, activation='relu')(l_pool1)\n",
    "    l_cov2 = Dropout(dropout)(l_cov2)\n",
    "    l_pool2 = MaxPooling1D(30)(l_cov2)\n",
    "    l_flat = Flatten()(l_pool2)\n",
    "    l_dense = Dense(1024, activation='relu')(l_flat)\n",
    "    l_dense = Dropout(dropout)(l_dense)\n",
    "    l_dense = Dense(512, activation='relu')(l_dense)\n",
    "    l_dense = Dropout(dropout)(l_dense)\n",
    "    preds = Dense(number_of_labels, activation='softmax')(l_dense)\n",
    "    model = Model(sequence_input, preds)\n",
    "\n",
    "    model.compile(loss='categorical_crossentropy',\n",
    "                  optimizer='adam',\n",
    "                  metrics=['accuracy'])\n",
    "\n",
    "    return model\n"
   ]
  },
  {
   "cell_type": "code",
   "execution_count": 62,
   "metadata": {
    "colab": {
     "base_uri": "https://localhost:8080/"
    },
    "id": "SsJ9cOVJNnjF",
    "outputId": "feef5821-e8d5-44a1-a9b1-9ef842f82d22"
   },
   "outputs": [
    {
     "name": "stdout",
     "output_type": "stream",
     "text": [
      "Filter   5\n",
      "Epoch 1/10\n",
      "228/228 - 35s - loss: 1.7359 - accuracy: 0.2826 - val_loss: 1.3514 - val_accuracy: 0.5038 - 35s/epoch - 151ms/step\n",
      "Epoch 2/10\n",
      "228/228 - 28s - loss: 0.8865 - accuracy: 0.6305 - val_loss: 0.7761 - val_accuracy: 0.8042 - 28s/epoch - 121ms/step\n",
      "Epoch 3/10\n",
      "228/228 - 23s - loss: 0.4028 - accuracy: 0.8519 - val_loss: 0.4544 - val_accuracy: 0.8954 - 23s/epoch - 101ms/step\n",
      "Epoch 4/10\n",
      "228/228 - 19s - loss: 0.1852 - accuracy: 0.9369 - val_loss: 0.2829 - val_accuracy: 0.9308 - 19s/epoch - 83ms/step\n",
      "Epoch 5/10\n",
      "228/228 - 18s - loss: 0.1278 - accuracy: 0.9578 - val_loss: 0.3435 - val_accuracy: 0.9378 - 18s/epoch - 77ms/step\n",
      "Epoch 6/10\n",
      "228/228 - 18s - loss: 0.0858 - accuracy: 0.9728 - val_loss: 0.2169 - val_accuracy: 0.9461 - 18s/epoch - 78ms/step\n",
      "Epoch 7/10\n",
      "228/228 - 15s - loss: 0.0575 - accuracy: 0.9819 - val_loss: 0.1928 - val_accuracy: 0.9438 - 15s/epoch - 67ms/step\n",
      "Epoch 8/10\n",
      "228/228 - 14s - loss: 0.0517 - accuracy: 0.9848 - val_loss: 0.1707 - val_accuracy: 0.9569 - 14s/epoch - 62ms/step\n",
      "Epoch 9/10\n",
      "228/228 - 13s - loss: 0.0393 - accuracy: 0.9882 - val_loss: 0.2089 - val_accuracy: 0.9335 - 13s/epoch - 58ms/step\n",
      "Epoch 10/10\n",
      "228/228 - 13s - loss: 0.0349 - accuracy: 0.9891 - val_loss: 0.1575 - val_accuracy: 0.9529 - 13s/epoch - 58ms/step\n"
     ]
    }
   ],
   "source": [
    "from keras.utils import to_categorical\n",
    "\n",
    "nclasses = 7\n",
    "MAX_SEQUENCE_LENGTH=300\n",
    "EMBEDDING_DIM = 50\n",
    "dropout = 0.5\n",
    "model = build_model_cnn_text(word_index, nclasses, MAX_SEQUENCE_LENGTH, EMBEDDING_DIM, dropout)\n",
    "\n",
    "\n",
    "\n",
    "history=model.fit(x_train, y_train, validation_split=0.2,\n",
    "                              epochs=10,\n",
    "                              batch_size=128,\n",
    "                              verbose=2)\n",
    "\n"
   ]
  },
  {
   "cell_type": "code",
   "execution_count": 63,
   "metadata": {
    "colab": {
     "base_uri": "https://localhost:8080/",
     "height": 541
    },
    "id": "fKL60PQmf8E0",
    "outputId": "e9af36e1-3111-4a9e-96ee-9b4cc28ffc42"
   },
   "outputs": [
    {
     "data": {
      "image/png": "[encoded data removed]",
      "text/plain": [
       "<Figure size 432x288 with 1 Axes>"
      ]
     },
     "metadata": {
      "needs_background": "light"
     },
     "output_type": "display_data"
    },
    {
     "data": {
      "image/png": "[encoded data removed]",
      "text/plain": [
       "<Figure size 432x288 with 1 Axes>"
      ]
     },
     "metadata": {
      "needs_background": "light"
     },
     "output_type": "display_data"
    }
   ],
   "source": [
    "def plot_graphs(history, string):\n",
    "  plt.plot(history.history[string])\n",
    "  plt.plot(history.history['val_'+string])\n",
    "  plt.xlabel(\"Epochs\")\n",
    "  plt.ylabel(string)\n",
    "  plt.legend([string, 'val_'+string])\n",
    "  plt.show()\n",
    "  \n",
    "plot_graphs(history, \"accuracy\")\n",
    "plot_graphs(history, \"loss\")"
   ]
  },
  {
   "cell_type": "code",
   "execution_count": 64,
   "metadata": {
    "colab": {
     "base_uri": "https://localhost:8080/"
    },
    "id": "G5ErGXkF2eLg",
    "outputId": "6179e658-919a-4178-b058-b114e2d542d8"
   },
   "outputs": [
    {
     "name": "stdout",
     "output_type": "stream",
     "text": [
      "143/143 [==============================] - 1s 8ms/step - loss: 0.1407 - accuracy: 0.9587\n",
      "Test loss: 0.1406591385602951\n",
      "Test accuracy: 0.9586676955223083\n"
     ]
    }
   ],
   "source": [
    "# Evaluate the accuracy of our trained model\n",
    "score = model.evaluate(x_test, y_test,\n",
    "                       batch_size=64, verbose=1)\n",
    "print('Test loss:', score[0])\n",
    "print('Test accuracy:', score[1])"
   ]
  },
  {
   "cell_type": "markdown",
   "metadata": {
    "id": "kHKCcGqqZUCF"
   },
   "source": [
    "\n",
    "\n",
    "\n",
    "<h1 style=\"color:#3f8088; font-style:italic; font-family:Cursive;\"> <center> Convolutional Neural Networks (CNN) with KeraStuner</center> </h1>\n",
    "\n",
    " "
   ]
  },
  {
   "cell_type": "code",
   "execution_count": 29,
   "metadata": {
    "colab": {
     "base_uri": "https://localhost:8080/"
    },
    "id": "sGj8A0b-szmJ",
    "outputId": "210b8643-5d9d-4ac8-e7ef-19cc69e81486"
   },
   "outputs": [
    {
     "name": "stdout",
     "output_type": "stream",
     "text": [
      "Trial 5 Complete [00h 05m 26s]\n",
      "val_accuracy: 0.9539708495140076\n",
      "\n",
      "Best val_accuracy So Far: 0.9604287147521973\n",
      "Total elapsed time: 00h 18m 18s\n",
      "Results summary\n",
      "Results in my_dir/helloworld\n",
      "Showing 10 best trials\n",
      "<keras_tuner.engine.objective.Objective object at 0x7f2d582d40d0>\n",
      "Trial summary\n",
      "Hyperparameters:\n",
      "dropout: 0.5\n",
      "Score: 0.9604287147521973\n",
      "Trial summary\n",
      "Hyperparameters:\n",
      "dropout: 0.4\n",
      "Score: 0.9602912664413452\n",
      "Trial summary\n",
      "Hyperparameters:\n",
      "dropout: 0.2\n",
      "Score: 0.9539708495140076\n",
      "Filter   5\n"
     ]
    }
   ],
   "source": [
    "from tensorflow import keras\n",
    "from keras import layers\n",
    "from kerastuner.tuners import RandomSearch\n",
    "from keras.utils import to_categorical\n",
    "\n",
    "def build_model_cnn_text(hp):\n",
    "    nclasses = 5\n",
    "    MAX_SEQUENCE_LENGTH = 300\n",
    "    EMBEDDING_DIM = 50\n",
    "    \n",
    "    layer = 5\n",
    "    print(\"Filter  \", layer)\n",
    "    filter_sizes = []\n",
    "    for fl in range(0, layer):\n",
    "        filter_sizes.append((fl+2))\n",
    "\n",
    "    node = 128\n",
    "    \n",
    "    sequence_input = keras.Input(shape=(MAX_SEQUENCE_LENGTH,), dtype='int32')\n",
    "    \n",
    "    # Define hyperparameters\n",
    "    embedding_matrix = np.random.random((len(word_index) + 1, EMBEDDING_DIM))\n",
    "    dropout = hp.Float('dropout', 0.1, 0.5, step=0.1)\n",
    "\n",
    "    embedding_layer = layers.Embedding(len(word_index) + 1,\n",
    "                                       EMBEDDING_DIM,\n",
    "                                       weights=[embedding_matrix],\n",
    "                                       input_length=MAX_SEQUENCE_LENGTH,\n",
    "                                       trainable=True)\n",
    "\n",
    "    convs = []\n",
    "    embedded_sequences = embedding_layer(sequence_input)\n",
    "    \n",
    "    for fsz in filter_sizes:\n",
    "        l_conv = layers.Conv1D(node, kernel_size=fsz, activation='relu')(embedded_sequences)\n",
    "        l_pool = layers.MaxPooling1D(5)(l_conv)\n",
    "        convs.append(l_pool)\n",
    "\n",
    "    l_merge = layers.Concatenate(axis=1)(convs)\n",
    "    l_cov1 = layers.Conv1D(node, 5, activation='relu')(l_merge)\n",
    "    l_cov1 = layers.Dropout(dropout)(l_cov1)\n",
    "    l_pool1 = layers.MaxPooling1D(5)(l_cov1)\n",
    "    l_cov2 = layers.Conv1D(node, 5, activation='relu')(l_pool1)\n",
    "    l_cov2 = layers.Dropout(dropout)(l_cov2)\n",
    "    l_pool2 = layers.MaxPooling1D(30)(l_cov2)\n",
    "    l_flat = layers.Flatten()(l_pool2)\n",
    "    l_dense = layers.Dense(1024, activation='relu')(l_flat)\n",
    "    l_dense = layers.Dropout(dropout)(l_dense)\n",
    "    l_dense = layers.Dense(512, activation='relu')(l_dense)\n",
    "    l_dense = layers.Dropout(dropout)(l_dense)\n",
    "    preds = layers.Dense(number_of_labels, activation='softmax')(l_dense)\n",
    "    model = keras.Model(sequence_input, preds)\n",
    "\n",
    "    model.compile(loss='categorical_crossentropy',\n",
    "                  optimizer='adam',\n",
    "                  metrics=['accuracy'])\n",
    "\n",
    "    return model\n",
    "\n",
    "tuner = RandomSearch(\n",
    "    build_model_cnn_text,\n",
    "    objective='val_accuracy',\n",
    "    max_trials=5,\n",
    "    executions_per_trial=1,\n",
    "    directory='my_dir',\n",
    "    project_name='helloworld')\n",
    "\n",
    "y_train = to_categorical(y_train,number_of_labels)\n",
    "y_test = to_categorical(y_test, number_of_labels)\n",
    "\n",
    "tuner.search_space_summary()\n",
    "\n",
    "tuner.search(x_train, y_train,\n",
    "             epochs=10,\n",
    "             validation_split=0.2)\n",
    "\n",
    "tuner.results_summary()\n",
    "\n",
    "# Retrieve the best model and evaluate it on the test data\n",
    "best_model = tuner.get_best_models(num_models=1)[0]\n"
   ]
  },
  {
   "cell_type": "code",
   "execution_count": 30,
   "metadata": {
    "colab": {
     "base_uri": "https://localhost:8080/"
    },
    "id": "i2OUZwBWEW4L",
    "outputId": "694eb06d-e529-46c4-eb18-c09484925223"
   },
   "outputs": [
    {
     "name": "stdout",
     "output_type": "stream",
     "text": [
      "143/143 [==============================] - 2s 9ms/step - loss: 0.1430 - accuracy: 0.9609\n",
      "Test loss: 0.1429819017648697\n",
      "Test accuracy: 0.9608662128448486\n"
     ]
    }
   ],
   "source": [
    "# Evaluate the accuracy of our trained model\n",
    "score = best_model.evaluate(x_test, y_test,\n",
    "                       batch_size=64, verbose=1)\n",
    "print('Test loss:', score[0])\n",
    "print('Test accuracy:', score[1])"
   ]
  },
  {
   "cell_type": "markdown",
   "metadata": {
    "id": "uXeogZEK44xW"
   },
   "source": [
    "\n",
    "\n",
    "\n",
    "<h1 style=\"color:#3f8088; font-style:italic; font-family:Cursive;\"> <center>RNN with KerasTunner</center> </h1>\n",
    "\n",
    " "
   ]
  },
  {
   "cell_type": "code",
   "execution_count": 30,
   "metadata": {
    "colab": {
     "base_uri": "https://localhost:8080/"
    },
    "id": "CDLOmZRe2OS4",
    "outputId": "57647de0-904e-4d19-de08-f3ff073010d3"
   },
   "outputs": [
    {
     "name": "stdout",
     "output_type": "stream",
     "text": [
      "Epoch 1/10\n",
      "910/910 [==============================] - 136s 142ms/step - loss: 1.1214 - accuracy: 0.5876 - val_loss: 0.4224 - val_accuracy: 0.8787\n",
      "Epoch 2/10\n",
      "910/910 [==============================] - 68s 75ms/step - loss: 0.4651 - accuracy: 0.8559 - val_loss: 0.3040 - val_accuracy: 0.9215\n",
      "Epoch 3/10\n",
      "910/910 [==============================] - 54s 59ms/step - loss: 0.2239 - accuracy: 0.9356 - val_loss: 0.2159 - val_accuracy: 0.9412\n",
      "Epoch 4/10\n",
      "910/910 [==============================] - 47s 52ms/step - loss: 0.2123 - accuracy: 0.9415 - val_loss: 0.1795 - val_accuracy: 0.9536\n",
      "Epoch 5/10\n",
      "910/910 [==============================] - 41s 45ms/step - loss: 0.1231 - accuracy: 0.9660 - val_loss: 0.1556 - val_accuracy: 0.9611\n",
      "Epoch 6/10\n",
      "910/910 [==============================] - 39s 42ms/step - loss: 0.0767 - accuracy: 0.9815 - val_loss: 0.1872 - val_accuracy: 0.9562\n",
      "Epoch 7/10\n",
      "910/910 [==============================] - 38s 42ms/step - loss: 0.3028 - accuracy: 0.9235 - val_loss: 0.2065 - val_accuracy: 0.9518\n",
      "Epoch 8/10\n",
      "910/910 [==============================] - 40s 44ms/step - loss: 0.2590 - accuracy: 0.9396 - val_loss: 0.2604 - val_accuracy: 0.9411\n",
      "Epoch 9/10\n",
      "910/910 [==============================] - 36s 40ms/step - loss: 0.1968 - accuracy: 0.9492 - val_loss: 0.2898 - val_accuracy: 0.9320\n",
      "Epoch 10/10\n",
      "910/910 [==============================] - 37s 40ms/step - loss: 0.1013 - accuracy: 0.9745 - val_loss: 0.3307 - val_accuracy: 0.9248\n"
     ]
    }
   ],
   "source": [
    "import tensorflow as tf\n",
    "from tensorflow import keras\n",
    "from keras import layers\n",
    "from kerastuner.tuners import RandomSearch\n",
    "from keras.utils import to_categorical\n",
    "\n",
    "def build_rnn_model(hp):\n",
    "    vocab_size = 10000  # Replace with your actual vocabulary size\n",
    "    maxlen = 300  # Replace with your actual maximum sequence length\n",
    "    embedding_dim = hp.Int('embedding_dim', min_value=32, max_value=512, step=32)\n",
    "    lstm_units = hp.Int('lstm_units', min_value=32, max_value=512, step=32)\n",
    "  \n",
    "\n",
    "    model = keras.Sequential()\n",
    "    model.add(layers.Embedding(vocab_size, embedding_dim, input_length=maxlen))\n",
    "    model.add(layers.LSTM(units=lstm_units))\n",
    "    model.add(layers.Dense(number_of_labels, activation='sigmoid'))\n",
    "\n",
    "    model.compile(\n",
    "        optimizer=keras.optimizers.Adam(\n",
    "            hp.Choice('learning_rate', values=[1e-2, 1e-3, 1e-4])\n",
    "        ),\n",
    "        loss='categorical_crossentropy',\n",
    "        metrics=['accuracy']\n",
    "    )\n",
    "\n",
    "    return model\n",
    "\n",
    "# Define the search space for hyperparameters\n",
    "tuner = RandomSearch(\n",
    "    build_rnn_model,\n",
    "    objective='val_accuracy',\n",
    "    max_trials=8,\n",
    "    executions_per_trial=1,\n",
    "    directory='my_dir',\n",
    "    project_name='my_project'\n",
    ")\n",
    "y_train = to_categorical(y_train,number_of_labels)\n",
    "y_test = to_categorical(y_test, number_of_labels)\n",
    "# # Perform the hyperparameter search\n",
    "tuner.search(x=x_train, y=y_train, epochs=5, validation_data=(x_test, y_test))\n",
    "\n",
    "# Get the best hyperparameters and retrain the model on all data\n",
    "best_hp = tuner.get_best_hyperparameters()[0]\n",
    "model = build_rnn_model(best_hp)\n",
    "history=model.fit(x_train, y_train, epochs=10, validation_split=0.2)\n"
   ]
  },
  {
   "cell_type": "code",
   "execution_count": 31,
   "metadata": {
    "colab": {
     "base_uri": "https://localhost:8080/",
     "height": 545
    },
    "id": "wRt96r2s2ZOg",
    "outputId": "8b7f8410-8e62-4b31-ad51-0b3ee4168d45"
   },
   "outputs": [
    {
     "data": {
      "image/png": "[encoded data removed]",
      "text/plain": [
       "<Figure size 432x288 with 1 Axes>"
      ]
     },
     "metadata": {
      "needs_background": "light"
     },
     "output_type": "display_data"
    },
    {
     "data": {
      "image/png": "[encoded data removed]",
      "text/plain": [
       "<Figure size 432x288 with 1 Axes>"
      ]
     },
     "metadata": {
      "needs_background": "light"
     },
     "output_type": "display_data"
    }
   ],
   "source": [
    "def plot_graphs(history, string):\n",
    "  plt.plot(history.history[string])\n",
    "  plt.plot(history.history['val_'+string])\n",
    "  plt.xlabel(\"Epochs\")\n",
    "  plt.ylabel(string)\n",
    "  plt.legend([string, 'val_'+string])\n",
    "  plt.show()\n",
    "  \n",
    "plot_graphs(history, \"accuracy\")\n",
    "plot_graphs(history, \"loss\")"
   ]
  },
  {
   "cell_type": "code",
   "execution_count": 32,
   "metadata": {
    "colab": {
     "base_uri": "https://localhost:8080/"
    },
    "id": "1pRHNBv1E2D2",
    "outputId": "0345e1f4-f191-4e44-fec7-b90074fef744"
   },
   "outputs": [
    {
     "name": "stdout",
     "output_type": "stream",
     "text": [
      "143/143 [==============================] - 3s 24ms/step - loss: 0.3287 - accuracy: 0.9295\n",
      "Test loss: 0.3286524713039398\n",
      "Test accuracy: 0.9295372366905212\n"
     ]
    }
   ],
   "source": [
    "# Evaluate the accuracy of our trained model\n",
    "score = model.evaluate(x_test, y_test,\n",
    "                       batch_size=64, verbose=1)\n",
    "print('Test loss:', score[0])\n",
    "print('Test accuracy:', score[1])"
   ]
  },
  {
   "cell_type": "markdown",
   "metadata": {
    "id": "jwf72HScC9AH"
   },
   "source": [
    "<a id = '2'></a>\n",
    "## <h1 style='border-radius:10px; background-color:#3f8088; font-size:180%; color:#b9f6f6; text-align: center; font-style:italic; font-family: Cursive'><center> ## Arabiya dataset </center></h1> "
   ]
  },
  {
   "cell_type": "code",
   "execution_count": 2,
   "metadata": {
    "id": "q2ESU7csDBRJ"
   },
   "outputs": [],
   "source": [
    "\n",
    "# Define path to zip file and directory to extract\n",
    "zip_path = '/content/Arabiya.zip'\n",
    "extract_path = '/content/Arabiya'\n",
    "# Create a GPU device to use\n",
    "device = '/device:GPU:0'\n",
    "# Define a function to unzip the file\n",
    "def unzip_file(zip_path, extract_path):\n",
    "    with tf.device(device):\n",
    "        os.system('unzip -q {} -d {}'.format(zip_path, extract_path))\n",
    "# Call the function to unzip the file\n",
    "unzip_file(zip_path, extract_path)"
   ]
  },
  {
   "cell_type": "code",
   "execution_count": 3,
   "metadata": {
    "colab": {
     "base_uri": "https://localhost:8080/"
    },
    "id": "NwchOe7DDIth",
    "outputId": "d70ebe3e-4efa-48c6-af87-bfbb2420f8cc"
   },
   "outputs": [
    {
     "name": "stdout",
     "output_type": "stream",
     "text": [
      "Found 71246 files belonging to 7 classes.\n"
     ]
    }
   ],
   "source": [
    "#load data as tf.data.Dataset\n",
    "seed=42\n",
    "data_paths = '/content/Arabiya'\n",
    "labels=os.listdir(data_paths) \n",
    "raw_data = tf.keras.preprocessing.text_dataset_from_directory(\n",
    "    data_paths,\n",
    "    labels=\"inferred\",\n",
    "    label_mode=\"int\",\n",
    "    max_length=None,\n",
    "    shuffle=True,\n",
    "    seed=seed,\n",
    "    validation_split=None,\n",
    "    subset=None,\n",
    "    follow_links=False,\n",
    ")"
   ]
  },
  {
   "cell_type": "code",
   "execution_count": 4,
   "metadata": {
    "colab": {
     "base_uri": "https://localhost:8080/"
    },
    "id": "n3W2nE9rDbS5",
    "outputId": "ca9d7c06-3448-4689-b863-b3a23e7f8540"
   },
   "outputs": [
    {
     "name": "stdout",
     "output_type": "stream",
     "text": [
      "Classes names:\n",
      " ['Culture', 'Finance', 'Medical', 'Politics', 'Religion', 'Sports', 'Tech']\n"
     ]
    }
   ],
   "source": [
    "print(\"Classes names:\\n\",raw_data.class_names)"
   ]
  },
  {
   "cell_type": "code",
   "execution_count": 5,
   "metadata": {
    "colab": {
     "base_uri": "https://localhost:8080/"
    },
    "id": "IVfjxnrEDe4o",
    "outputId": "740d1e6b-de78-48d3-fbcb-e03d32f43a48"
   },
   "outputs": [
    {
     "name": "stdout",
     "output_type": "stream",
     "text": [
      "71246\n",
      "71246\n"
     ]
    }
   ],
   "source": [
    "x=[]\n",
    "y=[]\n",
    "for text_batch, label_batch in raw_data:\n",
    "    for i in range(len(text_batch)):\n",
    "        s=text_batch.numpy()[i].decode(\"utf-8\") \n",
    "        x.append(s)\n",
    "        y.append(raw_data.class_names[label_batch.numpy()[i]])\n",
    "        #print(label_batch.numpy()[i])\n",
    "print(len(x))\n",
    "print(len(y))"
   ]
  },
  {
   "cell_type": "code",
   "execution_count": 6,
   "metadata": {
    "colab": {
     "base_uri": "https://localhost:8080/"
    },
    "id": "pz0Ntn9NDfDQ",
    "outputId": "74b124d4-f493-444c-83b4-ce9bf119585e"
   },
   "outputs": [
    {
     "data": {
      "text/plain": [
       "(['أخفق وزراء الخزانة والمال لدول الاتحاد الأوروبي في أعقاب سلسلة من الاجتماعات في بروكسل استمرت طوال اليومين الماضيين في تسجيل أي تقدم بين دولهم بشأن إرساء الجوانب الأخيرة من الاتحاد البنكي الأوروبي. ورغم سلسلة اجتماعات سبقت، لم يتوصل ساسة المال الأوربيون إلى توافق حول صيغة التفاوض مع البرلمان الأوروبي. وأوضح متحدث أوروبي، بحسب ما نقلته وكالات أنباء، أن نقاط الخلاف عميقة والوزراء لم يكلفوا الرئاسة الدورية الأوروبية التي تتولاها اليونان بأية مهمة محددة لتجاوز العقبات الحالية. وكانت الدول الأوروبية توصلت في ديسمبر الماضي إلى اتفاق مبدئي حول آلية لإنقاذ البنوك المتعثرة بعد اتفاقها على آلية الإشراف على المصارف لتجنب تحميل دافعي الضرائب تبعات الأزمة. وطالب البرلمان الأوروبي بتدابير ملزمة بالنسبة لإنقاذ البنوك واقتسام صلاحية ذلك مع الحكومات، ما تسبب بسلسلة من التعثر في المباحثات.'],\n",
       " ['Finance'])"
      ]
     },
     "execution_count": 6,
     "metadata": {},
     "output_type": "execute_result"
    }
   ],
   "source": [
    "x[:1] , y[:1]"
   ]
  },
  {
   "cell_type": "code",
   "execution_count": 7,
   "metadata": {
    "colab": {
     "base_uri": "https://localhost:8080/",
     "height": 265
    },
    "id": "lKvjBoigHyjW",
    "outputId": "7decb7df-81bf-4d4c-fe04-a8547ca504cc"
   },
   "outputs": [
    {
     "data": {
      "image/png": "[encoded data removed]",
      "text/plain": [
       "<Figure size 432x288 with 1 Axes>"
      ]
     },
     "metadata": {
      "needs_background": "light"
     },
     "output_type": "display_data"
    }
   ],
   "source": [
    "unique, counts = np.unique(y, return_counts=True)\n",
    "unique, counts = np.unique(y, return_counts=True)\n",
    "labels = [format(i) for i in unique]\n",
    "plt.bar( labels,counts)\n",
    "plt.show()"
   ]
  },
  {
   "cell_type": "markdown",
   "metadata": {
    "id": "azNAzCe8Uurw"
   },
   "source": [
    "<div style=\"border-radius:10px;\n",
    "            background-color:#ffffff;\n",
    "            border-style: solid;\n",
    "            border-color: #3f8088;\n",
    "            letter-spacing:0.5px;\n",
    "            font-family: Cursive; \n",
    "            font-size:16px;\n",
    "            padding: 10px;\">\n",
    "    \n",
    "# Rq:we have unblanced dataset"
   ]
  },
  {
   "cell_type": "code",
   "execution_count": 8,
   "metadata": {
    "id": "V8F2mY4cQOa3"
   },
   "outputs": [],
   "source": [
    "data =pd.DataFrame({\"text\":x,\"label\":y})"
   ]
  },
  {
   "cell_type": "code",
   "execution_count": 9,
   "metadata": {
    "colab": {
     "base_uri": "https://localhost:8080/"
    },
    "id": "MY6-2gB1Kg1a",
    "outputId": "dc1c82c0-c2ec-41b7-e7c4-e64e7ed9e6fe"
   },
   "outputs": [
    {
     "name": "stdout",
     "output_type": "stream",
     "text": [
      "Finance     0.422143\n",
      "Sports      0.323639\n",
      "Culture     0.078868\n",
      "Tech        0.061898\n",
      "Politics    0.061309\n",
      "Medical     0.052143\n",
      "Name: label, dtype: float64\n",
      "Finance     0.166667\n",
      "Sports      0.166667\n",
      "Medical     0.166667\n",
      "Tech        0.166667\n",
      "Culture     0.166667\n",
      "Politics    0.166667\n",
      "Name: label, dtype: float64\n"
     ]
    }
   ],
   "source": [
    "import pandas as pd\n",
    "from sklearn.utils import resample\n",
    "\n",
    "\n",
    "# Check the distribution of target classes\n",
    "target_distribution = data['label'].value_counts(normalize=True)\n",
    "print(target_distribution)\n",
    "\n",
    "# Set target class size to the size of the smallest class\n",
    "target_class_size = data['label'].value_counts().min()\n",
    "\n",
    "# Upsample each class to match the target class size\n",
    "balanced_data = pd.DataFrame()\n",
    "for target_class in data['label'].unique():\n",
    "    class_data = data[data['label'] == target_class]\n",
    "    upsampled_class_data = resample(class_data,\n",
    "                                    replace=True,  # sample with replacement\n",
    "                                    n_samples=target_class_size,  # to match target class size\n",
    "                                    random_state=42)  # reproducible results\n",
    "    balanced_data = pd.concat([balanced_data, upsampled_class_data])\n",
    "\n",
    "# Check the distribution of target classes in balanced data\n",
    "balanced_target_distribution = balanced_data['label'].value_counts(normalize=True)\n",
    "print(balanced_target_distribution)\n",
    "\n",
    "\n"
   ]
  },
  {
   "cell_type": "code",
   "execution_count": 10,
   "metadata": {
    "colab": {
     "base_uri": "https://localhost:8080/"
    },
    "id": "jIgrC0nfzUvk",
    "outputId": "5675c42e-6c61-44ca-bdd3-609def85ef67"
   },
   "outputs": [
    {
     "data": {
      "text/plain": [
       "Finance     0.166667\n",
       "Sports      0.166667\n",
       "Medical     0.166667\n",
       "Tech        0.166667\n",
       "Culture     0.166667\n",
       "Politics    0.166667\n",
       "Name: label, dtype: float64"
      ]
     },
     "execution_count": 10,
     "metadata": {},
     "output_type": "execute_result"
    }
   ],
   "source": [
    "balanced_target_distribution[:]"
   ]
  },
  {
   "cell_type": "code",
   "execution_count": 11,
   "metadata": {
    "colab": {
     "base_uri": "https://localhost:8080/",
     "height": 265
    },
    "id": "QlmPswsBQt7W",
    "outputId": "e7731b8f-e610-4e49-d8f9-efbe88afa946"
   },
   "outputs": [
    {
     "data": {
      "image/png": "[encoded data removed]",
      "text/plain": [
       "<Figure size 432x288 with 1 Axes>"
      ]
     },
     "metadata": {
      "needs_background": "light"
     },
     "output_type": "display_data"
    }
   ],
   "source": [
    "counts=balanced_target_distribution[:]\n",
    "plt.bar( labels,counts)\n",
    "plt.show()"
   ]
  },
  {
   "cell_type": "markdown",
   "metadata": {
    "id": "kpT6xOcrQwgG"
   },
   "source": []
  },
  {
   "cell_type": "code",
   "execution_count": 12,
   "metadata": {
    "id": "5r84NMvf7ot_"
   },
   "outputs": [],
   "source": [
    "#create the vocab \n",
    "vocab = sorted(set(' '.join(x))) "
   ]
  },
  {
   "cell_type": "code",
   "execution_count": 13,
   "metadata": {
    "colab": {
     "base_uri": "https://localhost:8080/",
     "height": 363
    },
    "id": "S-A5bAV1DfRl",
    "outputId": "6c552f80-562f-45c3-906a-5fdf2ddf94a1"
   },
   "outputs": [
    {
     "data": {
      "text/html": [
       "\n",
       "  <div id=\"df-0759b977-d104-4102-8880-4dd92795e4bf\">\n",
       "    <div class=\"colab-df-container\">\n",
       "      <div>\n",
       "<style scoped>\n",
       "    .dataframe tbody tr th:only-of-type {\n",
       "        vertical-align: middle;\n",
       "    }\n",
       "\n",
       "    .dataframe tbody tr th {\n",
       "        vertical-align: top;\n",
       "    }\n",
       "\n",
       "    .dataframe thead th {\n",
       "        text-align: right;\n",
       "    }\n",
       "</style>\n",
       "<table border=\"1\" class=\"dataframe\">\n",
       "  <thead>\n",
       "    <tr style=\"text-align: right;\">\n",
       "      <th></th>\n",
       "      <th>text</th>\n",
       "      <th>label</th>\n",
       "    </tr>\n",
       "  </thead>\n",
       "  <tbody>\n",
       "    <tr>\n",
       "      <th>0</th>\n",
       "      <td>أخفق وزراء الخزانة والمال لدول الاتحاد الأوروب...</td>\n",
       "      <td>Finance</td>\n",
       "    </tr>\n",
       "    <tr>\n",
       "      <th>1</th>\n",
       "      <td>وجّه الروماني لورينتو ريجيكامب مدرب الهلال رسا...</td>\n",
       "      <td>Sports</td>\n",
       "    </tr>\n",
       "    <tr>\n",
       "      <th>2</th>\n",
       "      <td>من أجل اتباع نظام غذائي صحي خلال شهر رمضان يتو...</td>\n",
       "      <td>Medical</td>\n",
       "    </tr>\n",
       "    <tr>\n",
       "      <th>3</th>\n",
       "      <td>حذرت إيطاليا تجار النفط من احتمال مواجهة إجراء...</td>\n",
       "      <td>Finance</td>\n",
       "    </tr>\n",
       "    <tr>\n",
       "      <th>4</th>\n",
       "      <td>أعلنت خدمة الإعلانات \"آد وردز\" AdWords التابعة...</td>\n",
       "      <td>Tech</td>\n",
       "    </tr>\n",
       "    <tr>\n",
       "      <th>5</th>\n",
       "      <td>قفزت مؤشرات البورصة المصرية بنسب كبيرة، محققة ...</td>\n",
       "      <td>Finance</td>\n",
       "    </tr>\n",
       "    <tr>\n",
       "      <th>6</th>\n",
       "      <td>يملك سيرجيو أغويرو سجلا جيدا في مواجهة برشلونة...</td>\n",
       "      <td>Sports</td>\n",
       "    </tr>\n",
       "    <tr>\n",
       "      <th>7</th>\n",
       "      <td>نمت أرباح بنك أوف تشاينا، رابع أكبر بنك تجاري ...</td>\n",
       "      <td>Finance</td>\n",
       "    </tr>\n",
       "    <tr>\n",
       "      <th>8</th>\n",
       "      <td>أكد المدير التنفيذي للاتحاد الدولي للنقل الجوي...</td>\n",
       "      <td>Finance</td>\n",
       "    </tr>\n",
       "    <tr>\n",
       "      <th>9</th>\n",
       "      <td>رغم أن أجور الأطباء في جميع دول العالم تعتبر ا...</td>\n",
       "      <td>Finance</td>\n",
       "    </tr>\n",
       "  </tbody>\n",
       "</table>\n",
       "</div>\n",
       "      <button class=\"colab-df-convert\" onclick=\"convertToInteractive('df-0759b977-d104-4102-8880-4dd92795e4bf')\"\n",
       "              title=\"Convert this dataframe to an interactive table.\"\n",
       "              style=\"display:none;\">\n",
       "        \n",
       "  <svg xmlns=\"http://www.w3.org/2000/svg\" height=\"24px\"viewBox=\"0 0 24 24\"\n",
       "       width=\"24px\">\n",
       "    <path d=\"M0 0h24v24H0V0z\" fill=\"none\"/>\n",
       "    <path d=\"M18.56 5.44l.94 2.06.94-2.06 2.06-.94-2.06-.94-.94-2.06-.94 2.06-2.06.94zm-11 1L8.5 8.5l.94-2.06 2.06-.94-2.06-.94L8.5 2.5l-.94 2.06-2.06.94zm10 10l.94 2.06.94-2.06 2.06-.94-2.06-.94-.94-2.06-.94 2.06-2.06.94z\"/><path d=\"M17.41 7.96l-1.37-1.37c-.4-.4-.92-.59-1.43-.59-.52 0-1.04.2-1.43.59L10.3 9.45l-7.72 7.72c-.78.78-.78 2.05 0 2.83L4 21.41c.39.39.9.59 1.41.59.51 0 1.02-.2 1.41-.59l7.78-7.78 2.81-2.81c.8-.78.8-2.07 0-2.86zM5.41 20L4 18.59l7.72-7.72 1.47 1.35L5.41 20z\"/>\n",
       "  </svg>\n",
       "      </button>\n",
       "      \n",
       "  <style>\n",
       "    .colab-df-container {\n",
       "      display:flex;\n",
       "      flex-wrap:wrap;\n",
       "      gap: 12px;\n",
       "    }\n",
       "\n",
       "    .colab-df-convert {\n",
       "      background-color: #E8F0FE;\n",
       "      border: none;\n",
       "      border-radius: 50%;\n",
       "      cursor: pointer;\n",
       "      display: none;\n",
       "      fill: #1967D2;\n",
       "      height: 32px;\n",
       "      padding: 0 0 0 0;\n",
       "      width: 32px;\n",
       "    }\n",
       "\n",
       "    .colab-df-convert:hover {\n",
       "      background-color: #E2EBFA;\n",
       "      box-shadow: 0px 1px 2px rgba(60, 64, 67, 0.3), 0px 1px 3px 1px rgba(60, 64, 67, 0.15);\n",
       "      fill: #174EA6;\n",
       "    }\n",
       "\n",
       "    [theme=dark] .colab-df-convert {\n",
       "      background-color: #3B4455;\n",
       "      fill: #D2E3FC;\n",
       "    }\n",
       "\n",
       "    [theme=dark] .colab-df-convert:hover {\n",
       "      background-color: #434B5C;\n",
       "      box-shadow: 0px 1px 3px 1px rgba(0, 0, 0, 0.15);\n",
       "      filter: drop-shadow(0px 1px 2px rgba(0, 0, 0, 0.3));\n",
       "      fill: #FFFFFF;\n",
       "    }\n",
       "  </style>\n",
       "\n",
       "      <script>\n",
       "        const buttonEl =\n",
       "          document.querySelector('#df-0759b977-d104-4102-8880-4dd92795e4bf button.colab-df-convert');\n",
       "        buttonEl.style.display =\n",
       "          google.colab.kernel.accessAllowed ? 'block' : 'none';\n",
       "\n",
       "        async function convertToInteractive(key) {\n",
       "          const element = document.querySelector('#df-0759b977-d104-4102-8880-4dd92795e4bf');\n",
       "          const dataTable =\n",
       "            await google.colab.kernel.invokeFunction('convertToInteractive',\n",
       "                                                     [key], {});\n",
       "          if (!dataTable) return;\n",
       "\n",
       "          const docLinkHtml = 'Like what you see? Visit the ' +\n",
       "            '<a target=\"_blank\" href=https://colab.research.google.com/notebooks/data_table.ipynb>data table notebook</a>'\n",
       "            + ' to learn more about interactive tables.';\n",
       "          element.innerHTML = '';\n",
       "          dataTable['output_type'] = 'display_data';\n",
       "          await google.colab.output.renderOutput(dataTable, element);\n",
       "          const docLink = document.createElement('div');\n",
       "          docLink.innerHTML = docLinkHtml;\n",
       "          element.appendChild(docLink);\n",
       "        }\n",
       "      </script>\n",
       "    </div>\n",
       "  </div>\n",
       "  "
      ],
      "text/plain": [
       "                                                text    label\n",
       "0  أخفق وزراء الخزانة والمال لدول الاتحاد الأوروب...  Finance\n",
       "1  وجّه الروماني لورينتو ريجيكامب مدرب الهلال رسا...   Sports\n",
       "2  من أجل اتباع نظام غذائي صحي خلال شهر رمضان يتو...  Medical\n",
       "3  حذرت إيطاليا تجار النفط من احتمال مواجهة إجراء...  Finance\n",
       "4  أعلنت خدمة الإعلانات \"آد وردز\" AdWords التابعة...     Tech\n",
       "5  قفزت مؤشرات البورصة المصرية بنسب كبيرة، محققة ...  Finance\n",
       "6  يملك سيرجيو أغويرو سجلا جيدا في مواجهة برشلونة...   Sports\n",
       "7  نمت أرباح بنك أوف تشاينا، رابع أكبر بنك تجاري ...  Finance\n",
       "8  أكد المدير التنفيذي للاتحاد الدولي للنقل الجوي...  Finance\n",
       "9  رغم أن أجور الأطباء في جميع دول العالم تعتبر ا...  Finance"
      ]
     },
     "execution_count": 13,
     "metadata": {},
     "output_type": "execute_result"
    }
   ],
   "source": [
    "data.head(10)"
   ]
  },
  {
   "cell_type": "code",
   "execution_count": 14,
   "metadata": {
    "colab": {
     "base_uri": "https://localhost:8080/"
    },
    "id": "7Ku_dFBAD4jA",
    "outputId": "7478c020-c362-45d1-d170-0822244ab5bc"
   },
   "outputs": [
    {
     "data": {
      "text/plain": [
       "0"
      ]
     },
     "execution_count": 14,
     "metadata": {},
     "output_type": "execute_result"
    }
   ],
   "source": [
    "data.drop_duplicates(inplace=True)\n",
    "data.duplicated().sum()"
   ]
  },
  {
   "cell_type": "markdown",
   "metadata": {
    "id": "ihP6z0lxR2Cb"
   },
   "source": [
    "\n",
    "\n",
    "\n",
    "<h1 style=\"color:#3f8068; font-style:italic; font-family:Cursive;\"> <center>## Tokenization & Stop words</center> </h1>\n",
    "\n",
    " "
   ]
  },
  {
   "cell_type": "code",
   "execution_count": 15,
   "metadata": {
    "colab": {
     "base_uri": "https://localhost:8080/"
    },
    "id": "vu8h_04-D4mK",
    "outputId": "5d89dfc7-3d1b-4a85-b64f-1fcdd4fe7c05"
   },
   "outputs": [
    {
     "name": "stderr",
     "output_type": "stream",
     "text": [
      "[nltk_data] Downloading package stopwords to /root/nltk_data...\n",
      "[nltk_data]   Package stopwords is already up-to-date!\n",
      "[nltk_data] Downloading package punkt to /root/nltk_data...\n",
      "[nltk_data]   Package punkt is already up-to-date!\n"
     ]
    }
   ],
   "source": [
    "import nltk\n",
    "nltk.download('stopwords')\n",
    "nltk.download('punkt')\n",
    "from nltk.corpus import stopwords\n",
    "from nltk.tokenize import word_tokenize"
   ]
  },
  {
   "cell_type": "code",
   "execution_count": 16,
   "metadata": {
    "id": "fZ2V7HAFD4pA"
   },
   "outputs": [],
   "source": [
    "stop_words = list(set(stopwords.words('arabic')))"
   ]
  },
  {
   "cell_type": "code",
   "execution_count": 17,
   "metadata": {
    "colab": {
     "base_uri": "https://localhost:8080/"
    },
    "id": "rdOHH-A9Rdzq",
    "outputId": "0548c4f4-6ea9-410d-fe6d-7ae945a47ee8"
   },
   "outputs": [
    {
     "name": "stdout",
     "output_type": "stream",
     "text": [
      "                                        Original Text  \\\n",
      "0   أخفق وزراء الخزانة والمال لدول الاتحاد الأوروب...   \n",
      "1   وجّه الروماني لورينتو ريجيكامب مدرب الهلال رسا...   \n",
      "2   من أجل اتباع نظام غذائي صحي خلال شهر رمضان يتو...   \n",
      "3   حذرت إيطاليا تجار النفط من احتمال مواجهة إجراء...   \n",
      "4   أعلنت خدمة الإعلانات \"آد وردز\" AdWords التابعة...   \n",
      "5   قفزت مؤشرات البورصة المصرية بنسب كبيرة، محققة ...   \n",
      "6   يملك سيرجيو أغويرو سجلا جيدا في مواجهة برشلونة...   \n",
      "7   نمت أرباح بنك أوف تشاينا، رابع أكبر بنك تجاري ...   \n",
      "8   أكد المدير التنفيذي للاتحاد الدولي للنقل الجوي...   \n",
      "9   رغم أن أجور الأطباء في جميع دول العالم تعتبر ا...   \n",
      "10  قال رئيس الوزراء التركي رجب طيب أردوغان اليوم ...   \n",
      "11  قال وزير الطاقة الأميركي، إرنست مونيز، إنه يتو...   \n",
      "\n",
      "                                       Tokenized Text  \n",
      "0   [أخفق, وزراء, الخزانة, والمال, لدول, الاتحاد, ...  \n",
      "1   [وجّه, الروماني, لورينتو, ريجيكامب, مدرب, الهل...  \n",
      "2   [اتباع, نظام, غذائي, صحي, خلال, شهر, رمضان, يت...  \n",
      "3   [حذرت, إيطاليا, تجار, النفط, احتمال, مواجهة, إ...  \n",
      "4   [أعلنت, خدمة, الإعلانات, آد, وردز, التابعة, لش...  \n",
      "5   [قفزت, مؤشرات, البورصة, المصرية, بنسب, محققة, ...  \n",
      "6   [يملك, سيرجيو, أغويرو, سجلا, جيدا, مواجهة, برش...  \n",
      "7   [نمت, أرباح, بنك, أوف, أكبر, بنك, تجاري, الصين...  \n",
      "8   [أكد, المدير, التنفيذي, للاتحاد, الدولي, للنقل...  \n",
      "9   [رغم, أجور, الأطباء, دول, العالم, تعتبر, الأعل...  \n",
      "10  [قال, رئيس, الوزراء, التركي, رجب, طيب, أردوغان...  \n",
      "11  [قال, وزير, الطاقة, إرنست, يتوقع, تستعيد, سوق,...  \n"
     ]
    }
   ],
   "source": [
    "# remove punctuation from text\n",
    "def remove_punctuation(text):\n",
    "    # Add a space before and after each punctuation mark\n",
    "    for char in string.punctuation:\n",
    "        text = text.replace(char, ' ' + char + ' ')\n",
    "    # Remove punctuation marks and extra spaces\n",
    "    text = ' '.join(text.split())\n",
    "    return text\n",
    "# Tokenize text\n",
    "def tokenize(text):\n",
    "    # Define regex pattern to match Arabic letters and diacritics\n",
    "    pattern = re.compile('[\\u0621-\\u064A\\u064B-\\u065F]+')\n",
    "    # Remove punctuation from text and tokenize it\n",
    "    tokens = nltk.word_tokenize(remove_punctuation(text))\n",
    "    # Filter out stop words, non-Arabic words, and words less than 2 characters long\n",
    "    arabic_tokens = [token for token in tokens if token not in stop_words and pattern.fullmatch(token)]\n",
    "    return arabic_tokens\n",
    "# # Remove punctuation from 'text' column\n",
    "# data['no_punct'] = data['text'].apply(remove_punctuation)\n",
    "# Tokenize 'no_punct' column\n",
    "# data['tokenized'] = data['no_punct'].apply(tokenize)\n",
    "data['tokenized'] = data['text'].apply(tokenize)\n",
    "display_func = lambda x: pd.Series({'Original Text': x['text'], 'Tokenized Text': x['tokenized']})\n",
    "# Apply the display function to the first 12 rows of the DataFrame\n",
    "display_data = data.head(12).apply(display_func, axis=1)\n",
    "print(display_data)"
   ]
  },
  {
   "cell_type": "markdown",
   "metadata": {
    "id": "AH9AUCPMQVeH"
   },
   "source": [
    "\n",
    "\n",
    "\n",
    "<h1 style=\"color:#3f8068; font-style:italic; font-family:Cursive;\"> <center>Stematization</center> </h1>\n",
    "\n",
    " "
   ]
  },
  {
   "cell_type": "code",
   "execution_count": 18,
   "metadata": {
    "colab": {
     "base_uri": "https://localhost:8080/"
    },
    "id": "WlKixVhPRd2y",
    "outputId": "8184cd38-339b-43be-dc58-f01bf31907ce"
   },
   "outputs": [
    {
     "name": "stderr",
     "output_type": "stream",
     "text": [
      "[nltk_data] Downloading package wordnet to /root/nltk_data...\n",
      "[nltk_data]   Package wordnet is already up-to-date!\n",
      "[nltk_data] Downloading package omw-1.4 to /root/nltk_data...\n",
      "[nltk_data]   Package omw-1.4 is already up-to-date!\n",
      "[nltk_data] Downloading package punkt to /root/nltk_data...\n",
      "[nltk_data]   Package punkt is already up-to-date!\n"
     ]
    },
    {
     "name": "stdout",
     "output_type": "stream",
     "text": [
      "                                        Original Text  \\\n",
      "0   أخفق وزراء الخزانة والمال لدول الاتحاد الأوروب...   \n",
      "1   وجّه الروماني لورينتو ريجيكامب مدرب الهلال رسا...   \n",
      "2   من أجل اتباع نظام غذائي صحي خلال شهر رمضان يتو...   \n",
      "3   حذرت إيطاليا تجار النفط من احتمال مواجهة إجراء...   \n",
      "4   أعلنت خدمة الإعلانات \"آد وردز\" AdWords التابعة...   \n",
      "5   قفزت مؤشرات البورصة المصرية بنسب كبيرة، محققة ...   \n",
      "6   يملك سيرجيو أغويرو سجلا جيدا في مواجهة برشلونة...   \n",
      "7   نمت أرباح بنك أوف تشاينا، رابع أكبر بنك تجاري ...   \n",
      "8   أكد المدير التنفيذي للاتحاد الدولي للنقل الجوي...   \n",
      "9   رغم أن أجور الأطباء في جميع دول العالم تعتبر ا...   \n",
      "10  قال رئيس الوزراء التركي رجب طيب أردوغان اليوم ...   \n",
      "11  قال وزير الطاقة الأميركي، إرنست مونيز، إنه يتو...   \n",
      "12  اختتم فريق الرائد السعودي المرحلة الثانية من ب...   \n",
      "13  وجد نحو 20 ألف مسافر أنفسهم عالقين أمس السبت، ...   \n",
      "14  تراجع صافي أرباح شركة \"جبل عمر\" في العام المنص...   \n",
      "15  تجاهل المدير الفني لمانشستر يونايتد، ديفيد موي...   \n",
      "16  كشف الجزائري الدولي إدريس سعدي، مهاجم نادي كور...   \n",
      "17  ربما تعكس المنافسة المحتدمة بين سيرجيو راموس ل...   \n",
      "18  بدأت شركة النفط البريطانية الهولندية \"رويال شل...   \n",
      "19  وصلت الفنانة إلهام علي إلى الكويت قادمة من جدة...   \n",
      "\n",
      "                                       Tokenized Text  \\\n",
      "0   [أخفق, وزراء, الخزانة, والمال, لدول, الاتحاد, ...   \n",
      "1   [وجّه, الروماني, لورينتو, ريجيكامب, مدرب, الهل...   \n",
      "2   [اتباع, نظام, غذائي, صحي, خلال, شهر, رمضان, يت...   \n",
      "3   [حذرت, إيطاليا, تجار, النفط, احتمال, مواجهة, إ...   \n",
      "4   [أعلنت, خدمة, الإعلانات, آد, وردز, التابعة, لش...   \n",
      "5   [قفزت, مؤشرات, البورصة, المصرية, بنسب, محققة, ...   \n",
      "6   [يملك, سيرجيو, أغويرو, سجلا, جيدا, مواجهة, برش...   \n",
      "7   [نمت, أرباح, بنك, أوف, أكبر, بنك, تجاري, الصين...   \n",
      "8   [أكد, المدير, التنفيذي, للاتحاد, الدولي, للنقل...   \n",
      "9   [رغم, أجور, الأطباء, دول, العالم, تعتبر, الأعل...   \n",
      "10  [قال, رئيس, الوزراء, التركي, رجب, طيب, أردوغان...   \n",
      "11  [قال, وزير, الطاقة, إرنست, يتوقع, تستعيد, سوق,...   \n",
      "12  [اختتم, فريق, الرائد, السعودي, المرحلة, الثاني...   \n",
      "13  [مسافر, أنفسهم, عالقين, اليوم, الثاني, إضراب, ...   \n",
      "14  [تراجع, صافي, أرباح, شركة, جبل, عمر, العام, ال...   \n",
      "15  [تجاهل, المدير, الفني, لمانشستر, ديفيد, نصيحة,...   \n",
      "16  [كشف, الجزائري, الدولي, إدريس, مهاجم, نادي, كو...   \n",
      "17  [ربما, تعكس, المنافسة, المحتدمة, سيرجيو, راموس...   \n",
      "18  [بدأت, شركة, النفط, البريطانية, الهولندية, روي...   \n",
      "19  [وصلت, الفنانة, إلهام, علي, الكويت, قادمة, جدة...   \n",
      "\n",
      "                                      Lemmatized Text  \\\n",
      "0   [أخفق, وزراء, الخزانة, والمال, لدول, الاتحاد, ...   \n",
      "1   [وجّه, الروماني, لورينتو, ريجيكامب, مدرب, الهل...   \n",
      "2   [اتباع, نظام, غذائي, صحي, خلال, شهر, رمضان, يت...   \n",
      "3   [حذرت, إيطاليا, تجار, النفط, احتمال, مواجهة, إ...   \n",
      "4   [أعلنت, خدمة, الإعلانات, آد, وردز, التابعة, لش...   \n",
      "5   [قفزت, مؤشرات, البورصة, المصرية, بنسب, محققة, ...   \n",
      "6   [يملك, سيرجيو, أغويرو, سجلا, جيدا, مواجهة, برش...   \n",
      "7   [نمت, أرباح, بنك, أوف, أكبر, بنك, تجاري, الصين...   \n",
      "8   [أكد, المدير, التنفيذي, للاتحاد, الدولي, للنقل...   \n",
      "9   [رغم, أجور, الأطباء, دول, العالم, تعتبر, الأعل...   \n",
      "10  [قال, رئيس, الوزراء, التركي, رجب, طيب, أردوغان...   \n",
      "11  [قال, وزير, الطاقة, إرنست, يتوقع, تستعيد, سوق,...   \n",
      "12  [اختتم, فريق, الرائد, السعودي, المرحلة, الثاني...   \n",
      "13  [مسافر, أنفسهم, عالقين, اليوم, الثاني, إضراب, ...   \n",
      "14  [تراجع, صافي, أرباح, شركة, جبل, عمر, العام, ال...   \n",
      "15  [تجاهل, المدير, الفني, لمانشستر, ديفيد, نصيحة,...   \n",
      "16  [كشف, الجزائري, الدولي, إدريس, مهاجم, نادي, كو...   \n",
      "17  [ربما, تعكس, المنافسة, المحتدمة, سيرجيو, راموس...   \n",
      "18  [بدأت, شركة, النفط, البريطانية, الهولندية, روي...   \n",
      "19  [وصلت, الفنانة, إلهام, علي, الكويت, قادمة, جدة...   \n",
      "\n",
      "                                   stematization Text  \n",
      "0   [خفق, زرء, خزن, مال, لدل, تحد, ورب, عقب, لسل, ...  \n",
      "1   [وجه, روم, رينتو, ريجيكامب, درب, هلل, رسل, وضح...  \n",
      "2   [تبع, نظم, غذي, صحي, خلل, شهر, رمض, وجب, قسم, ...  \n",
      "3   [حذر, يطل, تجر, نفط, حمل, وجه, جرء, قنو, جنب, ...  \n",
      "4   [اعل, خدم, علن, اد, ردز, ابع, لشر, غوغل, انه, ...  \n",
      "5   [قفز, ؤشر, ورص, صرة, نسب, حقق, كسب, تعد, على, ...  \n",
      "6   [يمل, رجو, غويرو, سجل, جيد, وجه, رشلو, ورب, لع...  \n",
      "7   [نمت, ربح, بنك, اوف, كبر, بنك, جري, صين, قيم, ...  \n",
      "8   [اكد, دير, نفذ, تحد, دول, نقل, جوي, يتا, تون, ...  \n",
      "9   [رغم, اجر, طبء, دول, علم, عبر, على, كثر, كشف, ...  \n",
      "10  [قال, رئس, زرء, ترك, رجب, طيب, ردغ, اليوم, احد...  \n",
      "11  [قال, وزر, طقة, رنس, وقع, تعد, سوق, نفط, وزن, ...  \n",
      "12  [اخت, فرق, رئد, سعد, رحل, ثني, رنمج, عدد, وسم,...  \n",
      "13  [سفر, نفس, علق, اليوم, ثني, ضرب, طير, سود, عمل...  \n",
      "14  [رجع, صفي, ربح, شرك, جبل, عمر, عام, صرم, نسب, ...  \n",
      "15  [جهل, دير, فني, لمانشستر, ديفيد, نصح, همة, وجه...  \n",
      "16  [كشف, جزر, دول, درس, هجم, ندي, كورتر, بلج, عرض...  \n",
      "17  [ربم, عكس, نفس, حدم, رجو, رمس, لعب, جيرار, بيك...  \n",
      "18  [بدأ, شرك, نفط, بريطانية, هولند, رويال, شل, عم...  \n",
      "19  [وصل, فنن, لهم, علي, كوت, قدم, جدة, جزت, صور, ...  \n"
     ]
    }
   ],
   "source": [
    "from nltk.stem import WordNetLemmatizer\n",
    "from nltk.stem.isri import ISRIStemmer\n",
    "nltk.download('wordnet')\n",
    "nltk.download('omw-1.4')\n",
    "nltk.download('punkt')\n",
    "# Define a lemmatizer\n",
    "lemmatizer = WordNetLemmatizer()\n",
    "# Define a function to lemmatize each token in the tokenized text\n",
    "def lemmatize(arabic_tokens):\n",
    "    return [lemmatizer.lemmatize(word) for word in arabic_tokens]\n",
    "\n",
    "# Apply lemmatizer to the tokenized 'text'\n",
    "data['lemmatized'] = data['tokenized'].apply(lemmatize)\n",
    "\n",
    "# Define an instance of the ISRIStemmer\n",
    "stemmer = ISRIStemmer()\n",
    "\n",
    "# Lemmatize each word using the ISRIStemmer\n",
    "def stematize(arabic_tokens):\n",
    "    return [stemmer.stem(word) for word in arabic_tokens]\n",
    "data['stematized'] = data['lemmatized'].apply(stematize)\n",
    "\n",
    "# Define a lambda function to display both the original, tokenized, and lemmatized text\n",
    "display_func = lambda x: pd.Series({'Original Text': x['text'], 'Tokenized Text': x['tokenized'], 'Lemmatized Text': x['lemmatized'],\n",
    "                                    'stematization Text': x['stematized']})\n",
    "\n",
    "\n",
    "# Apply the display function to the first 12 rows of the DataFrame\n",
    "display_data = data.head(20).apply(display_func, axis=1)\n",
    "print(display_data)\n"
   ]
  },
  {
   "cell_type": "markdown",
   "metadata": {
    "id": "t1C9uspVRyQ6"
   },
   "source": []
  },
  {
   "cell_type": "code",
   "execution_count": 19,
   "metadata": {
    "colab": {
     "base_uri": "https://localhost:8080/",
     "height": 337
    },
    "id": "FTq4KCz6ReB9",
    "outputId": "d10337dd-0c76-4672-aff0-6cde1965de2b"
   },
   "outputs": [
    {
     "data": {
      "text/html": [
       "\n",
       "  <div id=\"df-6e5dd6ef-4485-4196-bff2-e155d1cf8021\">\n",
       "    <div class=\"colab-df-container\">\n",
       "      <div>\n",
       "<style scoped>\n",
       "    .dataframe tbody tr th:only-of-type {\n",
       "        vertical-align: middle;\n",
       "    }\n",
       "\n",
       "    .dataframe tbody tr th {\n",
       "        vertical-align: top;\n",
       "    }\n",
       "\n",
       "    .dataframe thead th {\n",
       "        text-align: right;\n",
       "    }\n",
       "</style>\n",
       "<table border=\"1\" class=\"dataframe\">\n",
       "  <thead>\n",
       "    <tr style=\"text-align: right;\">\n",
       "      <th></th>\n",
       "      <th>text</th>\n",
       "      <th>label</th>\n",
       "      <th>tokenized</th>\n",
       "      <th>lemmatized</th>\n",
       "      <th>stematized</th>\n",
       "      <th>encodedLabel</th>\n",
       "    </tr>\n",
       "  </thead>\n",
       "  <tbody>\n",
       "    <tr>\n",
       "      <th>0</th>\n",
       "      <td>أخفق وزراء الخزانة والمال لدول الاتحاد الأوروب...</td>\n",
       "      <td>Finance</td>\n",
       "      <td>[أخفق, وزراء, الخزانة, والمال, لدول, الاتحاد, ...</td>\n",
       "      <td>[أخفق, وزراء, الخزانة, والمال, لدول, الاتحاد, ...</td>\n",
       "      <td>[خفق, زرء, خزن, مال, لدل, تحد, ورب, عقب, لسل, ...</td>\n",
       "      <td>1</td>\n",
       "    </tr>\n",
       "    <tr>\n",
       "      <th>1</th>\n",
       "      <td>وجّه الروماني لورينتو ريجيكامب مدرب الهلال رسا...</td>\n",
       "      <td>Sports</td>\n",
       "      <td>[وجّه, الروماني, لورينتو, ريجيكامب, مدرب, الهل...</td>\n",
       "      <td>[وجّه, الروماني, لورينتو, ريجيكامب, مدرب, الهل...</td>\n",
       "      <td>[وجه, روم, رينتو, ريجيكامب, درب, هلل, رسل, وضح...</td>\n",
       "      <td>4</td>\n",
       "    </tr>\n",
       "    <tr>\n",
       "      <th>2</th>\n",
       "      <td>من أجل اتباع نظام غذائي صحي خلال شهر رمضان يتو...</td>\n",
       "      <td>Medical</td>\n",
       "      <td>[اتباع, نظام, غذائي, صحي, خلال, شهر, رمضان, يت...</td>\n",
       "      <td>[اتباع, نظام, غذائي, صحي, خلال, شهر, رمضان, يت...</td>\n",
       "      <td>[تبع, نظم, غذي, صحي, خلل, شهر, رمض, وجب, قسم, ...</td>\n",
       "      <td>2</td>\n",
       "    </tr>\n",
       "    <tr>\n",
       "      <th>3</th>\n",
       "      <td>حذرت إيطاليا تجار النفط من احتمال مواجهة إجراء...</td>\n",
       "      <td>Finance</td>\n",
       "      <td>[حذرت, إيطاليا, تجار, النفط, احتمال, مواجهة, إ...</td>\n",
       "      <td>[حذرت, إيطاليا, تجار, النفط, احتمال, مواجهة, إ...</td>\n",
       "      <td>[حذر, يطل, تجر, نفط, حمل, وجه, جرء, قنو, جنب, ...</td>\n",
       "      <td>1</td>\n",
       "    </tr>\n",
       "    <tr>\n",
       "      <th>4</th>\n",
       "      <td>أعلنت خدمة الإعلانات \"آد وردز\" AdWords التابعة...</td>\n",
       "      <td>Tech</td>\n",
       "      <td>[أعلنت, خدمة, الإعلانات, آد, وردز, التابعة, لش...</td>\n",
       "      <td>[أعلنت, خدمة, الإعلانات, آد, وردز, التابعة, لش...</td>\n",
       "      <td>[اعل, خدم, علن, اد, ردز, ابع, لشر, غوغل, انه, ...</td>\n",
       "      <td>5</td>\n",
       "    </tr>\n",
       "  </tbody>\n",
       "</table>\n",
       "</div>\n",
       "      <button class=\"colab-df-convert\" onclick=\"convertToInteractive('df-6e5dd6ef-4485-4196-bff2-e155d1cf8021')\"\n",
       "              title=\"Convert this dataframe to an interactive table.\"\n",
       "              style=\"display:none;\">\n",
       "        \n",
       "  <svg xmlns=\"http://www.w3.org/2000/svg\" height=\"24px\"viewBox=\"0 0 24 24\"\n",
       "       width=\"24px\">\n",
       "    <path d=\"M0 0h24v24H0V0z\" fill=\"none\"/>\n",
       "    <path d=\"M18.56 5.44l.94 2.06.94-2.06 2.06-.94-2.06-.94-.94-2.06-.94 2.06-2.06.94zm-11 1L8.5 8.5l.94-2.06 2.06-.94-2.06-.94L8.5 2.5l-.94 2.06-2.06.94zm10 10l.94 2.06.94-2.06 2.06-.94-2.06-.94-.94-2.06-.94 2.06-2.06.94z\"/><path d=\"M17.41 7.96l-1.37-1.37c-.4-.4-.92-.59-1.43-.59-.52 0-1.04.2-1.43.59L10.3 9.45l-7.72 7.72c-.78.78-.78 2.05 0 2.83L4 21.41c.39.39.9.59 1.41.59.51 0 1.02-.2 1.41-.59l7.78-7.78 2.81-2.81c.8-.78.8-2.07 0-2.86zM5.41 20L4 18.59l7.72-7.72 1.47 1.35L5.41 20z\"/>\n",
       "  </svg>\n",
       "      </button>\n",
       "      \n",
       "  <style>\n",
       "    .colab-df-container {\n",
       "      display:flex;\n",
       "      flex-wrap:wrap;\n",
       "      gap: 12px;\n",
       "    }\n",
       "\n",
       "    .colab-df-convert {\n",
       "      background-color: #E8F0FE;\n",
       "      border: none;\n",
       "      border-radius: 50%;\n",
       "      cursor: pointer;\n",
       "      display: none;\n",
       "      fill: #1967D2;\n",
       "      height: 32px;\n",
       "      padding: 0 0 0 0;\n",
       "      width: 32px;\n",
       "    }\n",
       "\n",
       "    .colab-df-convert:hover {\n",
       "      background-color: #E2EBFA;\n",
       "      box-shadow: 0px 1px 2px rgba(60, 64, 67, 0.3), 0px 1px 3px 1px rgba(60, 64, 67, 0.15);\n",
       "      fill: #174EA6;\n",
       "    }\n",
       "\n",
       "    [theme=dark] .colab-df-convert {\n",
       "      background-color: #3B4455;\n",
       "      fill: #D2E3FC;\n",
       "    }\n",
       "\n",
       "    [theme=dark] .colab-df-convert:hover {\n",
       "      background-color: #434B5C;\n",
       "      box-shadow: 0px 1px 3px 1px rgba(0, 0, 0, 0.15);\n",
       "      filter: drop-shadow(0px 1px 2px rgba(0, 0, 0, 0.3));\n",
       "      fill: #FFFFFF;\n",
       "    }\n",
       "  </style>\n",
       "\n",
       "      <script>\n",
       "        const buttonEl =\n",
       "          document.querySelector('#df-6e5dd6ef-4485-4196-bff2-e155d1cf8021 button.colab-df-convert');\n",
       "        buttonEl.style.display =\n",
       "          google.colab.kernel.accessAllowed ? 'block' : 'none';\n",
       "\n",
       "        async function convertToInteractive(key) {\n",
       "          const element = document.querySelector('#df-6e5dd6ef-4485-4196-bff2-e155d1cf8021');\n",
       "          const dataTable =\n",
       "            await google.colab.kernel.invokeFunction('convertToInteractive',\n",
       "                                                     [key], {});\n",
       "          if (!dataTable) return;\n",
       "\n",
       "          const docLinkHtml = 'Like what you see? Visit the ' +\n",
       "            '<a target=\"_blank\" href=https://colab.research.google.com/notebooks/data_table.ipynb>data table notebook</a>'\n",
       "            + ' to learn more about interactive tables.';\n",
       "          element.innerHTML = '';\n",
       "          dataTable['output_type'] = 'display_data';\n",
       "          await google.colab.output.renderOutput(dataTable, element);\n",
       "          const docLink = document.createElement('div');\n",
       "          docLink.innerHTML = docLinkHtml;\n",
       "          element.appendChild(docLink);\n",
       "        }\n",
       "      </script>\n",
       "    </div>\n",
       "  </div>\n",
       "  "
      ],
      "text/plain": [
       "                                                text    label  \\\n",
       "0  أخفق وزراء الخزانة والمال لدول الاتحاد الأوروب...  Finance   \n",
       "1  وجّه الروماني لورينتو ريجيكامب مدرب الهلال رسا...   Sports   \n",
       "2  من أجل اتباع نظام غذائي صحي خلال شهر رمضان يتو...  Medical   \n",
       "3  حذرت إيطاليا تجار النفط من احتمال مواجهة إجراء...  Finance   \n",
       "4  أعلنت خدمة الإعلانات \"آد وردز\" AdWords التابعة...     Tech   \n",
       "\n",
       "                                           tokenized  \\\n",
       "0  [أخفق, وزراء, الخزانة, والمال, لدول, الاتحاد, ...   \n",
       "1  [وجّه, الروماني, لورينتو, ريجيكامب, مدرب, الهل...   \n",
       "2  [اتباع, نظام, غذائي, صحي, خلال, شهر, رمضان, يت...   \n",
       "3  [حذرت, إيطاليا, تجار, النفط, احتمال, مواجهة, إ...   \n",
       "4  [أعلنت, خدمة, الإعلانات, آد, وردز, التابعة, لش...   \n",
       "\n",
       "                                          lemmatized  \\\n",
       "0  [أخفق, وزراء, الخزانة, والمال, لدول, الاتحاد, ...   \n",
       "1  [وجّه, الروماني, لورينتو, ريجيكامب, مدرب, الهل...   \n",
       "2  [اتباع, نظام, غذائي, صحي, خلال, شهر, رمضان, يت...   \n",
       "3  [حذرت, إيطاليا, تجار, النفط, احتمال, مواجهة, إ...   \n",
       "4  [أعلنت, خدمة, الإعلانات, آد, وردز, التابعة, لش...   \n",
       "\n",
       "                                          stematized  encodedLabel  \n",
       "0  [خفق, زرء, خزن, مال, لدل, تحد, ورب, عقب, لسل, ...             1  \n",
       "1  [وجه, روم, رينتو, ريجيكامب, درب, هلل, رسل, وضح...             4  \n",
       "2  [تبع, نظم, غذي, صحي, خلل, شهر, رمض, وجب, قسم, ...             2  \n",
       "3  [حذر, يطل, تجر, نفط, حمل, وجه, جرء, قنو, جنب, ...             1  \n",
       "4  [اعل, خدم, علن, اد, ردز, ابع, لشر, غوغل, انه, ...             5  "
      ]
     },
     "execution_count": 19,
     "metadata": {},
     "output_type": "execute_result"
    }
   ],
   "source": [
    "from sklearn.preprocessing import LabelEncoder\n",
    "label_encoder = LabelEncoder()\n",
    "data['encodedLabel'] = label_encoder.fit_transform(data['label'])\n",
    "\n",
    "data.head()"
   ]
  },
  {
   "cell_type": "code",
   "execution_count": 20,
   "metadata": {
    "id": "jD1E_p1YSIBT"
   },
   "outputs": [],
   "source": [
    "data.to_csv(r'./textClass_csv.csv', index = False)"
   ]
  },
  {
   "cell_type": "code",
   "execution_count": 21,
   "metadata": {
    "colab": {
     "base_uri": "https://localhost:8080/"
    },
    "id": "DdlPQf85SIFC",
    "outputId": "129a6707-17e8-459e-ce9a-8a165d7febac"
   },
   "outputs": [
    {
     "data": {
      "text/plain": [
       "1    30063\n",
       "4    23057\n",
       "0     5619\n",
       "5     4409\n",
       "3     4347\n",
       "2     3715\n",
       "Name: encodedLabel, dtype: int64"
      ]
     },
     "execution_count": 21,
     "metadata": {},
     "output_type": "execute_result"
    }
   ],
   "source": [
    "data['encodedLabel'].value_counts()"
   ]
  },
  {
   "cell_type": "code",
   "execution_count": 22,
   "metadata": {
    "id": "caJiutndSIK6"
   },
   "outputs": [],
   "source": [
    "X = data['lemmatized'] \n",
    "Y = data['encodedLabel']"
   ]
  },
  {
   "cell_type": "code",
   "execution_count": 23,
   "metadata": {
    "colab": {
     "base_uri": "https://localhost:8080/"
    },
    "id": "3Fwb1-xgTbTB",
    "outputId": "24acc61b-462b-4ffe-840b-cac67aee6dd3"
   },
   "outputs": [
    {
     "name": "stdout",
     "output_type": "stream",
     "text": [
      "6\n"
     ]
    }
   ],
   "source": [
    "number_of_labels = np.max(Y) + 1\n",
    "print(number_of_labels)"
   ]
  },
  {
   "cell_type": "code",
   "execution_count": 24,
   "metadata": {
    "colab": {
     "base_uri": "https://localhost:8080/"
    },
    "id": "jBYUmbKWSIOb",
    "outputId": "92c0f10c-c3fc-4563-9e61-267ab86fb814"
   },
   "outputs": [
    {
     "name": "stdout",
     "output_type": "stream",
     "text": [
      "Training Data Shape: (56968,)\n",
      "Testing Data Shape:  (14242,)\n"
     ]
    },
    {
     "data": {
      "text/plain": [
       "1    24029\n",
       "4    18385\n",
       "0     4541\n",
       "5     3532\n",
       "3     3491\n",
       "2     2990\n",
       "Name: encodedLabel, dtype: int64"
      ]
     },
     "execution_count": 24,
     "metadata": {},
     "output_type": "execute_result"
    }
   ],
   "source": [
    "from sklearn.model_selection import train_test_split\n",
    "\n",
    "X_train, X_test, y_train, y_test = train_test_split(X, Y, test_size=0.2, random_state=42)\n",
    "\n",
    "print('Training Data Shape:', X_train.shape)\n",
    "print('Testing Data Shape: ', X_test.shape)\n",
    "y_train.value_counts()"
   ]
  },
  {
   "cell_type": "code",
   "execution_count": 25,
   "metadata": {
    "id": "GWKM0XR5SISD"
   },
   "outputs": [],
   "source": [
    "from keras.layers import Dropout, Dense, GRU, Embedding, Flatten\n",
    "from keras.models import Sequential\n",
    "from sklearn.feature_extraction.text import TfidfVectorizer\n",
    "import numpy as np\n",
    "from sklearn import metrics\n",
    "from keras.preprocessing.text import Tokenizer\n",
    "#from keras.preprocessing.sequence import pad_sequences\n",
    "from keras.utils import pad_sequences"
   ]
  },
  {
   "cell_type": "code",
   "execution_count": 26,
   "metadata": {
    "colab": {
     "base_uri": "https://localhost:8080/"
    },
    "id": "NoNJRn0RSIVf",
    "outputId": "04410d74-6daf-4578-efe3-65bf91c3d86f"
   },
   "outputs": [
    {
     "name": "stdout",
     "output_type": "stream",
     "text": [
      "Found 277164 unique tokens.\n"
     ]
    }
   ],
   "source": [
    "MAX_NB_WORDS = 20000\n",
    "\n",
    "# get the raw text data\n",
    "texts_train = X_train.astype(str)\n",
    "text_test=X_test.astype(str)\n",
    "# finally, vectorize the text samples into a 2D integer tensor\n",
    "tokenizer = Tokenizer(nb_words=MAX_NB_WORDS,\n",
    "                      char_level=False,\n",
    "                       filters='”،,.\":!\"{#$%&()*+,-./:;<=>?@[\\]^_`{|}\\t\\n',)\n",
    "tokenizer.fit_on_texts(texts_train)\n",
    "sequences = tokenizer.texts_to_sequences(texts_train)\n",
    "sequences_test = tokenizer.texts_to_sequences(text_test)\n",
    "\n",
    "word_index = tokenizer.word_index\n",
    "print('Found %s unique tokens.' % len(word_index))"
   ]
  },
  {
   "cell_type": "code",
   "execution_count": 27,
   "metadata": {
    "id": "g-yTsf0USIZa"
   },
   "outputs": [],
   "source": [
    "x_train = pad_sequences(sequences, maxlen=300)\n",
    "x_test = pad_sequences(sequences_test, maxlen=300)"
   ]
  },
  {
   "cell_type": "markdown",
   "metadata": {
    "id": "5rdtgOCJTAKr"
   },
   "source": [
    "\n",
    "\n",
    "\n",
    "<h1 style=\"color:#3f8088; font-style:italic; font-family:Cursive;\"> <center>Recurrent Neural Networks (RNN) with KerasTunner</center> </h1>\n",
    "\n",
    " "
   ]
  },
  {
   "cell_type": "code",
   "execution_count": 36,
   "metadata": {
    "colab": {
     "base_uri": "https://localhost:8080/"
    },
    "id": "QoIRPTtjS6mi",
    "outputId": "d5698aec-7377-4853-b42c-523c83d03ebf"
   },
   "outputs": [
    {
     "name": "stdout",
     "output_type": "stream",
     "text": [
      "Epoch 1/10\n",
      "1425/1425 [==============================] - 178s 123ms/step - loss: 0.6118 - accuracy: 0.7629 - val_loss: 0.4396 - val_accuracy: 0.8147\n",
      "Epoch 2/10\n",
      "1425/1425 [==============================] - 76s 54ms/step - loss: 0.3755 - accuracy: 0.8620 - val_loss: 0.3124 - val_accuracy: 0.8790\n",
      "Epoch 3/10\n",
      "1425/1425 [==============================] - 62s 44ms/step - loss: 0.3741 - accuracy: 0.8785 - val_loss: 0.2387 - val_accuracy: 0.9203\n",
      "Epoch 4/10\n",
      "1425/1425 [==============================] - 58s 41ms/step - loss: 0.1689 - accuracy: 0.9539 - val_loss: 0.1656 - val_accuracy: 0.9552\n",
      "Epoch 5/10\n",
      "1425/1425 [==============================] - 56s 39ms/step - loss: 0.0907 - accuracy: 0.9775 - val_loss: 0.1183 - val_accuracy: 0.9697\n",
      "Epoch 6/10\n",
      "1425/1425 [==============================] - 57s 40ms/step - loss: 0.0710 - accuracy: 0.9828 - val_loss: 0.1231 - val_accuracy: 0.9708\n",
      "Epoch 7/10\n",
      "1425/1425 [==============================] - 58s 41ms/step - loss: 0.0482 - accuracy: 0.9882 - val_loss: 0.1229 - val_accuracy: 0.9713\n",
      "Epoch 8/10\n",
      "1425/1425 [==============================] - 57s 40ms/step - loss: 0.0440 - accuracy: 0.9903 - val_loss: 0.1223 - val_accuracy: 0.9746\n",
      "Epoch 9/10\n",
      "1425/1425 [==============================] - 57s 40ms/step - loss: 0.0337 - accuracy: 0.9925 - val_loss: 0.1711 - val_accuracy: 0.9706\n",
      "Epoch 10/10\n",
      "1425/1425 [==============================] - 58s 41ms/step - loss: 0.0252 - accuracy: 0.9942 - val_loss: 0.1146 - val_accuracy: 0.9741\n"
     ]
    }
   ],
   "source": [
    "import tensorflow as tf\n",
    "from tensorflow import keras\n",
    "from keras import layers\n",
    "from kerastuner.tuners import RandomSearch\n",
    "from keras.utils import to_categorical\n",
    "\n",
    "def build_rnn_model(hp):\n",
    "    vocab_size = 10000  # Replace with your actual vocabulary size\n",
    "    maxlen = 300  # Replace with your actual maximum sequence length\n",
    "    embedding_dim = hp.Int('embedding_dim', min_value=32, max_value=512, step=32)\n",
    "    lstm_units = hp.Int('lstm_units', min_value=32, max_value=512, step=32)\n",
    "  \n",
    "\n",
    "    model = keras.Sequential()\n",
    "    model.add(layers.Embedding(vocab_size, embedding_dim, input_length=maxlen))\n",
    "    model.add(layers.LSTM(units=lstm_units))\n",
    "    model.add(layers.Dense(number_of_labels, activation='sigmoid'))\n",
    "\n",
    "    model.compile(\n",
    "        optimizer=keras.optimizers.Adam(\n",
    "            hp.Choice('learning_rate', values=[1e-2, 1e-3, 1e-4])\n",
    "        ),\n",
    "        loss='categorical_crossentropy',\n",
    "        metrics=['accuracy']\n",
    "    )\n",
    "\n",
    "    return model\n",
    "\n",
    "# Define the search space for hyperparameters\n",
    "tuner = RandomSearch(\n",
    "    build_rnn_model,\n",
    "    objective='val_accuracy',\n",
    "    max_trials=5,\n",
    "    executions_per_trial=1,\n",
    "    directory='my_dir',\n",
    "    project_name='my_project'\n",
    ")\n",
    "y_train = to_categorical(y_train,number_of_labels)\n",
    "y_test = to_categorical(y_test, number_of_labels)\n",
    "# Perform the hyperparameter search\n",
    "tuner.search(x=x_train, y=y_train, epochs=5, validation_data=(x_test, y_test))\n",
    "\n",
    "# Get the best hyperparameters and retrain the model on all data\n",
    "best_hp = tuner.get_best_hyperparameters()[0]\n",
    "model = build_rnn_model(best_hp)\n",
    "history=model.fit(x_train, y_train, epochs=10, validation_split=0.2)\n"
   ]
  },
  {
   "cell_type": "code",
   "execution_count": 37,
   "metadata": {
    "colab": {
     "base_uri": "https://localhost:8080/",
     "height": 541
    },
    "id": "BC8spsQvUWfp",
    "outputId": "8e4fc9f8-64bc-438d-e229-3988253fe560"
   },
   "outputs": [
    {
     "data": {
      "image/png": "[encoded data removed]",
      "text/plain": [
       "<Figure size 432x288 with 1 Axes>"
      ]
     },
     "metadata": {
      "needs_background": "light"
     },
     "output_type": "display_data"
    },
    {
     "data": {
      "image/png": "[encoded data removed]",
      "text/plain": [
       "<Figure size 432x288 with 1 Axes>"
      ]
     },
     "metadata": {
      "needs_background": "light"
     },
     "output_type": "display_data"
    }
   ],
   "source": [
    "def plot_graphs(history, string):\n",
    "  plt.plot(history.history[string])\n",
    "  plt.plot(history.history['val_'+string])\n",
    "  plt.xlabel(\"Epochs\")\n",
    "  plt.ylabel(string)\n",
    "  plt.legend([string, 'val_'+string])\n",
    "  plt.show()\n",
    "  \n",
    "plot_graphs(history, \"accuracy\")\n",
    "plot_graphs(history, \"loss\")\n",
    "  "
   ]
  },
  {
   "cell_type": "code",
   "execution_count": 38,
   "metadata": {
    "colab": {
     "base_uri": "https://localhost:8080/"
    },
    "id": "sa-ciXZQE_du",
    "outputId": "99877ef3-bc47-4e9e-af41-dc16e9d231c3"
   },
   "outputs": [
    {
     "name": "stdout",
     "output_type": "stream",
     "text": [
      "223/223 [==============================] - 6s 25ms/step - loss: 0.1079 - accuracy: 0.9746\n",
      "Test loss: 0.1079317107796669\n",
      "Test accuracy: 0.9745821952819824\n"
     ]
    }
   ],
   "source": [
    "# Evaluate the accuracy of our trained model\n",
    "score = model.evaluate(x_test, y_test,\n",
    "                       batch_size=64, verbose=1)\n",
    "print('Test loss:', score[0])\n",
    "print('Test accuracy:', score[1])"
   ]
  },
  {
   "cell_type": "markdown",
   "metadata": {
    "id": "N9zYYwpKUPNC"
   },
   "source": [
    "\n",
    "\n",
    "\n",
    "<h1 style=\"color:#3f8088; font-style:italic; font-family:Cursive;\"> <center>Convolutional Neural Networks (CNN) with KeraStuner</center> </h1>\n",
    "\n",
    " "
   ]
  },
  {
   "cell_type": "code",
   "execution_count": 41,
   "metadata": {
    "colab": {
     "base_uri": "https://localhost:8080/"
    },
    "id": "ZYiB4gPXCGVl",
    "outputId": "6319e095-590a-45d6-fc7e-53e9c1e7aae2"
   },
   "outputs": [
    {
     "name": "stdout",
     "output_type": "stream",
     "text": [
      "Search space summary\n",
      "Default search space size: 1\n",
      "dropout (Float)\n",
      "{'default': 0.1, 'conditions': [], 'min_value': 0.1, 'max_value': 0.5, 'step': 0.1, 'sampling': 'linear'}\n",
      "Results summary\n",
      "Results in my_dir/helloworld\n",
      "Showing 10 best trials\n",
      "<keras_tuner.engine.objective.Objective object at 0x7f5065ed8760>\n",
      "Trial summary\n",
      "Hyperparameters:\n",
      "dropout: 0.5\n",
      "Score: 0.9604287147521973\n",
      "Trial summary\n",
      "Hyperparameters:\n",
      "dropout: 0.4\n",
      "Score: 0.9602912664413452\n",
      "Trial summary\n",
      "Hyperparameters:\n",
      "dropout: 0.2\n",
      "Score: 0.9539708495140076\n",
      "Filter   5\n",
      "Epoch 1/10\n",
      "1425/1425 [==============================] - 154s 100ms/step - loss: 0.7780 - accuracy: 0.6866 - val_loss: 0.4600 - val_accuracy: 0.8374\n",
      "Epoch 2/10\n",
      "1425/1425 [==============================] - 56s 39ms/step - loss: 0.1572 - accuracy: 0.9552 - val_loss: 0.2295 - val_accuracy: 0.9300\n",
      "Epoch 3/10\n",
      "1425/1425 [==============================] - 36s 26ms/step - loss: 0.1007 - accuracy: 0.9720 - val_loss: 0.1700 - val_accuracy: 0.9536\n",
      "Epoch 4/10\n",
      "1425/1425 [==============================] - 36s 25ms/step - loss: 0.0753 - accuracy: 0.9797 - val_loss: 0.1798 - val_accuracy: 0.9476\n",
      "Epoch 5/10\n",
      "1425/1425 [==============================] - 33s 23ms/step - loss: 0.0574 - accuracy: 0.9847 - val_loss: 0.1278 - val_accuracy: 0.9644\n",
      "Epoch 6/10\n",
      "1425/1425 [==============================] - 31s 22ms/step - loss: 0.0466 - accuracy: 0.9881 - val_loss: 0.1366 - val_accuracy: 0.9631\n",
      "Epoch 7/10\n",
      "1425/1425 [==============================] - 31s 22ms/step - loss: 0.0507 - accuracy: 0.9864 - val_loss: 0.2254 - val_accuracy: 0.9327\n",
      "Epoch 8/10\n",
      "1425/1425 [==============================] - 28s 20ms/step - loss: 0.0491 - accuracy: 0.9866 - val_loss: 0.1806 - val_accuracy: 0.9564\n",
      "Epoch 9/10\n",
      "1425/1425 [==============================] - 30s 21ms/step - loss: 0.0393 - accuracy: 0.9901 - val_loss: 0.2919 - val_accuracy: 0.9330\n",
      "Epoch 10/10\n",
      "1425/1425 [==============================] - 29s 20ms/step - loss: 0.0332 - accuracy: 0.9920 - val_loss: 0.1549 - val_accuracy: 0.9659\n"
     ]
    }
   ],
   "source": [
    "from tensorflow import keras\n",
    "from keras import layers\n",
    "from kerastuner.tuners import RandomSearch\n",
    "from keras.utils import to_categorical\n",
    "\n",
    "def build_model_cnn_text(hp):\n",
    "    MAX_SEQUENCE_LENGTH = 300\n",
    "    EMBEDDING_DIM = 50\n",
    "    \n",
    "    layer = 5\n",
    "    print(\"Filter  \", layer)\n",
    "    filter_sizes = []\n",
    "    for fl in range(0, layer):\n",
    "        filter_sizes.append((fl+2))\n",
    "\n",
    "    node = 128\n",
    "    \n",
    "    sequence_input = keras.Input(shape=(MAX_SEQUENCE_LENGTH,), dtype='int32')\n",
    "    \n",
    "    # Define hyperparameters\n",
    "    embedding_matrix = np.random.random((len(word_index) + 1, EMBEDDING_DIM))\n",
    "    dropout = hp.Float('dropout', 0.1, 0.5, step=0.1)\n",
    "\n",
    "    embedding_layer = layers.Embedding(len(word_index) + 1,\n",
    "                                       EMBEDDING_DIM,\n",
    "                                       weights=[embedding_matrix],\n",
    "                                       input_length=MAX_SEQUENCE_LENGTH,\n",
    "                                       trainable=True)\n",
    "\n",
    "    convs = []\n",
    "    embedded_sequences = embedding_layer(sequence_input)\n",
    "    \n",
    "    for fsz in filter_sizes:\n",
    "        l_conv = layers.Conv1D(node, kernel_size=fsz, activation='relu')(embedded_sequences)\n",
    "        l_pool = layers.MaxPooling1D(5)(l_conv)\n",
    "        convs.append(l_pool)\n",
    "\n",
    "    l_merge = layers.Concatenate(axis=1)(convs)\n",
    "    l_cov1 = layers.Conv1D(node, 5, activation='relu')(l_merge)\n",
    "    l_cov1 = layers.Dropout(dropout)(l_cov1)\n",
    "    l_pool1 = layers.MaxPooling1D(5)(l_cov1)\n",
    "    l_cov2 = layers.Conv1D(node, 5, activation='relu')(l_pool1)\n",
    "    l_cov2 = layers.Dropout(dropout)(l_cov2)\n",
    "    l_pool2 = layers.MaxPooling1D(30)(l_cov2)\n",
    "    l_flat = layers.Flatten()(l_pool2)\n",
    "    l_dense = layers.Dense(1024, activation='relu')(l_flat)\n",
    "    l_dense = layers.Dropout(dropout)(l_dense)\n",
    "    l_dense = layers.Dense(512, activation='relu')(l_dense)\n",
    "    l_dense = layers.Dropout(dropout)(l_dense)\n",
    "    preds = layers.Dense(number_of_labels, activation='softmax')(l_dense)\n",
    "    model = keras.Model(sequence_input, preds)\n",
    "\n",
    "    model.compile(loss='categorical_crossentropy',\n",
    "                  optimizer='adam',\n",
    "                  metrics=['accuracy'])\n",
    "\n",
    "    return model\n",
    "\n",
    "tuner = RandomSearch(\n",
    "    build_model_cnn_text,\n",
    "    objective='val_accuracy',\n",
    "    max_trials=5,\n",
    "    executions_per_trial=1,\n",
    "    directory='my_dir',\n",
    "    project_name='helloworld')\n",
    "\n",
    "# y_train = to_categorical(y_train,number_of_labels)\n",
    "# y_test = to_categorical(y_test, number_of_labels)\n",
    "\n",
    "tuner.search_space_summary()\n",
    "\n",
    "tuner.search(x_train, y_train,\n",
    "             epochs=10,\n",
    "             validation_split=0.2)\n",
    "\n",
    "\n",
    "tuner.results_summary()\n",
    "\n",
    "\n",
    "# Get the best hyperparameters and retrain the model on all data\n",
    "best_hp = tuner.get_best_hyperparameters()[0]\n",
    "model = build_model_cnn_text(best_hp)\n",
    "history=model.fit(x_train, y_train, epochs=10, validation_split=0.2)"
   ]
  },
  {
   "cell_type": "code",
   "execution_count": 43,
   "metadata": {
    "colab": {
     "base_uri": "https://localhost:8080/",
     "height": 541
    },
    "id": "FyjJsuFzEToF",
    "outputId": "849c4b81-f197-4451-a0d3-73c9faa589f9"
   },
   "outputs": [
    {
     "data": {
      "image/png": "[encoded data removed]",
      "text/plain": [
       "<Figure size 432x288 with 1 Axes>"
      ]
     },
     "metadata": {
      "needs_background": "light"
     },
     "output_type": "display_data"
    },
    {
     "data": {
      "image/png": "[encoded data removed]",
      "text/plain": [
       "<Figure size 432x288 with 1 Axes>"
      ]
     },
     "metadata": {
      "needs_background": "light"
     },
     "output_type": "display_data"
    }
   ],
   "source": [
    "def plot_graphs(history, string):\n",
    "  plt.plot(history.history[string])\n",
    "  plt.plot(history.history['val_'+string])\n",
    "  plt.xlabel(\"Epochs\")\n",
    "  plt.ylabel(string)\n",
    "  plt.legend([string, 'val_'+string])\n",
    "  plt.show()\n",
    "  \n",
    "plot_graphs(history, \"accuracy\")\n",
    "plot_graphs(history, \"loss\")"
   ]
  },
  {
   "cell_type": "code",
   "execution_count": 42,
   "metadata": {
    "colab": {
     "base_uri": "https://localhost:8080/"
    },
    "id": "gTNb4PqRReFK",
    "outputId": "70ae20e2-2288-44f9-a18e-bf934467ad6b"
   },
   "outputs": [
    {
     "name": "stdout",
     "output_type": "stream",
     "text": [
      "223/223 [==============================] - 2s 9ms/step - loss: 0.1425 - accuracy: 0.9669\n",
      "Test loss: 0.14246200025081635\n",
      "Test accuracy: 0.9669287800788879\n"
     ]
    }
   ],
   "source": [
    "# Evaluate the accuracy of our trained model\n",
    "score = model.evaluate(x_test, y_test,\n",
    "                       batch_size=64, verbose=1)\n",
    "print('Test loss:', score[0])\n",
    "print('Test accuracy:', score[1])"
   ]
  },
  {
   "cell_type": "code",
   "execution_count": null,
   "metadata": {
    "id": "t_oemZnK9RKQ"
   },
   "outputs": [],
   "source": []
  }
 ],
 "metadata": {
  "accelerator": "GPU",
  "colab": {
   "provenance": []
  },
  "gpuClass": "standard",
  "kernelspec": {
   "display_name": "Python 3 (ipykernel)",
   "language": "python",
   "name": "python3"
  },
  "language_info": {
   "codemirror_mode": {
    "name": "ipython",
    "version": 3
   },
   "file_extension": ".py",
   "mimetype": "text/x-python",
   "name": "python",
   "nbconvert_exporter": "python",
   "pygments_lexer": "ipython3",
   "version": "3.10.8"
  }
 },
 "nbformat": 4,
 "nbformat_minor": 4
}
